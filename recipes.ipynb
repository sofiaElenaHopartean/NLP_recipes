{
  "nbformat": 4,
  "nbformat_minor": 0,
  "metadata": {
    "colab": {
      "name": "recipes.ipynb",
      "provenance": [],
      "collapsed_sections": [
        "HoLl_hvoHzU8"
      ],
      "mount_file_id": "1gWYo2XLkeYHTisHgYFDDRjPyk7cUOs9j",
      "authorship_tag": "ABX9TyPguxmdIQaIfGGvZv28uMqr",
      "include_colab_link": true
    },
    "kernelspec": {
      "name": "python3",
      "display_name": "Python 3"
    },
    "language_info": {
      "name": "python"
    }
  },
  "cells": [
    {
      "cell_type": "markdown",
      "metadata": {
        "id": "view-in-github",
        "colab_type": "text"
      },
      "source": [
        "<a href=\"https://colab.research.google.com/github/sofiaElenaHopartean/NLP_recipes/blob/main/recipes.ipynb\" target=\"_parent\"><img src=\"https://colab.research.google.com/assets/colab-badge.svg\" alt=\"Open In Colab\"/></a>"
      ]
    },
    {
      "cell_type": "markdown",
      "metadata": {
        "id": "NlHTD8A37srT"
      },
      "source": [
        "### Setup and imports"
      ]
    },
    {
      "cell_type": "code",
      "metadata": {
        "id": "LGC3r0iC7NiZ"
      },
      "source": [
        "# !python -m spacy download en_core_web_md\n",
        "# !python -m spacy download en_core_web_sm"
      ],
      "execution_count": null,
      "outputs": []
    },
    {
      "cell_type": "code",
      "metadata": {
        "id": "N9yAnn_-1VOo"
      },
      "source": [
        "import spacy\n",
        "\n",
        "nlp = spacy.load(\"en_core_web_sm\")"
      ],
      "execution_count": null,
      "outputs": []
    },
    {
      "cell_type": "code",
      "metadata": {
        "id": "XaUEU8KE7BOi"
      },
      "source": [
        "import pandas as pd\n",
        "import numpy as np\n",
        "import csv\n",
        "# import explacy\n",
        "from spacy import displacy\n",
        "from spacy.util import minibatch, compounding\n",
        "import random\n",
        "import time\n",
        "\n",
        "import matplotlib.pyplot as plt\n",
        "%matplotlib inline\n",
        "from sklearn.model_selection import train_test_split"
      ],
      "execution_count": null,
      "outputs": []
    },
    {
      "cell_type": "markdown",
      "metadata": {
        "id": "ogmqFY7z7vdR"
      },
      "source": [
        "### Dataset cleaning "
      ]
    },
    {
      "cell_type": "code",
      "metadata": {
        "colab": {
          "base_uri": "https://localhost:8080/",
          "height": 383
        },
        "id": "hpQtVedq7rwh",
        "outputId": "4ed472ea-6e1b-4d5b-8276-9c6a0376b263"
      },
      "source": [
        "recipes_df = pd.read_csv(\"drive/MyDrive/recipes.csv\", delimiter=\";\")\n",
        "recipes_df.head(3)"
      ],
      "execution_count": null,
      "outputs": [
        {
          "output_type": "execute_result",
          "data": {
            "text/html": [
              "<div>\n",
              "<style scoped>\n",
              "    .dataframe tbody tr th:only-of-type {\n",
              "        vertical-align: middle;\n",
              "    }\n",
              "\n",
              "    .dataframe tbody tr th {\n",
              "        vertical-align: top;\n",
              "    }\n",
              "\n",
              "    .dataframe thead th {\n",
              "        text-align: right;\n",
              "    }\n",
              "</style>\n",
              "<table border=\"1\" class=\"dataframe\">\n",
              "  <thead>\n",
              "    <tr style=\"text-align: right;\">\n",
              "      <th></th>\n",
              "      <th>Recipe Name</th>\n",
              "      <th>Review Count</th>\n",
              "      <th>Recipe Photo</th>\n",
              "      <th>Author</th>\n",
              "      <th>Prepare Time</th>\n",
              "      <th>Cook Time</th>\n",
              "      <th>Total Time</th>\n",
              "      <th>Ingredients</th>\n",
              "      <th>Directions</th>\n",
              "      <th>RecipeID</th>\n",
              "    </tr>\n",
              "  </thead>\n",
              "  <tbody>\n",
              "    <tr>\n",
              "      <th>0</th>\n",
              "      <td>Golden Crescent Rolls Recipe</td>\n",
              "      <td>304</td>\n",
              "      <td>https://images.media-allrecipes.com/userphotos...</td>\n",
              "      <td>Mike A.</td>\n",
              "      <td>25 m</td>\n",
              "      <td>15 m</td>\n",
              "      <td>3 h 10 m</td>\n",
              "      <td>yeast,water,white sugar,salt,egg,butter,flour,...</td>\n",
              "      <td>Dissolve yeast in warm water.**Stir in sugar, ...</td>\n",
              "      <td>7000</td>\n",
              "    </tr>\n",
              "    <tr>\n",
              "      <th>1</th>\n",
              "      <td>Poppy Seed Bread with Glaze Recipe</td>\n",
              "      <td>137</td>\n",
              "      <td>https://images.media-allrecipes.com/userphotos...</td>\n",
              "      <td>Christina Jun</td>\n",
              "      <td>15 m</td>\n",
              "      <td>1 h</td>\n",
              "      <td>1 h 20 m</td>\n",
              "      <td>flour,salt,baking powder,poppy,butter,vegetabl...</td>\n",
              "      <td>'Preheat oven to 350 degrees F (175 degrees C)...</td>\n",
              "      <td>7001</td>\n",
              "    </tr>\n",
              "    <tr>\n",
              "      <th>2</th>\n",
              "      <td>Applesauce Bread I Recipe</td>\n",
              "      <td>124</td>\n",
              "      <td>https://images.media-allrecipes.com/userphotos...</td>\n",
              "      <td>GAF55</td>\n",
              "      <td>10 m</td>\n",
              "      <td>1 h 20 m</td>\n",
              "      <td>1 h 30 m</td>\n",
              "      <td>flour,egg,white sugar,vegetable oil,applesauce...</td>\n",
              "      <td>Preheat oven to 350 degrees F (175 degrees C)....</td>\n",
              "      <td>7003</td>\n",
              "    </tr>\n",
              "  </tbody>\n",
              "</table>\n",
              "</div>"
            ],
            "text/plain": [
              "                           Recipe Name  ... RecipeID\n",
              "0        Golden Crescent Rolls Recipe   ...     7000\n",
              "1  Poppy Seed Bread with Glaze Recipe   ...     7001\n",
              "2           Applesauce Bread I Recipe   ...     7003\n",
              "\n",
              "[3 rows x 10 columns]"
            ]
          },
          "metadata": {},
          "execution_count": 3
        }
      ]
    },
    {
      "cell_type": "code",
      "metadata": {
        "colab": {
          "base_uri": "https://localhost:8080/",
          "height": 297
        },
        "id": "zwp4kl2d8Ci8",
        "outputId": "17fa2e67-c21f-4f6e-dcf1-d6da67f7010c"
      },
      "source": [
        "recipes_df.describe()"
      ],
      "execution_count": null,
      "outputs": [
        {
          "output_type": "execute_result",
          "data": {
            "text/html": [
              "<div>\n",
              "<style scoped>\n",
              "    .dataframe tbody tr th:only-of-type {\n",
              "        vertical-align: middle;\n",
              "    }\n",
              "\n",
              "    .dataframe tbody tr th {\n",
              "        vertical-align: top;\n",
              "    }\n",
              "\n",
              "    .dataframe thead th {\n",
              "        text-align: right;\n",
              "    }\n",
              "</style>\n",
              "<table border=\"1\" class=\"dataframe\">\n",
              "  <thead>\n",
              "    <tr style=\"text-align: right;\">\n",
              "      <th></th>\n",
              "      <th>RecipeID</th>\n",
              "    </tr>\n",
              "  </thead>\n",
              "  <tbody>\n",
              "    <tr>\n",
              "      <th>count</th>\n",
              "      <td>12351.000000</td>\n",
              "    </tr>\n",
              "    <tr>\n",
              "      <th>mean</th>\n",
              "      <td>16149.829326</td>\n",
              "    </tr>\n",
              "    <tr>\n",
              "      <th>std</th>\n",
              "      <td>5745.770833</td>\n",
              "    </tr>\n",
              "    <tr>\n",
              "      <th>min</th>\n",
              "      <td>7000.000000</td>\n",
              "    </tr>\n",
              "    <tr>\n",
              "      <th>25%</th>\n",
              "      <td>11150.500000</td>\n",
              "    </tr>\n",
              "    <tr>\n",
              "      <th>50%</th>\n",
              "      <td>15564.000000</td>\n",
              "    </tr>\n",
              "    <tr>\n",
              "      <th>75%</th>\n",
              "      <td>20889.500000</td>\n",
              "    </tr>\n",
              "    <tr>\n",
              "      <th>max</th>\n",
              "      <td>27546.000000</td>\n",
              "    </tr>\n",
              "  </tbody>\n",
              "</table>\n",
              "</div>"
            ],
            "text/plain": [
              "           RecipeID\n",
              "count  12351.000000\n",
              "mean   16149.829326\n",
              "std     5745.770833\n",
              "min     7000.000000\n",
              "25%    11150.500000\n",
              "50%    15564.000000\n",
              "75%    20889.500000\n",
              "max    27546.000000"
            ]
          },
          "metadata": {},
          "execution_count": 4
        }
      ]
    },
    {
      "cell_type": "code",
      "metadata": {
        "colab": {
          "base_uri": "https://localhost:8080/"
        },
        "id": "RQWciDNz9JHE",
        "outputId": "ac3d7c8a-5179-4854-c6a2-777c2ef694f7"
      },
      "source": [
        "recipes_df.info()"
      ],
      "execution_count": null,
      "outputs": [
        {
          "output_type": "stream",
          "name": "stdout",
          "text": [
            "<class 'pandas.core.frame.DataFrame'>\n",
            "RangeIndex: 12351 entries, 0 to 12350\n",
            "Data columns (total 10 columns):\n",
            " #   Column        Non-Null Count  Dtype \n",
            "---  ------        --------------  ----- \n",
            " 0   Recipe Name   12351 non-null  object\n",
            " 1   Review Count  12351 non-null  object\n",
            " 2   Recipe Photo  12351 non-null  object\n",
            " 3   Author        12351 non-null  object\n",
            " 4   Prepare Time  12351 non-null  object\n",
            " 5   Cook Time     12351 non-null  object\n",
            " 6   Total Time    12351 non-null  object\n",
            " 7   Ingredients   12351 non-null  object\n",
            " 8   Directions    12345 non-null  object\n",
            " 9   RecipeID      12351 non-null  int64 \n",
            "dtypes: int64(1), object(9)\n",
            "memory usage: 965.0+ KB\n"
          ]
        }
      ]
    },
    {
      "cell_type": "code",
      "metadata": {
        "colab": {
          "base_uri": "https://localhost:8080/"
        },
        "id": "4YbGg9LJ9Msz",
        "outputId": "aaa2f560-dadd-4841-e7b4-0915bf51e245"
      },
      "source": [
        "recipes_df.isnull().sum()"
      ],
      "execution_count": null,
      "outputs": [
        {
          "output_type": "execute_result",
          "data": {
            "text/plain": [
              "Recipe Name     0\n",
              "Review Count    0\n",
              "Recipe Photo    0\n",
              "Author          0\n",
              "Prepare Time    0\n",
              "Cook Time       0\n",
              "Total Time      0\n",
              "Ingredients     0\n",
              "Directions      6\n",
              "RecipeID        0\n",
              "dtype: int64"
            ]
          },
          "metadata": {},
          "execution_count": 6
        }
      ]
    },
    {
      "cell_type": "code",
      "metadata": {
        "colab": {
          "base_uri": "https://localhost:8080/",
          "height": 527
        },
        "id": "oMoMZoIC9jhM",
        "outputId": "54a6d40c-7b91-419f-ecc2-81aece2b7d42"
      },
      "source": [
        "recipes_df[recipes_df['Directions'].isna()]\n",
        "# recipes_df[recipes_df.isna().any(axis=1)]"
      ],
      "execution_count": null,
      "outputs": [
        {
          "output_type": "execute_result",
          "data": {
            "text/html": [
              "<div>\n",
              "<style scoped>\n",
              "    .dataframe tbody tr th:only-of-type {\n",
              "        vertical-align: middle;\n",
              "    }\n",
              "\n",
              "    .dataframe tbody tr th {\n",
              "        vertical-align: top;\n",
              "    }\n",
              "\n",
              "    .dataframe thead th {\n",
              "        text-align: right;\n",
              "    }\n",
              "</style>\n",
              "<table border=\"1\" class=\"dataframe\">\n",
              "  <thead>\n",
              "    <tr style=\"text-align: right;\">\n",
              "      <th></th>\n",
              "      <th>Recipe Name</th>\n",
              "      <th>Review Count</th>\n",
              "      <th>Recipe Photo</th>\n",
              "      <th>Author</th>\n",
              "      <th>Prepare Time</th>\n",
              "      <th>Cook Time</th>\n",
              "      <th>Total Time</th>\n",
              "      <th>Ingredients</th>\n",
              "      <th>Directions</th>\n",
              "      <th>RecipeID</th>\n",
              "    </tr>\n",
              "  </thead>\n",
              "  <tbody>\n",
              "    <tr>\n",
              "      <th>292</th>\n",
              "      <td>Sunshine Cake Recipe</td>\n",
              "      <td>9</td>\n",
              "      <td>https://images.media-allrecipes.com/userphotos...</td>\n",
              "      <td>Helga</td>\n",
              "      <td>X</td>\n",
              "      <td>X</td>\n",
              "      <td>X</td>\n",
              "      <td>egg,white sugar,water,flour,baking powder,salt...</td>\n",
              "      <td>NaN</td>\n",
              "      <td>7378</td>\n",
              "    </tr>\n",
              "    <tr>\n",
              "      <th>3818</th>\n",
              "      <td>Cherry Pie I Recipe</td>\n",
              "      <td>11</td>\n",
              "      <td>https://images.media-allrecipes.com/userphotos...</td>\n",
              "      <td>Cali</td>\n",
              "      <td>X</td>\n",
              "      <td>X</td>\n",
              "      <td>X</td>\n",
              "      <td>vanilla,gelatin,water,cherry,white sugar,corns...</td>\n",
              "      <td>NaN</td>\n",
              "      <td>12251</td>\n",
              "    </tr>\n",
              "    <tr>\n",
              "      <th>4320</th>\n",
              "      <td>Quick Clam Chowder Recipe</td>\n",
              "      <td>42</td>\n",
              "      <td>https://images.media-allrecipes.com/userphotos...</td>\n",
              "      <td>Lew Sweet</td>\n",
              "      <td>X</td>\n",
              "      <td>X</td>\n",
              "      <td>X</td>\n",
              "      <td>england,potato,celery,clam,onion,celery,margar...</td>\n",
              "      <td>NaN</td>\n",
              "      <td>12981</td>\n",
              "    </tr>\n",
              "    <tr>\n",
              "      <th>6238</th>\n",
              "      <td>Hot Clam Dip II Recipe</td>\n",
              "      <td>30</td>\n",
              "      <td>https://images.media-allrecipes.com/userphotos...</td>\n",
              "      <td>lara</td>\n",
              "      <td>X</td>\n",
              "      <td>X</td>\n",
              "      <td>X</td>\n",
              "      <td>bread,cream cheese,onion,beer,worcestershire s...</td>\n",
              "      <td>NaN</td>\n",
              "      <td>15648</td>\n",
              "    </tr>\n",
              "    <tr>\n",
              "      <th>9330</th>\n",
              "      <td>Chocolate Sausage (Salame di Cioccolato) Recipe</td>\n",
              "      <td>2</td>\n",
              "      <td>https://images.media-allrecipes.com/images/795...</td>\n",
              "      <td>Manuela</td>\n",
              "      <td>X</td>\n",
              "      <td>X</td>\n",
              "      <td>X</td>\n",
              "      <td>white sugar,egg,egg,butter,cocoa powder,cookie...</td>\n",
              "      <td>NaN</td>\n",
              "      <td>21002</td>\n",
              "    </tr>\n",
              "    <tr>\n",
              "      <th>10676</th>\n",
              "      <td>Oatmeal Kiss Cookies Recipe</td>\n",
              "      <td>6</td>\n",
              "      <td>https://images.media-allrecipes.com/userphotos...</td>\n",
              "      <td>HersheysKitchens.com</td>\n",
              "      <td>X</td>\n",
              "      <td>X</td>\n",
              "      <td>X</td>\n",
              "      <td>chocolate,butter,shortening,white sugar,brown ...</td>\n",
              "      <td>NaN</td>\n",
              "      <td>24031</td>\n",
              "    </tr>\n",
              "  </tbody>\n",
              "</table>\n",
              "</div>"
            ],
            "text/plain": [
              "                                            Recipe Name  ... RecipeID\n",
              "292                               Sunshine Cake Recipe   ...     7378\n",
              "3818                               Cherry Pie I Recipe   ...    12251\n",
              "4320                         Quick Clam Chowder Recipe   ...    12981\n",
              "6238                            Hot Clam Dip II Recipe   ...    15648\n",
              "9330   Chocolate Sausage (Salame di Cioccolato) Recipe   ...    21002\n",
              "10676                      Oatmeal Kiss Cookies Recipe   ...    24031\n",
              "\n",
              "[6 rows x 10 columns]"
            ]
          },
          "metadata": {},
          "execution_count": 7
        }
      ]
    },
    {
      "cell_type": "code",
      "metadata": {
        "id": "wmY0BvEn-XRp"
      },
      "source": [
        "recipes_df_small = recipes_df[~recipes_df['Directions'].isna()][[\"Directions\", \"Ingredients\"]]"
      ],
      "execution_count": null,
      "outputs": []
    },
    {
      "cell_type": "code",
      "metadata": {
        "colab": {
          "base_uri": "https://localhost:8080/"
        },
        "id": "SJj94UqY-3Zg",
        "outputId": "4c7084ef-91c3-4a3a-ab44-fa57cd384deb"
      },
      "source": [
        "recipes_df_small.shape"
      ],
      "execution_count": null,
      "outputs": [
        {
          "output_type": "execute_result",
          "data": {
            "text/plain": [
              "(12345, 2)"
            ]
          },
          "metadata": {},
          "execution_count": 9
        }
      ]
    },
    {
      "cell_type": "code",
      "metadata": {
        "colab": {
          "base_uri": "https://localhost:8080/",
          "height": 204
        },
        "id": "gUcI2NX6-6FF",
        "outputId": "765b8a4e-c8da-4ae6-eac0-242219659c9b"
      },
      "source": [
        "recipes_df_small.head()"
      ],
      "execution_count": null,
      "outputs": [
        {
          "output_type": "execute_result",
          "data": {
            "text/html": [
              "<div>\n",
              "<style scoped>\n",
              "    .dataframe tbody tr th:only-of-type {\n",
              "        vertical-align: middle;\n",
              "    }\n",
              "\n",
              "    .dataframe tbody tr th {\n",
              "        vertical-align: top;\n",
              "    }\n",
              "\n",
              "    .dataframe thead th {\n",
              "        text-align: right;\n",
              "    }\n",
              "</style>\n",
              "<table border=\"1\" class=\"dataframe\">\n",
              "  <thead>\n",
              "    <tr style=\"text-align: right;\">\n",
              "      <th></th>\n",
              "      <th>Directions</th>\n",
              "      <th>Ingredients</th>\n",
              "    </tr>\n",
              "  </thead>\n",
              "  <tbody>\n",
              "    <tr>\n",
              "      <th>0</th>\n",
              "      <td>Dissolve yeast in warm water.**Stir in sugar, ...</td>\n",
              "      <td>yeast,water,white sugar,salt,egg,butter,flour,...</td>\n",
              "    </tr>\n",
              "    <tr>\n",
              "      <th>1</th>\n",
              "      <td>'Preheat oven to 350 degrees F (175 degrees C)...</td>\n",
              "      <td>flour,salt,baking powder,poppy,butter,vegetabl...</td>\n",
              "    </tr>\n",
              "    <tr>\n",
              "      <th>2</th>\n",
              "      <td>Preheat oven to 350 degrees F (175 degrees C)....</td>\n",
              "      <td>flour,egg,white sugar,vegetable oil,applesauce...</td>\n",
              "    </tr>\n",
              "    <tr>\n",
              "      <th>3</th>\n",
              "      <td>Preheat oven to 350 degrees F (175 degrees C)....</td>\n",
              "      <td>flour,baking powder,baking soda,salt,cinnamon,...</td>\n",
              "    </tr>\n",
              "    <tr>\n",
              "      <th>4</th>\n",
              "      <td>Mix oats with buttermilk.  Let stand for 1/2 h...</td>\n",
              "      <td>oat,buttermilk,vegetable oil,egg,brown sugar,f...</td>\n",
              "    </tr>\n",
              "  </tbody>\n",
              "</table>\n",
              "</div>"
            ],
            "text/plain": [
              "                                          Directions                                        Ingredients\n",
              "0  Dissolve yeast in warm water.**Stir in sugar, ...  yeast,water,white sugar,salt,egg,butter,flour,...\n",
              "1  'Preheat oven to 350 degrees F (175 degrees C)...  flour,salt,baking powder,poppy,butter,vegetabl...\n",
              "2  Preheat oven to 350 degrees F (175 degrees C)....  flour,egg,white sugar,vegetable oil,applesauce...\n",
              "3  Preheat oven to 350 degrees F (175 degrees C)....  flour,baking powder,baking soda,salt,cinnamon,...\n",
              "4  Mix oats with buttermilk.  Let stand for 1/2 h...  oat,buttermilk,vegetable oil,egg,brown sugar,f..."
            ]
          },
          "metadata": {},
          "execution_count": 10
        }
      ]
    },
    {
      "cell_type": "code",
      "metadata": {
        "id": "tA47iQZO-99D"
      },
      "source": [
        "directions_lengths = [ sum(not chr.isspace() for chr in str) for str in recipes_df_small[\"Directions\"]]\n",
        "ingredients_lengths = [ sum(not chr.isspace() for chr in str) for str in recipes_df_small['Ingredients']]"
      ],
      "execution_count": null,
      "outputs": []
    },
    {
      "cell_type": "code",
      "metadata": {
        "colab": {
          "base_uri": "https://localhost:8080/"
        },
        "id": "wpELNYDjD-81",
        "outputId": "7676e333-4962-4fc0-cf85-8af6ec720ef6"
      },
      "source": [
        "print(directions_lengths[:10])\n",
        "print(ingredients_lengths[:10])"
      ],
      "execution_count": null,
      "outputs": [
        {
          "output_type": "stream",
          "name": "stdout",
          "text": [
            "[548, 446, 269, 293, 261, 459, 583, 139, 323, 277]\n",
            "[51, 124, 94, 107, 77, 59, 72, 75, 97, 101]\n"
          ]
        }
      ]
    },
    {
      "cell_type": "code",
      "metadata": {
        "colab": {
          "base_uri": "https://localhost:8080/",
          "height": 279
        },
        "id": "jAnF6COBEFT3",
        "outputId": "16e6d306-2638-417c-ca61-65d342747052"
      },
      "source": [
        "plt.hist(directions_lengths)\n",
        "plt.xlabel(\"Nb. of non space chars\")\n",
        "plt.show()"
      ],
      "execution_count": null,
      "outputs": [
        {
          "output_type": "display_data",
          "data": {
            "image/png": "[encoded data removed]",
            "text/plain": [
              "<Figure size 432x288 with 1 Axes>"
            ]
          },
          "metadata": {
            "needs_background": "light"
          }
        }
      ]
    },
    {
      "cell_type": "code",
      "metadata": {
        "colab": {
          "base_uri": "https://localhost:8080/"
        },
        "id": "O6w38WDvExFl",
        "outputId": "03e36b27-beee-4219-b59a-448c711d3e48"
      },
      "source": [
        "small_directions = [len_ for len_ in directions_lengths if len_ <=10]\n",
        "small_directions"
      ],
      "execution_count": null,
      "outputs": [
        {
          "output_type": "execute_result",
          "data": {
            "text/plain": [
              "[]"
            ]
          },
          "metadata": {},
          "execution_count": 14
        }
      ]
    },
    {
      "cell_type": "code",
      "metadata": {
        "colab": {
          "base_uri": "https://localhost:8080/"
        },
        "id": "sgA_sDGNQ_qO",
        "outputId": "c585bf95-e7c4-42cd-ebc5-d4960faa62f0"
      },
      "source": [
        "print( list(set (''.join(recipes_df_small[\"Directions\"]))))\n",
        "print( list(set (''.join(recipes_df_small[\"Ingredients\"]))))"
      ],
      "execution_count": null,
      "outputs": [
        {
          "output_type": "stream",
          "name": "stdout",
          "text": [
            "['Q', 'E', '0', 't', 'p', 'F', 'R', '*', '?', 'J', '3', 'v', 'm', 'O', 'S', '7', 'w', '!', 'j', 's', '(', 'D', '&', 'C', 'W', 'T', 'L', ',', '\"', '-', ' ', 'g', '1', '5', 'M', 'n', ')', '.', 'I', 'c', 'G', '/', 'l', 'U', 'P', '9', 'K', 'k', 'Z', 'e', 'o', '8', '{', 'b', '4', 'r', '#', '>', 'X', 'A', '<', 'q', 'H', ':', '2', 'y', 'd', 'h', 'z', '=', 'x', \"'\", 'a', 'f', 'B', 'Y', '%', 'é', 'i', '6', 'V', 'u', 'N', '}', '+']\n",
            "['h', 'd', 'k', 'j', 'z', 'E', 's', '0', '(', 'Z', 't', 'e', 'D', 'p', 'o', 'C', 'F', 'W', '8', 'x', 'b', ',', 'L', 'r', 'T', 'R', '4', \"'\", 'a', 'g', 'f', ' ', '1', 'B', 'M', '-', 'n', '5', 'A', 'Y', ')', 'q', 'H', '.', 'J', '3', 'I', 'c', ':', 'G', '®', 'i', 'v', '2', '6', '/', 'm', 'u', 'l', 'O', 'S', '\\x99', 'N', '7', 'U', 'w', 'P', '9', 'y']\n"
          ]
        }
      ]
    },
    {
      "cell_type": "code",
      "metadata": {
        "colab": {
          "base_uri": "https://localhost:8080/"
        },
        "id": "N1mYvaZnR91y",
        "outputId": "3fdf095f-e3e5-4f3a-ad19-993150f1adf5"
      },
      "source": [
        "print([chr for chr in set(''.join(recipes_df_small[\"Directions\"])) if not chr.isalnum()])\n",
        "print([chr for chr in set(''.join(recipes_df_small[\"Ingredients\"])) if not chr.isalnum()])"
      ],
      "execution_count": null,
      "outputs": [
        {
          "output_type": "stream",
          "name": "stdout",
          "text": [
            "['*', '?', '!', '(', '&', ',', '\"', '-', ' ', ')', '.', '/', '{', '#', '>', '<', ':', '=', \"'\", '%', '}', '+']\n",
            "['(', ',', \"'\", ' ', '-', ')', '.', ':', '®', '/', '\\x99']\n"
          ]
        }
      ]
    },
    {
      "cell_type": "code",
      "metadata": {
        "colab": {
          "base_uri": "https://localhost:8080/",
          "height": 316
        },
        "id": "asNRG7D8E6jD",
        "outputId": "9ff1d2c2-b3a3-4737-da92-2257065939fa"
      },
      "source": [
        "plt.hist(ingredients_lengths)\n",
        "plt.xlabel(\"Nb. of non space chars\")\n",
        "plt.show()\n",
        "small_ingreds = [(i, ingredients_lengths[i]) \n",
        "        for i in range(len(ingredients_lengths)) \n",
        "        if ingredients_lengths[i] <=10]\n",
        "print(\"nb of non space chars:\", small_ingreds)"
      ],
      "execution_count": null,
      "outputs": [
        {
          "output_type": "display_data",
          "data": {
            "image/png": "[encoded data removed]",
            "text/plain": [
              "<Figure size 432x288 with 1 Axes>"
            ]
          },
          "metadata": {
            "needs_background": "light"
          }
        },
        {
          "output_type": "stream",
          "name": "stdout",
          "text": [
            "nb of non space chars: [(64, 5), (728, 4), (745, 4), (915, 10), (1009, 9), (3530, 9), (4885, 7), (4925, 8), (5073, 6), (5076, 10), (6829, 6), (7202, 10), (7817, 4), (8244, 10), (8552, 3), (8804, 10), (9091, 3), (10123, 7), (10177, 5), (11148, 4)]\n"
          ]
        }
      ]
    },
    {
      "cell_type": "code",
      "metadata": {
        "colab": {
          "base_uri": "https://localhost:8080/",
          "height": 669
        },
        "id": "L8W0dlUcFdbr",
        "outputId": "2f7ddbbc-df22-4e89-fc43-15cf01c65ef8"
      },
      "source": [
        "recipes_df_small.iloc[[i for i, _ in small_ingreds]]"
      ],
      "execution_count": null,
      "outputs": [
        {
          "output_type": "execute_result",
          "data": {
            "text/html": [
              "<div>\n",
              "<style scoped>\n",
              "    .dataframe tbody tr th:only-of-type {\n",
              "        vertical-align: middle;\n",
              "    }\n",
              "\n",
              "    .dataframe tbody tr th {\n",
              "        vertical-align: top;\n",
              "    }\n",
              "\n",
              "    .dataframe thead th {\n",
              "        text-align: right;\n",
              "    }\n",
              "</style>\n",
              "<table border=\"1\" class=\"dataframe\">\n",
              "  <thead>\n",
              "    <tr style=\"text-align: right;\">\n",
              "      <th></th>\n",
              "      <th>Directions</th>\n",
              "      <th>Ingredients</th>\n",
              "    </tr>\n",
              "  </thead>\n",
              "  <tbody>\n",
              "    <tr>\n",
              "      <th>64</th>\n",
              "      <td>Thaw bread dough.**Preheat oven to 375 degrees...</td>\n",
              "      <td>bread</td>\n",
              "    </tr>\n",
              "    <tr>\n",
              "      <th>729</th>\n",
              "      <td>Preheat oven to 375 degrees F (190 degrees C)....</td>\n",
              "      <td>cake</td>\n",
              "    </tr>\n",
              "    <tr>\n",
              "      <th>746</th>\n",
              "      <td>Start with a cooled 9-inch square cake. From o...</td>\n",
              "      <td>cake</td>\n",
              "    </tr>\n",
              "    <tr>\n",
              "      <th>916</th>\n",
              "      <td>In a large bowl, combine cake mix, peaches and...</td>\n",
              "      <td>cake,peach</td>\n",
              "    </tr>\n",
              "    <tr>\n",
              "      <th>1010</th>\n",
              "      <td>'Prepare the cake according to package instruc...</td>\n",
              "      <td>cake,side</td>\n",
              "    </tr>\n",
              "    <tr>\n",
              "      <th>3531</th>\n",
              "      <td>'Heap the flour, and make a well in it.  Break...</td>\n",
              "      <td>flour,egg</td>\n",
              "    </tr>\n",
              "    <tr>\n",
              "      <th>4888</th>\n",
              "      <td>Preheat oven to 300 degrees F (150 degrees C)....</td>\n",
              "      <td>pumpkin</td>\n",
              "    </tr>\n",
              "    <tr>\n",
              "      <th>4928</th>\n",
              "      <td>Preheat oven to 275 degrees F. (135 degrees C)...</td>\n",
              "      <td>ham,cola</td>\n",
              "    </tr>\n",
              "    <tr>\n",
              "      <th>5076</th>\n",
              "      <td>Cut each tomato  in half through the middle, n...</td>\n",
              "      <td>cherry</td>\n",
              "    </tr>\n",
              "    <tr>\n",
              "      <th>5079</th>\n",
              "      <td>Preheat the oven to 500 degrees F (260 degrees...</td>\n",
              "      <td>bell pepper</td>\n",
              "    </tr>\n",
              "    <tr>\n",
              "      <th>6833</th>\n",
              "      <td>Preheat oven to 350 degrees F (175 degrees C)....</td>\n",
              "      <td>potato</td>\n",
              "    </tr>\n",
              "    <tr>\n",
              "      <th>7206</th>\n",
              "      <td>Preheat oven to 350 degrees F (175 degrees C)....</td>\n",
              "      <td>ham,butter</td>\n",
              "    </tr>\n",
              "    <tr>\n",
              "      <th>7821</th>\n",
              "      <td>Leave tofu in original package and place in fr...</td>\n",
              "      <td>tofu</td>\n",
              "    </tr>\n",
              "    <tr>\n",
              "      <th>8248</th>\n",
              "      <td>Place the sherbet in a punch bowl. Pour in the...</td>\n",
              "      <td>herb,lemon</td>\n",
              "    </tr>\n",
              "    <tr>\n",
              "      <th>8556</th>\n",
              "      <td>Preheat an outdoor grill for medium high heat....</td>\n",
              "      <td>egg</td>\n",
              "    </tr>\n",
              "    <tr>\n",
              "      <th>8808</th>\n",
              "      <td>In a pitcher combine milk and carbonated bever...</td>\n",
              "      <td>milk,lemon</td>\n",
              "    </tr>\n",
              "    <tr>\n",
              "      <th>9095</th>\n",
              "      <td>'Pour the cold tea into an ice cube tray and f...</td>\n",
              "      <td>tea</td>\n",
              "    </tr>\n",
              "    <tr>\n",
              "      <th>10128</th>\n",
              "      <td>Preheat oven to 325 degrees F (165 degrees C)....</td>\n",
              "      <td>pumpkin</td>\n",
              "    </tr>\n",
              "    <tr>\n",
              "      <th>10182</th>\n",
              "      <td>Fill airtight containers approximately half fu...</td>\n",
              "      <td>cream</td>\n",
              "    </tr>\n",
              "    <tr>\n",
              "      <th>11154</th>\n",
              "      <td>Fill a large saucepan with water and bring to ...</td>\n",
              "      <td>milk</td>\n",
              "    </tr>\n",
              "  </tbody>\n",
              "</table>\n",
              "</div>"
            ],
            "text/plain": [
              "                                              Directions  Ingredients\n",
              "64     Thaw bread dough.**Preheat oven to 375 degrees...        bread\n",
              "729    Preheat oven to 375 degrees F (190 degrees C)....         cake\n",
              "746    Start with a cooled 9-inch square cake. From o...         cake\n",
              "916    In a large bowl, combine cake mix, peaches and...   cake,peach\n",
              "1010   'Prepare the cake according to package instruc...    cake,side\n",
              "3531   'Heap the flour, and make a well in it.  Break...    flour,egg\n",
              "4888   Preheat oven to 300 degrees F (150 degrees C)....      pumpkin\n",
              "4928   Preheat oven to 275 degrees F. (135 degrees C)...     ham,cola\n",
              "5076   Cut each tomato  in half through the middle, n...       cherry\n",
              "5079   Preheat the oven to 500 degrees F (260 degrees...  bell pepper\n",
              "6833   Preheat oven to 350 degrees F (175 degrees C)....       potato\n",
              "7206   Preheat oven to 350 degrees F (175 degrees C)....   ham,butter\n",
              "7821   Leave tofu in original package and place in fr...         tofu\n",
              "8248   Place the sherbet in a punch bowl. Pour in the...   herb,lemon\n",
              "8556   Preheat an outdoor grill for medium high heat....          egg\n",
              "8808   In a pitcher combine milk and carbonated bever...   milk,lemon\n",
              "9095   'Pour the cold tea into an ice cube tray and f...          tea\n",
              "10128  Preheat oven to 325 degrees F (165 degrees C)....      pumpkin\n",
              "10182  Fill airtight containers approximately half fu...        cream\n",
              "11154  Fill a large saucepan with water and bring to ...         milk"
            ]
          },
          "metadata": {},
          "execution_count": 18
        }
      ]
    },
    {
      "cell_type": "markdown",
      "metadata": {
        "id": "HoLl_hvoHzU8"
      },
      "source": [
        "### EDA train set"
      ]
    },
    {
      "cell_type": "code",
      "metadata": {
        "colab": {
          "base_uri": "https://localhost:8080/"
        },
        "id": "pfJKlOrWFpNM",
        "outputId": "31bebd02-1932-4081-b748-9ec51f1b7cfc"
      },
      "source": [
        "recipes_df_small.shape\n",
        "# recipes_df_small.columns"
      ],
      "execution_count": null,
      "outputs": [
        {
          "output_type": "execute_result",
          "data": {
            "text/plain": [
              "(12345, 2)"
            ]
          },
          "metadata": {},
          "execution_count": 19
        }
      ]
    },
    {
      "cell_type": "code",
      "metadata": {
        "id": "Kb7v3unEH6kF"
      },
      "source": [
        "# X = recipes_df_small[\"Directions\"].copy()\n",
        "# y = recipes_df_small[\"Ingredients\"].copy()\n",
        "\n",
        "# X_train, X_rem, y_train, y_rem = train_test_split(X,y, train_size=0.8, random_state= 11 )\n",
        "# X_valid, X_test, y_valid, y_test = train_test_split(X_rem,y_rem, test_size=0.5, random_state=11)\n",
        "\n",
        "# print(\"Train: \", X_train.shape, y_train.shape)\n",
        "# print(\"Val:\", X_valid.shape, y_valid.shape)\n",
        "# print(\"Test:\", X_test.shape, y_test.shape)"
      ],
      "execution_count": null,
      "outputs": []
    },
    {
      "cell_type": "code",
      "metadata": {
        "id": "mj8XdQ4WJEC0"
      },
      "source": [
        "# recipe = X_train.iloc[1]\n",
        "# print(recipe)\n",
        "# z\n",
        "# doc = nlp(recipe)\n",
        "# print(doc)\n",
        "\n",
        "# tokenized_text = pd.DataFrame()\n",
        "\n",
        "# for i, token in enumerate(doc):\n",
        "#   tokenized_text.loc[i, 'text'] = token.text\n",
        "#   tokenized_text.loc[i, 'lemma'] = token.lemma_,\n",
        "#   tokenized_text.loc[i, 'pos'] = token.pos_\n",
        "#   tokenized_text.loc[i, 'tag'] = token.tag_\n",
        "#   tokenized_text.loc[i, 'dep'] = token.dep_\n",
        "#   tokenized_text.loc[i, 'shape'] = token.shape_\n",
        "#   tokenized_text.loc[i, 'is_alpha'] = token.is_alpha\n",
        "#   tokenized_text.loc[i, 'is_stop'] = token.is_stop\n",
        "#   tokenized_text.loc[i, 'is_punctuation'] = token.is_punct\n",
        "\n",
        "# tokenized_text"
      ],
      "execution_count": null,
      "outputs": []
    },
    {
      "cell_type": "code",
      "metadata": {
        "id": "xfPJISZgsm0W"
      },
      "source": [
        "# ingred_sample = y_train.iloc[1]\n",
        "# print(ingred_sample)\n",
        "\n",
        "# doc = nlp(ingred_sample)\n",
        "# print(doc)\n",
        "\n",
        "# tokenized_text = pd.DataFrame()\n",
        "\n",
        "# for i, token in enumerate(doc):\n",
        "#   tokenized_text.loc[i, 'text'] = token.text\n",
        "#   tokenized_text.loc[i, 'lemma'] = token.lemma_,\n",
        "#   tokenized_text.loc[i, 'pos'] = token.pos_\n",
        "#   tokenized_text.loc[i, 'tag'] = token.tag_\n",
        "#   tokenized_text.loc[i, 'dep'] = token.dep_\n",
        "#   tokenized_text.loc[i, 'shape'] = token.shape_\n",
        "#   tokenized_text.loc[i, 'is_alpha'] = token.is_alpha\n",
        "#   tokenized_text.loc[i, 'is_stop'] = token.is_stop\n",
        "#   tokenized_text.loc[i, 'is_punctuation'] = token.is_punct\n",
        "\n",
        "# tokenized_text"
      ],
      "execution_count": null,
      "outputs": []
    },
    {
      "cell_type": "markdown",
      "metadata": {
        "id": "3iHoZ4kqq5BQ"
      },
      "source": [
        "### Preprocess data"
      ]
    },
    {
      "cell_type": "code",
      "metadata": {
        "colab": {
          "base_uri": "https://localhost:8080/",
          "height": 35
        },
        "id": "NU9be7a3V7pm",
        "outputId": "8b9291ad-2767-453e-9b64-a0d8f32982d8"
      },
      "source": [
        "spacy.explain('NFP')"
      ],
      "execution_count": null,
      "outputs": [
        {
          "output_type": "execute_result",
          "data": {
            "application/vnd.google.colaboratory.intrinsic+json": {
              "type": "string"
            },
            "text/plain": [
              "'superfluous punctuation'"
            ]
          },
          "metadata": {},
          "execution_count": 23
        }
      ]
    },
    {
      "cell_type": "code",
      "metadata": {
        "id": "SHN9JKZvXVuG"
      },
      "source": [
        "import sys\n",
        "import warnings\n",
        "\n",
        "warnings.filterwarnings(\"ignore\")"
      ],
      "execution_count": null,
      "outputs": []
    },
    {
      "cell_type": "code",
      "metadata": {
        "colab": {
          "base_uri": "https://localhost:8080/"
        },
        "id": "wwfV9x0GzLcp",
        "outputId": "a1a3d428-f141-42dc-ec51-7094c00a08ee"
      },
      "source": [
        "print([chr for chr in set(''.join(recipes_df_small[\"Directions\"])) if not chr.isalnum()])\n",
        "print([chr for chr in set(''.join(recipes_df_small[\"Ingredients\"])) if not chr.isalnum()])"
      ],
      "execution_count": null,
      "outputs": [
        {
          "output_type": "stream",
          "name": "stdout",
          "text": [
            "['*', '?', '!', '(', '&', ',', '\"', '-', ' ', ')', '.', '/', '{', '#', '>', '<', ':', '=', \"'\", '%', '}', '+']\n",
            "['(', ',', \"'\", ' ', '-', ')', '.', ':', '®', '/', '\\x99']\n"
          ]
        }
      ]
    },
    {
      "cell_type": "code",
      "metadata": {
        "id": "0IO6H9X1rcmP"
      },
      "source": [
        "import unicodedata"
      ],
      "execution_count": null,
      "outputs": []
    },
    {
      "cell_type": "code",
      "metadata": {
        "colab": {
          "base_uri": "https://localhost:8080/"
        },
        "id": "q6f71Tl4zNkB",
        "outputId": "98804fbe-9ca3-47f8-97ef-b912510b61ae"
      },
      "source": [
        "print([chr for chr in set(\n",
        "    unicodedata.normalize('NFKD',\n",
        "        ''.join(recipes_df_small[\"Directions\"])).encode('ascii', 'ignore')\n",
        "    ) ])\n",
        "print([chr for chr in set(\n",
        "    unicodedata.normalize('NFKD',\n",
        "        ''.join(recipes_df_small[\"Ingredients\"])).encode('ascii', 'ignore')\n",
        "    ) ])"
      ],
      "execution_count": null,
      "outputs": [
        {
          "output_type": "stream",
          "name": "stdout",
          "text": [
            "[32, 33, 34, 35, 37, 38, 39, 40, 41, 42, 43, 44, 45, 46, 47, 48, 49, 50, 51, 52, 53, 54, 55, 56, 57, 58, 60, 61, 62, 63, 65, 66, 67, 68, 69, 70, 71, 72, 73, 74, 75, 76, 77, 78, 79, 80, 81, 82, 83, 84, 85, 86, 87, 88, 89, 90, 97, 98, 99, 100, 101, 102, 103, 104, 105, 106, 107, 108, 109, 110, 111, 112, 113, 114, 115, 116, 117, 118, 119, 120, 121, 122, 123, 125]\n",
            "[32, 39, 40, 41, 44, 45, 46, 47, 48, 49, 50, 51, 52, 53, 54, 55, 56, 57, 58, 65, 66, 67, 68, 69, 70, 71, 72, 73, 74, 76, 77, 78, 79, 80, 82, 83, 84, 85, 87, 89, 90, 97, 98, 99, 100, 101, 102, 103, 104, 105, 106, 107, 108, 109, 110, 111, 112, 113, 114, 115, 116, 117, 118, 119, 120, 121, 122]\n"
          ]
        }
      ]
    },
    {
      "cell_type": "code",
      "metadata": {
        "colab": {
          "base_uri": "https://localhost:8080/"
        },
        "id": "YN-9J3x7yhuF",
        "outputId": "525bc1d3-6269-4583-f20d-db7bd6834c45"
      },
      "source": [
        "print(unicodedata.normalize('NFKD', recipes_df_small[\"Directions\"][1]).encode('ascii', 'ignore'))\n",
        "print(unicodedata.normalize('NFKD', recipes_df_small[\"Ingredients\"][1]).encode('ascii', 'ignore'))\n"
      ],
      "execution_count": null,
      "outputs": [
        {
          "output_type": "stream",
          "name": "stdout",
          "text": [
            "b\"'Preheat oven to 350 degrees F (175 degrees C). Grease bottoms of two 9-inch loaf pans.**Mix together flour, salt, baking powder, poppy seeds, butter flavoring, oil, eggs, milk, sugar, vanilla, and almond flavoring. Pour into prepared pans.**Bake at 350 degrees F (175 degrees C) for one hour. Cool 5 minutes. Poke holes in top of loaves and pour glaze over.**To make glaze: Mix orange juice, 1/2 teaspoon butter flavoring, 1/2 teaspoon almond flavoring, and 1 teaspoon vanilla. Add enough confectioners'' sugar to make glaze.**'\"\n",
            "b'flour,salt,baking powder,poppy,butter,vegetable oil,egg,milk,white sugar,vanilla,almond,orange juice,butter,almond,vanilla,sugar'\n"
          ]
        }
      ]
    },
    {
      "cell_type": "code",
      "metadata": {
        "colab": {
          "base_uri": "https://localhost:8080/"
        },
        "id": "ZzufsyUh36Tb",
        "outputId": "7653f144-9534-4b05-c537-15f5dd29320c"
      },
      "source": [
        "unicodedata.normalize('NFKD', recipes_df_small[\"Ingredients\"][1]).encode('ascii', 'ignore').decode(\"utf-8\").split(\",\")\n"
      ],
      "execution_count": null,
      "outputs": [
        {
          "output_type": "execute_result",
          "data": {
            "text/plain": [
              "['flour',\n",
              " 'salt',\n",
              " 'baking powder',\n",
              " 'poppy',\n",
              " 'butter',\n",
              " 'vegetable oil',\n",
              " 'egg',\n",
              " 'milk',\n",
              " 'white sugar',\n",
              " 'vanilla',\n",
              " 'almond',\n",
              " 'orange juice',\n",
              " 'butter',\n",
              " 'almond',\n",
              " 'vanilla',\n",
              " 'sugar']"
            ]
          },
          "metadata": {},
          "execution_count": 29
        }
      ]
    },
    {
      "cell_type": "code",
      "metadata": {
        "colab": {
          "base_uri": "https://localhost:8080/",
          "height": 289
        },
        "id": "WnTda8Gm0U-5",
        "outputId": "35787fb6-2d73-4bb6-b65c-c45597e6c88e"
      },
      "source": [
        "ingredients_not_found_in_sent = []\n",
        "ingredients_found_multiple_times_in_sent = []\n",
        "examples = []\n",
        "\n",
        "LABEL = \"INGREDIENT\"\n",
        "\n",
        "# ? ingred is space \n",
        "\n",
        "def define_ent_in_sentence(sentence, ingredients):\n",
        "  ents= []\n",
        "  ingred_not_found = 0\n",
        "  samples = []\n",
        "  sentence_lo = sentence.lower()\n",
        "  for _ingred in sorted(ingredients.lower().split(\",\"), key=len, reverse=True):\n",
        "    start_pos = sentence_lo.find(_ingred)\n",
        "    if ( start_pos != -1):\n",
        "      _append = True\n",
        "      end_pos = start_pos+len(_ingred)\n",
        "      for a, b, _ in ents:\n",
        "        if start_pos >= a and start_pos <= b:\n",
        "          _append = False\n",
        "        elif end_pos >= a and end_pos <= b:\n",
        "          _append = False\n",
        "      if _append: \n",
        "        ents.append((start_pos, end_pos, LABEL))\n",
        "    else:\n",
        "      splited_ingred = _ingred.split()\n",
        "      found_one = False\n",
        "      for _split_ingrd in splited_ingred:\n",
        "        start_pos = sentence_lo.find(_split_ingrd)\n",
        "        if ( start_pos != -1):\n",
        "          end_pos = start_pos+len(_ingred)\n",
        "          _append = True\n",
        "          for a, b, _ in ents:\n",
        "            if start_pos >= a and start_pos <= b:\n",
        "              _append = False\n",
        "            elif end_pos >= a and end_pos <= b:\n",
        "              _append = False\n",
        "          if _append: \n",
        "            ents.append((start_pos, end_pos, LABEL))\n",
        "          found_one = True\n",
        "      if not found_one: \n",
        "        # if len(examples) < 20:\n",
        "        samples.append(_ingred)\n",
        "        ingred_not_found += 1\n",
        "  \n",
        "  if ingred_not_found > 0: \n",
        "    # if len(examples) < 20:\n",
        "    examples.append((sentence_lo, samples))\n",
        "    ingredients_not_found_in_sent.append(ingred_not_found)\n",
        "  \n",
        "  return [sentence_lo, {'entities': ents}]\n",
        "\n",
        "recipes_df_small['train_data']= np.vectorize(define_ent_in_sentence)(\\\n",
        "                                recipes_df_small['Directions'], \n",
        "                                recipes_df_small['Ingredients'])\n",
        "recipes_df_small.head()"
      ],
      "execution_count": null,
      "outputs": [
        {
          "output_type": "execute_result",
          "data": {
            "text/html": [
              "<div>\n",
              "<style scoped>\n",
              "    .dataframe tbody tr th:only-of-type {\n",
              "        vertical-align: middle;\n",
              "    }\n",
              "\n",
              "    .dataframe tbody tr th {\n",
              "        vertical-align: top;\n",
              "    }\n",
              "\n",
              "    .dataframe thead th {\n",
              "        text-align: right;\n",
              "    }\n",
              "</style>\n",
              "<table border=\"1\" class=\"dataframe\">\n",
              "  <thead>\n",
              "    <tr style=\"text-align: right;\">\n",
              "      <th></th>\n",
              "      <th>Directions</th>\n",
              "      <th>Ingredients</th>\n",
              "      <th>train_data</th>\n",
              "    </tr>\n",
              "  </thead>\n",
              "  <tbody>\n",
              "    <tr>\n",
              "      <th>0</th>\n",
              "      <td>Dissolve yeast in warm water.**Stir in sugar, ...</td>\n",
              "      <td>yeast,water,white sugar,salt,egg,butter,flour,...</td>\n",
              "      <td>[dissolve yeast in warm water.**stir in sugar,...</td>\n",
              "    </tr>\n",
              "    <tr>\n",
              "      <th>1</th>\n",
              "      <td>'Preheat oven to 350 degrees F (175 degrees C)...</td>\n",
              "      <td>flour,salt,baking powder,poppy,butter,vegetabl...</td>\n",
              "      <td>['preheat oven to 350 degrees f (175 degrees c...</td>\n",
              "    </tr>\n",
              "    <tr>\n",
              "      <th>2</th>\n",
              "      <td>Preheat oven to 350 degrees F (175 degrees C)....</td>\n",
              "      <td>flour,egg,white sugar,vegetable oil,applesauce...</td>\n",
              "      <td>[preheat oven to 350 degrees f (175 degrees c)...</td>\n",
              "    </tr>\n",
              "    <tr>\n",
              "      <th>3</th>\n",
              "      <td>Preheat oven to 350 degrees F (175 degrees C)....</td>\n",
              "      <td>flour,baking powder,baking soda,salt,cinnamon,...</td>\n",
              "      <td>[preheat oven to 350 degrees f (175 degrees c)...</td>\n",
              "    </tr>\n",
              "    <tr>\n",
              "      <th>4</th>\n",
              "      <td>Mix oats with buttermilk.  Let stand for 1/2 h...</td>\n",
              "      <td>oat,buttermilk,vegetable oil,egg,brown sugar,f...</td>\n",
              "      <td>[mix oats with buttermilk.  let stand for 1/2 ...</td>\n",
              "    </tr>\n",
              "  </tbody>\n",
              "</table>\n",
              "</div>"
            ],
            "text/plain": [
              "                                          Directions  ...                                         train_data\n",
              "0  Dissolve yeast in warm water.**Stir in sugar, ...  ...  [dissolve yeast in warm water.**stir in sugar,...\n",
              "1  'Preheat oven to 350 degrees F (175 degrees C)...  ...  ['preheat oven to 350 degrees f (175 degrees c...\n",
              "2  Preheat oven to 350 degrees F (175 degrees C)....  ...  [preheat oven to 350 degrees f (175 degrees c)...\n",
              "3  Preheat oven to 350 degrees F (175 degrees C)....  ...  [preheat oven to 350 degrees f (175 degrees c)...\n",
              "4  Mix oats with buttermilk.  Let stand for 1/2 h...  ...  [mix oats with buttermilk.  let stand for 1/2 ...\n",
              "\n",
              "[5 rows x 3 columns]"
            ]
          },
          "metadata": {},
          "execution_count": 30
        }
      ]
    },
    {
      "cell_type": "code",
      "metadata": {
        "colab": {
          "base_uri": "https://localhost:8080/",
          "height": 120
        },
        "id": "kIC4DlhQGYtU",
        "outputId": "bc9036b9-5479-46c8-c9e6-c3a3dda5cf16"
      },
      "source": [
        "recipes_df_small['Directions'][1].lower()"
      ],
      "execution_count": null,
      "outputs": [
        {
          "output_type": "execute_result",
          "data": {
            "application/vnd.google.colaboratory.intrinsic+json": {
              "type": "string"
            },
            "text/plain": [
              "\"'preheat oven to 350 degrees f (175 degrees c). grease bottoms of two 9-inch loaf pans.**mix together flour, salt, baking powder, poppy seeds, butter flavoring, oil, eggs, milk, sugar, vanilla, and almond flavoring. pour into prepared pans.**bake at 350 degrees f (175 degrees c) for one hour. cool 5 minutes. poke holes in top of loaves and pour glaze over.**to make glaze: mix orange juice, 1/2 teaspoon butter flavoring, 1/2 teaspoon almond flavoring, and 1 teaspoon vanilla. add enough confectioners'' sugar to make glaze.**'\""
            ]
          },
          "metadata": {},
          "execution_count": 31
        }
      ]
    },
    {
      "cell_type": "code",
      "metadata": {
        "colab": {
          "base_uri": "https://localhost:8080/",
          "height": 300
        },
        "id": "_-GLEwuf8ZRr",
        "outputId": "2953ff30-6f91-42e0-9069-a91f8470c5ae"
      },
      "source": [
        "print(len(ingredients_not_found_in_sent))\n",
        "plt.hist(ingredients_not_found_in_sent, bins=np.arange(20)-0.5)\n",
        "plt.xticks(range(19))\n",
        "plt.xlabel(\"Nb. of ingred not found / Description\")\n",
        "plt.show()"
      ],
      "execution_count": null,
      "outputs": [
        {
          "output_type": "stream",
          "name": "stdout",
          "text": [
            "5105\n"
          ]
        },
        {
          "output_type": "display_data",
          "data": {
            "image/png": "[encoded data removed]",
            "text/plain": [
              "<Figure size 432x288 with 1 Axes>"
            ]
          },
          "metadata": {
            "needs_background": "light"
          }
        }
      ]
    },
    {
      "cell_type": "code",
      "metadata": {
        "colab": {
          "base_uri": "https://localhost:8080/"
        },
        "id": "ZMGy4uUA_AD3",
        "outputId": "984f2769-ce9c-4128-cfae-e0392ab491fe"
      },
      "source": [
        "# [ ex[1] for ex in examples]\n",
        "_a = [\"1/3 cup masa harina\",\n",
        "\"10 fluid ounces Mountain Dew\\x99\",\n",
        "\"2 cups half-and-half\"]\n",
        "[ ex for ex in examples for ingred in _a if ingred in ex[1]]\n"
      ],
      "execution_count": null,
      "outputs": [
        {
          "output_type": "execute_result",
          "data": {
            "text/plain": [
              "[('in a medium bowl beat butter until it is creamy. add the mexican corn flour and water and beat until well mixed.**using a food processor,  process thawed corn, but leave chunky. stir into the butter mixture.**in a separate bowl, mix cornmeal, sugar, cream, salt, and baking powder. add to corn flour mixture and stir to combine. pour batter into an ungreased 8x8 inch baking pan. smooth batter and cover with aluminum foil. place pan into a 9x13 inch baking dish that is filled a third of the way with water.**bake in a preheated 350 degree oven f (175 degrees c) oven for 50 to 60 minutes. allow to cool for 10 minutes. use an ice cream scoop for easy removal from pan.**',\n",
              "  ['1/3 cup masa harina']),\n",
              " ('heat oil over high heat in a large skillet.  brown chicken.  reduce heat, and add garlic and mushrooms.  cook until soft.   remove chicken and mushrooms from the skillet.**pour half and half cream into skillet, and bring to a boil over high heat.  reduce heat to medium, and reduce.  stir occasionally.**meanwhile, cook the pasta in a large pot of boiling water until done. drain.**when cream has reduced and thickened, stir in gorgonzola until melted.  add chicken and mushrooms, pasta, and walnuts. toss and reheat.  season with salt and pepper.  serve immediately. garnish with freshly grated parmesan cheese, if desired.**',\n",
              "  ['2 cups half-and-half', 'olive']),\n",
              " ('in a large stock pot melt butter and saute onions until tender.**add water and chicken granules, and bring to a boil.**measure out flour into a separate bowl and add some broth from stock pot to whisk together with flour.**slowly add flour mixture back into soup and add broccoli, cauliflower and carrots.  simmer until vegetables are tender.**add half and half cream, cheese and season with pepper.  heat through until cheese has melted being sure not to bring to a boil.  top with garlic croutons and serve.**',\n",
              "  ['2 cups half-and-half', 'margarine', 'cheddar'])]"
            ]
          },
          "metadata": {},
          "execution_count": 33
        }
      ]
    },
    {
      "cell_type": "code",
      "metadata": {
        "colab": {
          "base_uri": "https://localhost:8080/"
        },
        "id": "W6F9-Se777QW",
        "outputId": "2d1a3df5-25aa-4498-e988-efd32aa10194"
      },
      "source": [
        "recipes_df_small['train_data'][0]"
      ],
      "execution_count": null,
      "outputs": [
        {
          "output_type": "execute_result",
          "data": {
            "text/plain": [
              "['dissolve yeast in warm water.**stir in sugar, salt, eggs, butter, and 2 cups of flour. beat until smooth. mix in remaining flour until smooth. scrape dough from side of bowl. knead dough, then cover it and let rise in a warm place until double (about 1 1/2 hours).**punch down dough. divide in half. roll each half into a 12-inch circle. spread with butter. cut into 10 to 15 wedge. roll up the wedges starting with the wide end. place rolls with point under on a greased baking sheet. cover and let rise until double (about 1 hour).**bake at 400 degrees f (205 degrees c) for 12-15 minute or until golden brown. brush tops with butter when they come out of the oven.**',\n",
              " {'entities': [(39, 50, 'INGREDIENT'),\n",
              "   (58, 64, 'INGREDIENT'),\n",
              "   (9, 14, 'INGREDIENT'),\n",
              "   (23, 28, 'INGREDIENT'),\n",
              "   (80, 85, 'INGREDIENT'),\n",
              "   (52, 55, 'INGREDIENT')]}]"
            ]
          },
          "metadata": {},
          "execution_count": 34
        }
      ]
    },
    {
      "cell_type": "code",
      "metadata": {
        "colab": {
          "base_uri": "https://localhost:8080/"
        },
        "id": "GI0mdwOZ8K_W",
        "outputId": "b7083693-82ad-4ad9-8160-28648eeb3594"
      },
      "source": [
        "[x[0] for x in recipes_df_small['train_data'][1:10]]"
      ],
      "execution_count": null,
      "outputs": [
        {
          "output_type": "execute_result",
          "data": {
            "text/plain": [
              "[\"'preheat oven to 350 degrees f (175 degrees c). grease bottoms of two 9-inch loaf pans.**mix together flour, salt, baking powder, poppy seeds, butter flavoring, oil, eggs, milk, sugar, vanilla, and almond flavoring. pour into prepared pans.**bake at 350 degrees f (175 degrees c) for one hour. cool 5 minutes. poke holes in top of loaves and pour glaze over.**to make glaze: mix orange juice, 1/2 teaspoon butter flavoring, 1/2 teaspoon almond flavoring, and 1 teaspoon vanilla. add enough confectioners'' sugar to make glaze.**'\",\n",
              " 'preheat oven to 350 degrees f (175 degrees c).  grease and flour two 9 x 5 inch loaf pans.**beat together eggs, sugar, and oil.  blend in applesauce, and then sour cream or buttermilk.  mix in flour, baking powder, soda, and cinnamon. stir in raisins. pour batter into prepared pans.**bake for 80 minutes.  cool on wire racks.**',\n",
              " 'preheat oven to 350 degrees f (175 degrees c).  grease and flour an 8 1/2 x 4 1/2 inch loaf pan.**in a large bowl, combine flour, baking powder, baking soda, salt, cinnamon, nutmeg, brown sugar, and  oats.  add apple, nuts, raisins, eggs, milk, and oil.  mix until dry ingredients are moistened.**bake for 55 to 60 minutes, or until done.  cool on wire rack.**',\n",
              " 'mix oats with buttermilk.  let stand for 1/2 hour.**stir oil, egg, and brown sugar into oat mixture. stir together flour, baking powder, soda, and salt: mix into oat mixture.  pour batter into a greased and floured 8 1/2 x 4 1/2 inch loaf pan.**bake at 350 degrees f (175 degrees c) for 55 to 60 minutes, or until done.**',\n",
              " 'cream shortening and sugar together.  stir in salt, hot milk, beaten egg yolks, and flavoring.  when lukewarm, add yeast to mixture.  let stand 5 minutes.  add flour, beating well.  knead down into bowl.  the dough will be slightly sticky.  let rise 1 hour.**cut off small balls of dough.  roll into rounds in your hands, and place on greased cookie sheets 2 inches apart.  let rise 15 minutes.**make a depression into the center of each roll.  fill with fruit preserves.**bake at 450 degrees f (230 degrees c) until brown.  watch carefully.  cool on wire racks.**',\n",
              " 'dissolve brown sugar in 1 cup hot water.  add shortening, and stir to melt.  let cool.**in a large bowl, dissolve yeast in 4 cups warm water.  add white sugar, salt, and bread flour.  beat well.  stir in shortening mixture.  stir in enough whole wheat flour to make a stiff but not dry dough.**turn out onto a lightly floured surface.  knead until smooth and elastic.  place in a large, well oiled bowl.  cover, and allow to rise until dough doubles in bulk.**divide dough into four equal parts.  shape into loaves.  place in greased, 9 x 5 inch pans,  turning each loaf over in pan to grease top.  allow to rise until dough doubles in bulk.**bake at 350 degrees f (175 degrees c) for 35 minutes. let cool before slicing.**',\n",
              " 'add the ingredients to the pan of your bread machine in the order suggested by the manufacturer, and start. you can use more bread flour if the dough seems too sticky.**',\n",
              " 'preheat oven to 350 degrees f (175 degrees c).**blend butter or margarine, sugar, egg, banana, dissolved coffee, and vanilla in food processor for 2 minutes. add flour, salt, baking powder, and soda, and blend just until flour disappears. add chocolate chips and mix in with wooden spoon. spoon mixture into 15 to 18 paper-lined muffin cups.**bake for 25 minutes.  cool on wire racks.**',\n",
              " 'preheat oven to 350 degrees f (175 degrees c).**combine the cornmeal, milk, oil, eggs, chopped green bell pepper, chopped onion, garlic powder, salt, baking soda, sugar, drained corn kernels, pimentos and jalapeno peppers.  mix until combined, and pour into a well greased 10 to 14 inch cast iron skillet.**bake for 45 minutes.**']"
            ]
          },
          "metadata": {},
          "execution_count": 35
        }
      ]
    },
    {
      "cell_type": "markdown",
      "metadata": {
        "id": "eeYRBelqEO5Q"
      },
      "source": [
        "### Train val test split "
      ]
    },
    {
      "cell_type": "code",
      "metadata": {
        "colab": {
          "base_uri": "https://localhost:8080/"
        },
        "id": "zf_6ZUyAEDpB",
        "outputId": "f0ef3965-22dc-4463-a796-3b28ff3427a5"
      },
      "source": [
        "X = recipes_df_small[\"Directions\"].copy()\n",
        "y = recipes_df_small[\"train_data\"].copy()\n",
        "\n",
        "X_train, X_rem, y_train, y_rem = train_test_split(X,y, train_size=0.8, random_state= 11 )\n",
        "X_valid, X_test, y_valid, y_test = train_test_split(X_rem,y_rem, test_size=0.5, random_state=11)\n",
        "\n",
        "print(\"Train: \", X_train.shape, y_train.shape)\n",
        "print(\"Val:\", X_valid.shape, y_valid.shape)\n",
        "print(\"Test:\", X_test.shape, y_test.shape)"
      ],
      "execution_count": null,
      "outputs": [
        {
          "output_type": "stream",
          "name": "stdout",
          "text": [
            "Train:  (9876,) (9876,)\n",
            "Val: (1234,) (1234,)\n",
            "Test: (1235,) (1235,)\n"
          ]
        }
      ]
    },
    {
      "cell_type": "markdown",
      "metadata": {
        "id": "OqeHyU3lFBtd"
      },
      "source": [
        "### SpaCy custom NER model "
      ]
    },
    {
      "cell_type": "code",
      "metadata": {
        "id": "ZbppOmbdEulN"
      },
      "source": [
        "import time\n",
        "# A simple decorator to log function processing time\n",
        "def timer(method):\n",
        "    def timed(*args, **kw):\n",
        "        ts = time.time()\n",
        "        result = method(*args, **kw)\n",
        "        te = time.time()\n",
        "        print(\"Completed in {} seconds\".format(int(te - ts)))\n",
        "        return result\n",
        "    return timed"
      ],
      "execution_count": null,
      "outputs": []
    },
    {
      "cell_type": "code",
      "metadata": {
        "id": "-1krWSz9FK5I",
        "colab": {
          "base_uri": "https://localhost:8080/"
        },
        "outputId": "685fc0b2-a357-4883-c466-e93457319f7a"
      },
      "source": [
        "# Data must be of the form (sentence, {entities: [start, end, label]})\n",
        "@timer\n",
        "def train_spacy(train_data, iterations, dropout = 0.2, display_freq = 1):\n",
        "    ''' Train a spacy NER model, which can be queried against with test data\n",
        "    \n",
        "    train_data : training data in the format of (sentence, {entities: [(start, end, label)]})\n",
        "    labels : a list of unique annotations\n",
        "    iterations : number of training iterations\n",
        "    dropout : dropout proportion for training\n",
        "    display_freq : number of epochs between logging losses to console\n",
        "    '''\n",
        "    nlp = spacy.blank('en') \n",
        "    if 'ner' not in nlp.pipe_names:\n",
        "        ner = nlp.create_pipe('ner')\n",
        "        nlp.add_pipe(ner)\n",
        "    \n",
        "    # Add entity labels to the NER pipeline\n",
        "    # for i in labels:\n",
        "    ner.add_label(LABEL)\n",
        "\n",
        "    # Disable other pipelines in SpaCy to only train NER\n",
        "    other_pipes = [pipe for pipe in nlp.pipe_names if pipe != 'ner']\n",
        "    with nlp.disable_pipes(*other_pipes):\n",
        "        nlp.vocab.vectors.name = 'spacy_model' # without this, spaCy throws an \"unnamed\" error\n",
        "        optimizer = nlp.begin_training()\n",
        "        for itr in range(iterations):\n",
        "            random.shuffle(train_data) # shuffle the training data before each iteration\n",
        "            losses = {}\n",
        "            batches = minibatch(train_data, size = compounding(4., 32., 1.001))\n",
        "            for batch in batches:\n",
        "                texts, annotations = zip(*batch)\n",
        "                nlp.update(           \n",
        "                    texts,\n",
        "                    annotations, \n",
        "                    drop = dropout,   \n",
        "                    sgd = optimizer,\n",
        "                    losses = losses)\n",
        "            if itr % display_freq == 0:\n",
        "                print(\"Iteration {} Loss: {}\".format(itr + 1, losses))\n",
        "    return nlp\n",
        "\n",
        "# Train (and save) the NER model\n",
        "ner = train_spacy(y_train.tolist(), 10)\n",
        "ner.to_disk(\"spacy_example1\")"
      ],
      "execution_count": 38,
      "outputs": [
        {
          "output_type": "stream",
          "name": "stdout",
          "text": [
            "Iteration 1 Loss: {'ner': 32182.032454935783}\n",
            "Iteration 2 Loss: {'ner': 24353.736446388582}\n",
            "Iteration 3 Loss: {'ner': 23041.81111089932}\n",
            "Iteration 4 Loss: {'ner': 21081.916618189138}\n",
            "Iteration 5 Loss: {'ner': 20720.755212162858}\n",
            "Iteration 6 Loss: {'ner': 19940.77931718046}\n",
            "Iteration 7 Loss: {'ner': 18997.395321257936}\n",
            "Iteration 8 Loss: {'ner': 18863.184862197242}\n",
            "Iteration 9 Loss: {'ner': 18099.74205708565}\n",
            "Iteration 10 Loss: {'ner': 18085.939230897253}\n",
            "Completed in 1649 seconds\n"
          ]
        }
      ]
    },
    {
      "cell_type": "code",
      "metadata": {
        "id": "2OMCFEUKg1ZA"
      },
      "source": [
        "ner.to_disk(\"drive/MyDrive/recipes/spacy_model1\")"
      ],
      "execution_count": 40,
      "outputs": []
    },
    {
      "cell_type": "markdown",
      "metadata": {
        "id": "_h6k3gfaTg8Y"
      },
      "source": [
        " Test model on new data: validation set"
      ]
    },
    {
      "cell_type": "code",
      "metadata": {
        "id": "52Nbfv-WHWSJ"
      },
      "source": [
        "def load_model(model_path):\n",
        "    ''' Loads a pre-trained model for prediction on new test sentences\n",
        "    \n",
        "    model_path : directory of model saved by spacy.to_disk\n",
        "    '''\n",
        "    nlp = spacy.blank('en') \n",
        "    if 'ner' not in nlp.pipe_names:\n",
        "        ner = nlp.create_pipe('ner')\n",
        "        nlp.add_pipe(ner)\n",
        "    ner = nlp.from_disk(model_path)\n",
        "    return ner"
      ],
      "execution_count": null,
      "outputs": []
    },
    {
      "cell_type": "code",
      "metadata": {
        "colab": {
          "base_uri": "https://localhost:8080/",
          "height": 198
        },
        "id": "9s_fed3rT3gv",
        "outputId": "250db09a-8392-4991-aad7-eb7da76454a5"
      },
      "source": [
        "y_valid.tolist()[:6]"
      ],
      "execution_count": null,
      "outputs": [
        {
          "output_type": "error",
          "ename": "NameError",
          "evalue": "ignored",
          "traceback": [
            "\u001b[0;31m---------------------------------------------------------------------------\u001b[0m",
            "\u001b[0;31mNameError\u001b[0m                                 Traceback (most recent call last)",
            "\u001b[0;32m<ipython-input-3-765fc4201819>\u001b[0m in \u001b[0;36m<module>\u001b[0;34m()\u001b[0m\n\u001b[0;32m----> 1\u001b[0;31m \u001b[0my_valid\u001b[0m\u001b[0;34m.\u001b[0m\u001b[0mtolist\u001b[0m\u001b[0;34m(\u001b[0m\u001b[0;34m)\u001b[0m\u001b[0;34m[\u001b[0m\u001b[0;34m:\u001b[0m\u001b[0;36m6\u001b[0m\u001b[0;34m]\u001b[0m\u001b[0;34m\u001b[0m\u001b[0;34m\u001b[0m\u001b[0m\n\u001b[0m",
            "\u001b[0;31mNameError\u001b[0m: name 'y_valid' is not defined"
          ]
        }
      ]
    },
    {
      "cell_type": "code",
      "metadata": {
        "id": "8mIiwF5wTrWf"
      },
      "source": [
        "test_sent = y_val.tolist()"
      ],
      "execution_count": null,
      "outputs": []
    }
  ]
}