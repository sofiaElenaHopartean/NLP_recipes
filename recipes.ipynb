{
  "nbformat": 4,
  "nbformat_minor": 0,
  "metadata": {
    "colab": {
      "name": "recipes.ipynb",
      "provenance": [],
      "mount_file_id": "1gWYo2XLkeYHTisHgYFDDRjPyk7cUOs9j",
      "authorship_tag": "ABX9TyPp9sv6BxlKf0gKrgDg9atH",
      "include_colab_link": true
    },
    "kernelspec": {
      "name": "python3",
      "display_name": "Python 3"
    },
    "language_info": {
      "name": "python"
    }
  },
  "cells": [
    {
      "cell_type": "markdown",
      "metadata": {
        "id": "view-in-github",
        "colab_type": "text"
      },
      "source": [
        "<a href=\"https://colab.research.google.com/github/sofiaElenaHopartean/NLP_recipes/blob/main/recipes.ipynb\" target=\"_parent\"><img src=\"https://colab.research.google.com/assets/colab-badge.svg\" alt=\"Open In Colab\"/></a>"
      ]
    },
    {
      "cell_type": "markdown",
      "metadata": {
        "id": "NlHTD8A37srT"
      },
      "source": [
        "### Setup and imports"
      ]
    },
    {
      "cell_type": "code",
      "metadata": {
        "id": "LGC3r0iC7NiZ"
      },
      "source": [
        "# !python -m spacy download en_core_web_md\n",
        "# !python -m spacy download en_core_web_sm"
      ],
      "execution_count": 4,
      "outputs": []
    },
    {
      "cell_type": "code",
      "metadata": {
        "id": "N9yAnn_-1VOo"
      },
      "source": [
        "import spacy\n",
        "\n",
        "nlp = spacy.load(\"en_core_web_sm\")"
      ],
      "execution_count": 5,
      "outputs": []
    },
    {
      "cell_type": "code",
      "metadata": {
        "id": "XaUEU8KE7BOi"
      },
      "source": [
        "import pandas as pd\n",
        "import numpy as np\n",
        "import csv\n",
        "from spacy import displacy\n",
        "from spacy.util import minibatch, compounding\n",
        "\n",
        "import matplotlib.pyplot as plt\n",
        "%matplotlib inline"
      ],
      "execution_count": 6,
      "outputs": []
    },
    {
      "cell_type": "markdown",
      "metadata": {
        "id": "ogmqFY7z7vdR"
      },
      "source": [
        "### EDA"
      ]
    },
    {
      "cell_type": "code",
      "metadata": {
        "colab": {
          "base_uri": "https://localhost:8080/",
          "height": 383
        },
        "id": "hpQtVedq7rwh",
        "outputId": "242e37eb-016e-43b1-b684-f42dc2bcfc2c"
      },
      "source": [
        "recipes_df = pd.read_csv(\"drive/MyDrive/recipes.csv\", delimiter=\";\")\n",
        "recipes_df.head(3)"
      ],
      "execution_count": 10,
      "outputs": [
        {
          "output_type": "execute_result",
          "data": {
            "text/html": [
              "<div>\n",
              "<style scoped>\n",
              "    .dataframe tbody tr th:only-of-type {\n",
              "        vertical-align: middle;\n",
              "    }\n",
              "\n",
              "    .dataframe tbody tr th {\n",
              "        vertical-align: top;\n",
              "    }\n",
              "\n",
              "    .dataframe thead th {\n",
              "        text-align: right;\n",
              "    }\n",
              "</style>\n",
              "<table border=\"1\" class=\"dataframe\">\n",
              "  <thead>\n",
              "    <tr style=\"text-align: right;\">\n",
              "      <th></th>\n",
              "      <th>Recipe Name</th>\n",
              "      <th>Review Count</th>\n",
              "      <th>Recipe Photo</th>\n",
              "      <th>Author</th>\n",
              "      <th>Prepare Time</th>\n",
              "      <th>Cook Time</th>\n",
              "      <th>Total Time</th>\n",
              "      <th>Ingredients</th>\n",
              "      <th>Directions</th>\n",
              "      <th>RecipeID</th>\n",
              "    </tr>\n",
              "  </thead>\n",
              "  <tbody>\n",
              "    <tr>\n",
              "      <th>0</th>\n",
              "      <td>Golden Crescent Rolls Recipe</td>\n",
              "      <td>304</td>\n",
              "      <td>https://images.media-allrecipes.com/userphotos...</td>\n",
              "      <td>Mike A.</td>\n",
              "      <td>25 m</td>\n",
              "      <td>15 m</td>\n",
              "      <td>3 h 10 m</td>\n",
              "      <td>yeast,water,white sugar,salt,egg,butter,flour,...</td>\n",
              "      <td>Dissolve yeast in warm water.**Stir in sugar, ...</td>\n",
              "      <td>7000</td>\n",
              "    </tr>\n",
              "    <tr>\n",
              "      <th>1</th>\n",
              "      <td>Poppy Seed Bread with Glaze Recipe</td>\n",
              "      <td>137</td>\n",
              "      <td>https://images.media-allrecipes.com/userphotos...</td>\n",
              "      <td>Christina Jun</td>\n",
              "      <td>15 m</td>\n",
              "      <td>1 h</td>\n",
              "      <td>1 h 20 m</td>\n",
              "      <td>flour,salt,baking powder,poppy,butter,vegetabl...</td>\n",
              "      <td>'Preheat oven to 350 degrees F (175 degrees C)...</td>\n",
              "      <td>7001</td>\n",
              "    </tr>\n",
              "    <tr>\n",
              "      <th>2</th>\n",
              "      <td>Applesauce Bread I Recipe</td>\n",
              "      <td>124</td>\n",
              "      <td>https://images.media-allrecipes.com/userphotos...</td>\n",
              "      <td>GAF55</td>\n",
              "      <td>10 m</td>\n",
              "      <td>1 h 20 m</td>\n",
              "      <td>1 h 30 m</td>\n",
              "      <td>flour,egg,white sugar,vegetable oil,applesauce...</td>\n",
              "      <td>Preheat oven to 350 degrees F (175 degrees C)....</td>\n",
              "      <td>7003</td>\n",
              "    </tr>\n",
              "  </tbody>\n",
              "</table>\n",
              "</div>"
            ],
            "text/plain": [
              "                           Recipe Name  ... RecipeID\n",
              "0        Golden Crescent Rolls Recipe   ...     7000\n",
              "1  Poppy Seed Bread with Glaze Recipe   ...     7001\n",
              "2           Applesauce Bread I Recipe   ...     7003\n",
              "\n",
              "[3 rows x 10 columns]"
            ]
          },
          "metadata": {},
          "execution_count": 10
        }
      ]
    },
    {
      "cell_type": "code",
      "metadata": {
        "colab": {
          "base_uri": "https://localhost:8080/",
          "height": 297
        },
        "id": "zwp4kl2d8Ci8",
        "outputId": "d7ec4c0e-44e9-4613-f100-cb4cb723d944"
      },
      "source": [
        "recipes_df.describe()"
      ],
      "execution_count": 11,
      "outputs": [
        {
          "output_type": "execute_result",
          "data": {
            "text/html": [
              "<div>\n",
              "<style scoped>\n",
              "    .dataframe tbody tr th:only-of-type {\n",
              "        vertical-align: middle;\n",
              "    }\n",
              "\n",
              "    .dataframe tbody tr th {\n",
              "        vertical-align: top;\n",
              "    }\n",
              "\n",
              "    .dataframe thead th {\n",
              "        text-align: right;\n",
              "    }\n",
              "</style>\n",
              "<table border=\"1\" class=\"dataframe\">\n",
              "  <thead>\n",
              "    <tr style=\"text-align: right;\">\n",
              "      <th></th>\n",
              "      <th>RecipeID</th>\n",
              "    </tr>\n",
              "  </thead>\n",
              "  <tbody>\n",
              "    <tr>\n",
              "      <th>count</th>\n",
              "      <td>12351.000000</td>\n",
              "    </tr>\n",
              "    <tr>\n",
              "      <th>mean</th>\n",
              "      <td>16149.829326</td>\n",
              "    </tr>\n",
              "    <tr>\n",
              "      <th>std</th>\n",
              "      <td>5745.770833</td>\n",
              "    </tr>\n",
              "    <tr>\n",
              "      <th>min</th>\n",
              "      <td>7000.000000</td>\n",
              "    </tr>\n",
              "    <tr>\n",
              "      <th>25%</th>\n",
              "      <td>11150.500000</td>\n",
              "    </tr>\n",
              "    <tr>\n",
              "      <th>50%</th>\n",
              "      <td>15564.000000</td>\n",
              "    </tr>\n",
              "    <tr>\n",
              "      <th>75%</th>\n",
              "      <td>20889.500000</td>\n",
              "    </tr>\n",
              "    <tr>\n",
              "      <th>max</th>\n",
              "      <td>27546.000000</td>\n",
              "    </tr>\n",
              "  </tbody>\n",
              "</table>\n",
              "</div>"
            ],
            "text/plain": [
              "           RecipeID\n",
              "count  12351.000000\n",
              "mean   16149.829326\n",
              "std     5745.770833\n",
              "min     7000.000000\n",
              "25%    11150.500000\n",
              "50%    15564.000000\n",
              "75%    20889.500000\n",
              "max    27546.000000"
            ]
          },
          "metadata": {},
          "execution_count": 11
        }
      ]
    },
    {
      "cell_type": "code",
      "metadata": {
        "colab": {
          "base_uri": "https://localhost:8080/"
        },
        "id": "RQWciDNz9JHE",
        "outputId": "908a0e66-709a-4159-b2bc-252aea78e09a"
      },
      "source": [
        "recipes_df.info()"
      ],
      "execution_count": 12,
      "outputs": [
        {
          "output_type": "stream",
          "name": "stdout",
          "text": [
            "<class 'pandas.core.frame.DataFrame'>\n",
            "RangeIndex: 12351 entries, 0 to 12350\n",
            "Data columns (total 10 columns):\n",
            " #   Column        Non-Null Count  Dtype \n",
            "---  ------        --------------  ----- \n",
            " 0   Recipe Name   12351 non-null  object\n",
            " 1   Review Count  12351 non-null  object\n",
            " 2   Recipe Photo  12351 non-null  object\n",
            " 3   Author        12351 non-null  object\n",
            " 4   Prepare Time  12351 non-null  object\n",
            " 5   Cook Time     12351 non-null  object\n",
            " 6   Total Time    12351 non-null  object\n",
            " 7   Ingredients   12351 non-null  object\n",
            " 8   Directions    12345 non-null  object\n",
            " 9   RecipeID      12351 non-null  int64 \n",
            "dtypes: int64(1), object(9)\n",
            "memory usage: 965.0+ KB\n"
          ]
        }
      ]
    },
    {
      "cell_type": "code",
      "metadata": {
        "colab": {
          "base_uri": "https://localhost:8080/"
        },
        "id": "4YbGg9LJ9Msz",
        "outputId": "ff663be2-aba0-4bf9-e236-852e4fce3778"
      },
      "source": [
        "recipes_df.isnull().sum()"
      ],
      "execution_count": 13,
      "outputs": [
        {
          "output_type": "execute_result",
          "data": {
            "text/plain": [
              "Recipe Name     0\n",
              "Review Count    0\n",
              "Recipe Photo    0\n",
              "Author          0\n",
              "Prepare Time    0\n",
              "Cook Time       0\n",
              "Total Time      0\n",
              "Ingredients     0\n",
              "Directions      6\n",
              "RecipeID        0\n",
              "dtype: int64"
            ]
          },
          "metadata": {},
          "execution_count": 13
        }
      ]
    },
    {
      "cell_type": "code",
      "metadata": {
        "colab": {
          "base_uri": "https://localhost:8080/",
          "height": 527
        },
        "id": "oMoMZoIC9jhM",
        "outputId": "9a0126e4-3aed-49e9-a3f9-aa73341908bd"
      },
      "source": [
        "recipes_df[recipes_df['Directions'].isna()]\n",
        "# recipes_df[recipes_df.isna().any(axis=1)]"
      ],
      "execution_count": 14,
      "outputs": [
        {
          "output_type": "execute_result",
          "data": {
            "text/html": [
              "<div>\n",
              "<style scoped>\n",
              "    .dataframe tbody tr th:only-of-type {\n",
              "        vertical-align: middle;\n",
              "    }\n",
              "\n",
              "    .dataframe tbody tr th {\n",
              "        vertical-align: top;\n",
              "    }\n",
              "\n",
              "    .dataframe thead th {\n",
              "        text-align: right;\n",
              "    }\n",
              "</style>\n",
              "<table border=\"1\" class=\"dataframe\">\n",
              "  <thead>\n",
              "    <tr style=\"text-align: right;\">\n",
              "      <th></th>\n",
              "      <th>Recipe Name</th>\n",
              "      <th>Review Count</th>\n",
              "      <th>Recipe Photo</th>\n",
              "      <th>Author</th>\n",
              "      <th>Prepare Time</th>\n",
              "      <th>Cook Time</th>\n",
              "      <th>Total Time</th>\n",
              "      <th>Ingredients</th>\n",
              "      <th>Directions</th>\n",
              "      <th>RecipeID</th>\n",
              "    </tr>\n",
              "  </thead>\n",
              "  <tbody>\n",
              "    <tr>\n",
              "      <th>292</th>\n",
              "      <td>Sunshine Cake Recipe</td>\n",
              "      <td>9</td>\n",
              "      <td>https://images.media-allrecipes.com/userphotos...</td>\n",
              "      <td>Helga</td>\n",
              "      <td>X</td>\n",
              "      <td>X</td>\n",
              "      <td>X</td>\n",
              "      <td>egg,white sugar,water,flour,baking powder,salt...</td>\n",
              "      <td>NaN</td>\n",
              "      <td>7378</td>\n",
              "    </tr>\n",
              "    <tr>\n",
              "      <th>3818</th>\n",
              "      <td>Cherry Pie I Recipe</td>\n",
              "      <td>11</td>\n",
              "      <td>https://images.media-allrecipes.com/userphotos...</td>\n",
              "      <td>Cali</td>\n",
              "      <td>X</td>\n",
              "      <td>X</td>\n",
              "      <td>X</td>\n",
              "      <td>vanilla,gelatin,water,cherry,white sugar,corns...</td>\n",
              "      <td>NaN</td>\n",
              "      <td>12251</td>\n",
              "    </tr>\n",
              "    <tr>\n",
              "      <th>4320</th>\n",
              "      <td>Quick Clam Chowder Recipe</td>\n",
              "      <td>42</td>\n",
              "      <td>https://images.media-allrecipes.com/userphotos...</td>\n",
              "      <td>Lew Sweet</td>\n",
              "      <td>X</td>\n",
              "      <td>X</td>\n",
              "      <td>X</td>\n",
              "      <td>england,potato,celery,clam,onion,celery,margar...</td>\n",
              "      <td>NaN</td>\n",
              "      <td>12981</td>\n",
              "    </tr>\n",
              "    <tr>\n",
              "      <th>6238</th>\n",
              "      <td>Hot Clam Dip II Recipe</td>\n",
              "      <td>30</td>\n",
              "      <td>https://images.media-allrecipes.com/userphotos...</td>\n",
              "      <td>lara</td>\n",
              "      <td>X</td>\n",
              "      <td>X</td>\n",
              "      <td>X</td>\n",
              "      <td>bread,cream cheese,onion,beer,worcestershire s...</td>\n",
              "      <td>NaN</td>\n",
              "      <td>15648</td>\n",
              "    </tr>\n",
              "    <tr>\n",
              "      <th>9330</th>\n",
              "      <td>Chocolate Sausage (Salame di Cioccolato) Recipe</td>\n",
              "      <td>2</td>\n",
              "      <td>https://images.media-allrecipes.com/images/795...</td>\n",
              "      <td>Manuela</td>\n",
              "      <td>X</td>\n",
              "      <td>X</td>\n",
              "      <td>X</td>\n",
              "      <td>white sugar,egg,egg,butter,cocoa powder,cookie...</td>\n",
              "      <td>NaN</td>\n",
              "      <td>21002</td>\n",
              "    </tr>\n",
              "    <tr>\n",
              "      <th>10676</th>\n",
              "      <td>Oatmeal Kiss Cookies Recipe</td>\n",
              "      <td>6</td>\n",
              "      <td>https://images.media-allrecipes.com/userphotos...</td>\n",
              "      <td>HersheysKitchens.com</td>\n",
              "      <td>X</td>\n",
              "      <td>X</td>\n",
              "      <td>X</td>\n",
              "      <td>chocolate,butter,shortening,white sugar,brown ...</td>\n",
              "      <td>NaN</td>\n",
              "      <td>24031</td>\n",
              "    </tr>\n",
              "  </tbody>\n",
              "</table>\n",
              "</div>"
            ],
            "text/plain": [
              "                                            Recipe Name  ... RecipeID\n",
              "292                               Sunshine Cake Recipe   ...     7378\n",
              "3818                               Cherry Pie I Recipe   ...    12251\n",
              "4320                         Quick Clam Chowder Recipe   ...    12981\n",
              "6238                            Hot Clam Dip II Recipe   ...    15648\n",
              "9330   Chocolate Sausage (Salame di Cioccolato) Recipe   ...    21002\n",
              "10676                      Oatmeal Kiss Cookies Recipe   ...    24031\n",
              "\n",
              "[6 rows x 10 columns]"
            ]
          },
          "metadata": {},
          "execution_count": 14
        }
      ]
    },
    {
      "cell_type": "code",
      "metadata": {
        "id": "wmY0BvEn-XRp"
      },
      "source": [
        "recipes_df_small = recipes_df[~recipes_df['Directions'].isna()][[\"Directions\", \"Ingredients\"]]"
      ],
      "execution_count": 16,
      "outputs": []
    },
    {
      "cell_type": "code",
      "metadata": {
        "colab": {
          "base_uri": "https://localhost:8080/"
        },
        "id": "SJj94UqY-3Zg",
        "outputId": "37f5899a-564f-4611-cb28-08c8a0172a5d"
      },
      "source": [
        "recipes_df_small.shape"
      ],
      "execution_count": 18,
      "outputs": [
        {
          "output_type": "execute_result",
          "data": {
            "text/plain": [
              "(12345, 2)"
            ]
          },
          "metadata": {},
          "execution_count": 18
        }
      ]
    },
    {
      "cell_type": "code",
      "metadata": {
        "colab": {
          "base_uri": "https://localhost:8080/",
          "height": 289
        },
        "id": "gUcI2NX6-6FF",
        "outputId": "d7312d5d-096d-4f6c-dba7-bd2915971a51"
      },
      "source": [
        "recipes_df_small.head()"
      ],
      "execution_count": 19,
      "outputs": [
        {
          "output_type": "execute_result",
          "data": {
            "text/html": [
              "<div>\n",
              "<style scoped>\n",
              "    .dataframe tbody tr th:only-of-type {\n",
              "        vertical-align: middle;\n",
              "    }\n",
              "\n",
              "    .dataframe tbody tr th {\n",
              "        vertical-align: top;\n",
              "    }\n",
              "\n",
              "    .dataframe thead th {\n",
              "        text-align: right;\n",
              "    }\n",
              "</style>\n",
              "<table border=\"1\" class=\"dataframe\">\n",
              "  <thead>\n",
              "    <tr style=\"text-align: right;\">\n",
              "      <th></th>\n",
              "      <th>Directions</th>\n",
              "      <th>Ingredients</th>\n",
              "    </tr>\n",
              "  </thead>\n",
              "  <tbody>\n",
              "    <tr>\n",
              "      <th>0</th>\n",
              "      <td>Dissolve yeast in warm water.**Stir in sugar, ...</td>\n",
              "      <td>yeast,water,white sugar,salt,egg,butter,flour,...</td>\n",
              "    </tr>\n",
              "    <tr>\n",
              "      <th>1</th>\n",
              "      <td>'Preheat oven to 350 degrees F (175 degrees C)...</td>\n",
              "      <td>flour,salt,baking powder,poppy,butter,vegetabl...</td>\n",
              "    </tr>\n",
              "    <tr>\n",
              "      <th>2</th>\n",
              "      <td>Preheat oven to 350 degrees F (175 degrees C)....</td>\n",
              "      <td>flour,egg,white sugar,vegetable oil,applesauce...</td>\n",
              "    </tr>\n",
              "    <tr>\n",
              "      <th>3</th>\n",
              "      <td>Preheat oven to 350 degrees F (175 degrees C)....</td>\n",
              "      <td>flour,baking powder,baking soda,salt,cinnamon,...</td>\n",
              "    </tr>\n",
              "    <tr>\n",
              "      <th>4</th>\n",
              "      <td>Mix oats with buttermilk.  Let stand for 1/2 h...</td>\n",
              "      <td>oat,buttermilk,vegetable oil,egg,brown sugar,f...</td>\n",
              "    </tr>\n",
              "  </tbody>\n",
              "</table>\n",
              "</div>"
            ],
            "text/plain": [
              "                                          Directions                                        Ingredients\n",
              "0  Dissolve yeast in warm water.**Stir in sugar, ...  yeast,water,white sugar,salt,egg,butter,flour,...\n",
              "1  'Preheat oven to 350 degrees F (175 degrees C)...  flour,salt,baking powder,poppy,butter,vegetabl...\n",
              "2  Preheat oven to 350 degrees F (175 degrees C)....  flour,egg,white sugar,vegetable oil,applesauce...\n",
              "3  Preheat oven to 350 degrees F (175 degrees C)....  flour,baking powder,baking soda,salt,cinnamon,...\n",
              "4  Mix oats with buttermilk.  Let stand for 1/2 h...  oat,buttermilk,vegetable oil,egg,brown sugar,f..."
            ]
          },
          "metadata": {},
          "execution_count": 19
        }
      ]
    },
    {
      "cell_type": "code",
      "metadata": {
        "id": "tA47iQZO-99D"
      },
      "source": [
        "directions_lengths = [ sum(not chr.isspace() for chr in str) for str in recipes_df_small[\"Directions\"]]\n",
        "ingredients_lengths = [ sum(not chr.isspace() for chr in str) for str in recipes_df_small['Ingredients']]"
      ],
      "execution_count": 24,
      "outputs": []
    },
    {
      "cell_type": "code",
      "metadata": {
        "colab": {
          "base_uri": "https://localhost:8080/"
        },
        "id": "wpELNYDjD-81",
        "outputId": "cf51fa3c-bb37-4eb0-84ee-d661a26f020a"
      },
      "source": [
        "print(directions_lengths[:10])\n",
        "print(ingredients_lengths[:10])"
      ],
      "execution_count": 25,
      "outputs": [
        {
          "output_type": "stream",
          "name": "stdout",
          "text": [
            "[548, 446, 269, 293, 261, 459, 583, 139, 323, 277]\n",
            "[51, 124, 94, 107, 77, 59, 72, 75, 97, 101]\n"
          ]
        }
      ]
    },
    {
      "cell_type": "code",
      "metadata": {
        "colab": {
          "base_uri": "https://localhost:8080/",
          "height": 279
        },
        "id": "jAnF6COBEFT3",
        "outputId": "52e1cfd7-8f5b-4783-8957-cffaf697d1c5"
      },
      "source": [
        "plt.hist(directions_lengths)\n",
        "plt.xlabel(\"Nb. of non space chars\")\n",
        "plt.show()"
      ],
      "execution_count": 31,
      "outputs": [
        {
          "output_type": "display_data",
          "data": {
            "image/png": "[encoded data removed]",
            "text/plain": [
              "<Figure size 432x288 with 1 Axes>"
            ]
          },
          "metadata": {
            "needs_background": "light"
          }
        }
      ]
    },
    {
      "cell_type": "code",
      "metadata": {
        "colab": {
          "base_uri": "https://localhost:8080/"
        },
        "id": "O6w38WDvExFl",
        "outputId": "7fb5705d-4b26-4f7b-a56e-305760d026f2"
      },
      "source": [
        "small_directions = [len_ for len_ in directions_lengths if len_ <=10]\n",
        "small_directions"
      ],
      "execution_count": 32,
      "outputs": [
        {
          "output_type": "execute_result",
          "data": {
            "text/plain": [
              "[]"
            ]
          },
          "metadata": {},
          "execution_count": 32
        }
      ]
    },
    {
      "cell_type": "code",
      "metadata": {
        "colab": {
          "base_uri": "https://localhost:8080/",
          "height": 316
        },
        "id": "asNRG7D8E6jD",
        "outputId": "754321ab-e3ed-4e3c-f0b1-6940eefa5626"
      },
      "source": [
        "plt.hist(ingredients_lengths)\n",
        "plt.xlabel(\"Nb. of non space chars\")\n",
        "plt.show()\n",
        "small_ingreds = [(i, ingredients_lengths[i]) \n",
        "        for i in range(len(ingredients_lengths)) \n",
        "        if ingredients_lengths[i] <=10]\n",
        "print(\"nb of non space chars:\", small_ingreds)"
      ],
      "execution_count": 36,
      "outputs": [
        {
          "output_type": "display_data",
          "data": {
            "image/png": "[encoded data removed]",
            "text/plain": [
              "<Figure size 432x288 with 1 Axes>"
            ]
          },
          "metadata": {
            "needs_background": "light"
          }
        },
        {
          "output_type": "stream",
          "name": "stdout",
          "text": [
            "nb of non space chars: [(64, 5), (728, 4), (745, 4), (915, 10), (1009, 9), (3530, 9), (4885, 7), (4925, 8), (5073, 6), (5076, 10), (6829, 6), (7202, 10), (7817, 4), (8244, 10), (8552, 3), (8804, 10), (9091, 3), (10123, 7), (10177, 5), (11148, 4)]\n"
          ]
        }
      ]
    },
    {
      "cell_type": "code",
      "metadata": {
        "colab": {
          "base_uri": "https://localhost:8080/",
          "height": 669
        },
        "id": "L8W0dlUcFdbr",
        "outputId": "42892748-2d8b-4194-85f8-7abe23f47603"
      },
      "source": [
        "recipes_df_small.iloc[[i for i, _ in small_ingreds]]"
      ],
      "execution_count": 40,
      "outputs": [
        {
          "output_type": "execute_result",
          "data": {
            "text/html": [
              "<div>\n",
              "<style scoped>\n",
              "    .dataframe tbody tr th:only-of-type {\n",
              "        vertical-align: middle;\n",
              "    }\n",
              "\n",
              "    .dataframe tbody tr th {\n",
              "        vertical-align: top;\n",
              "    }\n",
              "\n",
              "    .dataframe thead th {\n",
              "        text-align: right;\n",
              "    }\n",
              "</style>\n",
              "<table border=\"1\" class=\"dataframe\">\n",
              "  <thead>\n",
              "    <tr style=\"text-align: right;\">\n",
              "      <th></th>\n",
              "      <th>Directions</th>\n",
              "      <th>Ingredients</th>\n",
              "    </tr>\n",
              "  </thead>\n",
              "  <tbody>\n",
              "    <tr>\n",
              "      <th>64</th>\n",
              "      <td>Thaw bread dough.**Preheat oven to 375 degrees...</td>\n",
              "      <td>bread</td>\n",
              "    </tr>\n",
              "    <tr>\n",
              "      <th>729</th>\n",
              "      <td>Preheat oven to 375 degrees F (190 degrees C)....</td>\n",
              "      <td>cake</td>\n",
              "    </tr>\n",
              "    <tr>\n",
              "      <th>746</th>\n",
              "      <td>Start with a cooled 9-inch square cake. From o...</td>\n",
              "      <td>cake</td>\n",
              "    </tr>\n",
              "    <tr>\n",
              "      <th>916</th>\n",
              "      <td>In a large bowl, combine cake mix, peaches and...</td>\n",
              "      <td>cake,peach</td>\n",
              "    </tr>\n",
              "    <tr>\n",
              "      <th>1010</th>\n",
              "      <td>'Prepare the cake according to package instruc...</td>\n",
              "      <td>cake,side</td>\n",
              "    </tr>\n",
              "    <tr>\n",
              "      <th>3531</th>\n",
              "      <td>'Heap the flour, and make a well in it.  Break...</td>\n",
              "      <td>flour,egg</td>\n",
              "    </tr>\n",
              "    <tr>\n",
              "      <th>4888</th>\n",
              "      <td>Preheat oven to 300 degrees F (150 degrees C)....</td>\n",
              "      <td>pumpkin</td>\n",
              "    </tr>\n",
              "    <tr>\n",
              "      <th>4928</th>\n",
              "      <td>Preheat oven to 275 degrees F. (135 degrees C)...</td>\n",
              "      <td>ham,cola</td>\n",
              "    </tr>\n",
              "    <tr>\n",
              "      <th>5076</th>\n",
              "      <td>Cut each tomato  in half through the middle, n...</td>\n",
              "      <td>cherry</td>\n",
              "    </tr>\n",
              "    <tr>\n",
              "      <th>5079</th>\n",
              "      <td>Preheat the oven to 500 degrees F (260 degrees...</td>\n",
              "      <td>bell pepper</td>\n",
              "    </tr>\n",
              "    <tr>\n",
              "      <th>6833</th>\n",
              "      <td>Preheat oven to 350 degrees F (175 degrees C)....</td>\n",
              "      <td>potato</td>\n",
              "    </tr>\n",
              "    <tr>\n",
              "      <th>7206</th>\n",
              "      <td>Preheat oven to 350 degrees F (175 degrees C)....</td>\n",
              "      <td>ham,butter</td>\n",
              "    </tr>\n",
              "    <tr>\n",
              "      <th>7821</th>\n",
              "      <td>Leave tofu in original package and place in fr...</td>\n",
              "      <td>tofu</td>\n",
              "    </tr>\n",
              "    <tr>\n",
              "      <th>8248</th>\n",
              "      <td>Place the sherbet in a punch bowl. Pour in the...</td>\n",
              "      <td>herb,lemon</td>\n",
              "    </tr>\n",
              "    <tr>\n",
              "      <th>8556</th>\n",
              "      <td>Preheat an outdoor grill for medium high heat....</td>\n",
              "      <td>egg</td>\n",
              "    </tr>\n",
              "    <tr>\n",
              "      <th>8808</th>\n",
              "      <td>In a pitcher combine milk and carbonated bever...</td>\n",
              "      <td>milk,lemon</td>\n",
              "    </tr>\n",
              "    <tr>\n",
              "      <th>9095</th>\n",
              "      <td>'Pour the cold tea into an ice cube tray and f...</td>\n",
              "      <td>tea</td>\n",
              "    </tr>\n",
              "    <tr>\n",
              "      <th>10128</th>\n",
              "      <td>Preheat oven to 325 degrees F (165 degrees C)....</td>\n",
              "      <td>pumpkin</td>\n",
              "    </tr>\n",
              "    <tr>\n",
              "      <th>10182</th>\n",
              "      <td>Fill airtight containers approximately half fu...</td>\n",
              "      <td>cream</td>\n",
              "    </tr>\n",
              "    <tr>\n",
              "      <th>11154</th>\n",
              "      <td>Fill a large saucepan with water and bring to ...</td>\n",
              "      <td>milk</td>\n",
              "    </tr>\n",
              "  </tbody>\n",
              "</table>\n",
              "</div>"
            ],
            "text/plain": [
              "                                              Directions  Ingredients\n",
              "64     Thaw bread dough.**Preheat oven to 375 degrees...        bread\n",
              "729    Preheat oven to 375 degrees F (190 degrees C)....         cake\n",
              "746    Start with a cooled 9-inch square cake. From o...         cake\n",
              "916    In a large bowl, combine cake mix, peaches and...   cake,peach\n",
              "1010   'Prepare the cake according to package instruc...    cake,side\n",
              "3531   'Heap the flour, and make a well in it.  Break...    flour,egg\n",
              "4888   Preheat oven to 300 degrees F (150 degrees C)....      pumpkin\n",
              "4928   Preheat oven to 275 degrees F. (135 degrees C)...     ham,cola\n",
              "5076   Cut each tomato  in half through the middle, n...       cherry\n",
              "5079   Preheat the oven to 500 degrees F (260 degrees...  bell pepper\n",
              "6833   Preheat oven to 350 degrees F (175 degrees C)....       potato\n",
              "7206   Preheat oven to 350 degrees F (175 degrees C)....   ham,butter\n",
              "7821   Leave tofu in original package and place in fr...         tofu\n",
              "8248   Place the sherbet in a punch bowl. Pour in the...   herb,lemon\n",
              "8556   Preheat an outdoor grill for medium high heat....          egg\n",
              "8808   In a pitcher combine milk and carbonated bever...   milk,lemon\n",
              "9095   'Pour the cold tea into an ice cube tray and f...          tea\n",
              "10128  Preheat oven to 325 degrees F (165 degrees C)....      pumpkin\n",
              "10182  Fill airtight containers approximately half fu...        cream\n",
              "11154  Fill a large saucepan with water and bring to ...         milk"
            ]
          },
          "metadata": {},
          "execution_count": 40
        }
      ]
    },
    {
      "cell_type": "code",
      "metadata": {
        "id": "pfJKlOrWFpNM"
      },
      "source": [
        ""
      ],
      "execution_count": null,
      "outputs": []
    }
  ]
}