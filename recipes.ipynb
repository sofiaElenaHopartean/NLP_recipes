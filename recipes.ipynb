{
  "nbformat": 4,
  "nbformat_minor": 0,
  "metadata": {
    "colab": {
      "name": "recipes.ipynb",
      "provenance": [],
      "collapsed_sections": [
        "NlHTD8A37srT",
        "HoLl_hvoHzU8"
      ],
      "mount_file_id": "1gWYo2XLkeYHTisHgYFDDRjPyk7cUOs9j",
      "authorship_tag": "ABX9TyO3qLmbKQ0tfISVx/hL1A1c",
      "include_colab_link": true
    },
    "kernelspec": {
      "name": "python3",
      "display_name": "Python 3"
    },
    "language_info": {
      "name": "python"
    }
  },
  "cells": [
    {
      "cell_type": "markdown",
      "metadata": {
        "id": "view-in-github",
        "colab_type": "text"
      },
      "source": [
        "<a href=\"https://colab.research.google.com/github/sofiaElenaHopartean/NLP_recipes/blob/main/recipes.ipynb\" target=\"_parent\"><img src=\"https://colab.research.google.com/assets/colab-badge.svg\" alt=\"Open In Colab\"/></a>"
      ]
    },
    {
      "cell_type": "markdown",
      "metadata": {
        "id": "NlHTD8A37srT"
      },
      "source": [
        "### Setup and imports"
      ]
    },
    {
      "cell_type": "code",
      "metadata": {
        "id": "LGC3r0iC7NiZ"
      },
      "source": [
        "# !python -m spacy download en_core_web_md\n",
        "# !python -m spacy download en_core_web_sm"
      ],
      "execution_count": 4,
      "outputs": []
    },
    {
      "cell_type": "code",
      "metadata": {
        "id": "N9yAnn_-1VOo"
      },
      "source": [
        "import spacy\n",
        "\n",
        "nlp = spacy.load(\"en_core_web_sm\")"
      ],
      "execution_count": 5,
      "outputs": []
    },
    {
      "cell_type": "code",
      "metadata": {
        "id": "XaUEU8KE7BOi"
      },
      "source": [
        "import pandas as pd\n",
        "import numpy as np\n",
        "import csv\n",
        "# import explacy\n",
        "from spacy import displacy\n",
        "from spacy.util import minibatch, compounding\n",
        "\n",
        "import matplotlib.pyplot as plt\n",
        "%matplotlib inline\n",
        "from sklearn.model_selection import train_test_split"
      ],
      "execution_count": 109,
      "outputs": []
    },
    {
      "cell_type": "markdown",
      "metadata": {
        "id": "ogmqFY7z7vdR"
      },
      "source": [
        "### Dataset cleaning "
      ]
    },
    {
      "cell_type": "code",
      "metadata": {
        "colab": {
          "base_uri": "https://localhost:8080/",
          "height": 383
        },
        "id": "hpQtVedq7rwh",
        "outputId": "1d4bffab-7bfd-4b5c-b878-0e7877b9b4a6"
      },
      "source": [
        "recipes_df = pd.read_csv(\"drive/MyDrive/recipes.csv\", delimiter=\";\")\n",
        "recipes_df.head(3)"
      ],
      "execution_count": 66,
      "outputs": [
        {
          "output_type": "execute_result",
          "data": {
            "text/html": [
              "<div>\n",
              "<style scoped>\n",
              "    .dataframe tbody tr th:only-of-type {\n",
              "        vertical-align: middle;\n",
              "    }\n",
              "\n",
              "    .dataframe tbody tr th {\n",
              "        vertical-align: top;\n",
              "    }\n",
              "\n",
              "    .dataframe thead th {\n",
              "        text-align: right;\n",
              "    }\n",
              "</style>\n",
              "<table border=\"1\" class=\"dataframe\">\n",
              "  <thead>\n",
              "    <tr style=\"text-align: right;\">\n",
              "      <th></th>\n",
              "      <th>Recipe Name</th>\n",
              "      <th>Review Count</th>\n",
              "      <th>Recipe Photo</th>\n",
              "      <th>Author</th>\n",
              "      <th>Prepare Time</th>\n",
              "      <th>Cook Time</th>\n",
              "      <th>Total Time</th>\n",
              "      <th>Ingredients</th>\n",
              "      <th>Directions</th>\n",
              "      <th>RecipeID</th>\n",
              "    </tr>\n",
              "  </thead>\n",
              "  <tbody>\n",
              "    <tr>\n",
              "      <th>0</th>\n",
              "      <td>Golden Crescent Rolls Recipe</td>\n",
              "      <td>304</td>\n",
              "      <td>https://images.media-allrecipes.com/userphotos...</td>\n",
              "      <td>Mike A.</td>\n",
              "      <td>25 m</td>\n",
              "      <td>15 m</td>\n",
              "      <td>3 h 10 m</td>\n",
              "      <td>yeast,water,white sugar,salt,egg,butter,flour,...</td>\n",
              "      <td>Dissolve yeast in warm water.**Stir in sugar, ...</td>\n",
              "      <td>7000</td>\n",
              "    </tr>\n",
              "    <tr>\n",
              "      <th>1</th>\n",
              "      <td>Poppy Seed Bread with Glaze Recipe</td>\n",
              "      <td>137</td>\n",
              "      <td>https://images.media-allrecipes.com/userphotos...</td>\n",
              "      <td>Christina Jun</td>\n",
              "      <td>15 m</td>\n",
              "      <td>1 h</td>\n",
              "      <td>1 h 20 m</td>\n",
              "      <td>flour,salt,baking powder,poppy,butter,vegetabl...</td>\n",
              "      <td>'Preheat oven to 350 degrees F (175 degrees C)...</td>\n",
              "      <td>7001</td>\n",
              "    </tr>\n",
              "    <tr>\n",
              "      <th>2</th>\n",
              "      <td>Applesauce Bread I Recipe</td>\n",
              "      <td>124</td>\n",
              "      <td>https://images.media-allrecipes.com/userphotos...</td>\n",
              "      <td>GAF55</td>\n",
              "      <td>10 m</td>\n",
              "      <td>1 h 20 m</td>\n",
              "      <td>1 h 30 m</td>\n",
              "      <td>flour,egg,white sugar,vegetable oil,applesauce...</td>\n",
              "      <td>Preheat oven to 350 degrees F (175 degrees C)....</td>\n",
              "      <td>7003</td>\n",
              "    </tr>\n",
              "  </tbody>\n",
              "</table>\n",
              "</div>"
            ],
            "text/plain": [
              "                           Recipe Name  ... RecipeID\n",
              "0        Golden Crescent Rolls Recipe   ...     7000\n",
              "1  Poppy Seed Bread with Glaze Recipe   ...     7001\n",
              "2           Applesauce Bread I Recipe   ...     7003\n",
              "\n",
              "[3 rows x 10 columns]"
            ]
          },
          "metadata": {},
          "execution_count": 66
        }
      ]
    },
    {
      "cell_type": "code",
      "metadata": {
        "colab": {
          "base_uri": "https://localhost:8080/",
          "height": 297
        },
        "id": "zwp4kl2d8Ci8",
        "outputId": "5bcebedb-f3b7-45da-d420-5ed7a7da4903"
      },
      "source": [
        "recipes_df.describe()"
      ],
      "execution_count": 67,
      "outputs": [
        {
          "output_type": "execute_result",
          "data": {
            "text/html": [
              "<div>\n",
              "<style scoped>\n",
              "    .dataframe tbody tr th:only-of-type {\n",
              "        vertical-align: middle;\n",
              "    }\n",
              "\n",
              "    .dataframe tbody tr th {\n",
              "        vertical-align: top;\n",
              "    }\n",
              "\n",
              "    .dataframe thead th {\n",
              "        text-align: right;\n",
              "    }\n",
              "</style>\n",
              "<table border=\"1\" class=\"dataframe\">\n",
              "  <thead>\n",
              "    <tr style=\"text-align: right;\">\n",
              "      <th></th>\n",
              "      <th>RecipeID</th>\n",
              "    </tr>\n",
              "  </thead>\n",
              "  <tbody>\n",
              "    <tr>\n",
              "      <th>count</th>\n",
              "      <td>12351.000000</td>\n",
              "    </tr>\n",
              "    <tr>\n",
              "      <th>mean</th>\n",
              "      <td>16149.829326</td>\n",
              "    </tr>\n",
              "    <tr>\n",
              "      <th>std</th>\n",
              "      <td>5745.770833</td>\n",
              "    </tr>\n",
              "    <tr>\n",
              "      <th>min</th>\n",
              "      <td>7000.000000</td>\n",
              "    </tr>\n",
              "    <tr>\n",
              "      <th>25%</th>\n",
              "      <td>11150.500000</td>\n",
              "    </tr>\n",
              "    <tr>\n",
              "      <th>50%</th>\n",
              "      <td>15564.000000</td>\n",
              "    </tr>\n",
              "    <tr>\n",
              "      <th>75%</th>\n",
              "      <td>20889.500000</td>\n",
              "    </tr>\n",
              "    <tr>\n",
              "      <th>max</th>\n",
              "      <td>27546.000000</td>\n",
              "    </tr>\n",
              "  </tbody>\n",
              "</table>\n",
              "</div>"
            ],
            "text/plain": [
              "           RecipeID\n",
              "count  12351.000000\n",
              "mean   16149.829326\n",
              "std     5745.770833\n",
              "min     7000.000000\n",
              "25%    11150.500000\n",
              "50%    15564.000000\n",
              "75%    20889.500000\n",
              "max    27546.000000"
            ]
          },
          "metadata": {},
          "execution_count": 67
        }
      ]
    },
    {
      "cell_type": "code",
      "metadata": {
        "colab": {
          "base_uri": "https://localhost:8080/"
        },
        "id": "RQWciDNz9JHE",
        "outputId": "9c3d1717-1f96-4351-8cde-a3688f3a4d6f"
      },
      "source": [
        "recipes_df.info()"
      ],
      "execution_count": 68,
      "outputs": [
        {
          "output_type": "stream",
          "name": "stdout",
          "text": [
            "<class 'pandas.core.frame.DataFrame'>\n",
            "RangeIndex: 12351 entries, 0 to 12350\n",
            "Data columns (total 10 columns):\n",
            " #   Column        Non-Null Count  Dtype \n",
            "---  ------        --------------  ----- \n",
            " 0   Recipe Name   12351 non-null  object\n",
            " 1   Review Count  12351 non-null  object\n",
            " 2   Recipe Photo  12351 non-null  object\n",
            " 3   Author        12351 non-null  object\n",
            " 4   Prepare Time  12351 non-null  object\n",
            " 5   Cook Time     12351 non-null  object\n",
            " 6   Total Time    12351 non-null  object\n",
            " 7   Ingredients   12351 non-null  object\n",
            " 8   Directions    12345 non-null  object\n",
            " 9   RecipeID      12351 non-null  int64 \n",
            "dtypes: int64(1), object(9)\n",
            "memory usage: 965.0+ KB\n"
          ]
        }
      ]
    },
    {
      "cell_type": "code",
      "metadata": {
        "colab": {
          "base_uri": "https://localhost:8080/"
        },
        "id": "4YbGg9LJ9Msz",
        "outputId": "c4991117-d317-46d3-ae2e-8114ed16332c"
      },
      "source": [
        "recipes_df.isnull().sum()"
      ],
      "execution_count": 69,
      "outputs": [
        {
          "output_type": "execute_result",
          "data": {
            "text/plain": [
              "Recipe Name     0\n",
              "Review Count    0\n",
              "Recipe Photo    0\n",
              "Author          0\n",
              "Prepare Time    0\n",
              "Cook Time       0\n",
              "Total Time      0\n",
              "Ingredients     0\n",
              "Directions      6\n",
              "RecipeID        0\n",
              "dtype: int64"
            ]
          },
          "metadata": {},
          "execution_count": 69
        }
      ]
    },
    {
      "cell_type": "code",
      "metadata": {
        "colab": {
          "base_uri": "https://localhost:8080/",
          "height": 527
        },
        "id": "oMoMZoIC9jhM",
        "outputId": "073fde0e-00b1-43e5-9df9-60307c094aa4"
      },
      "source": [
        "recipes_df[recipes_df['Directions'].isna()]\n",
        "# recipes_df[recipes_df.isna().any(axis=1)]"
      ],
      "execution_count": 70,
      "outputs": [
        {
          "output_type": "execute_result",
          "data": {
            "text/html": [
              "<div>\n",
              "<style scoped>\n",
              "    .dataframe tbody tr th:only-of-type {\n",
              "        vertical-align: middle;\n",
              "    }\n",
              "\n",
              "    .dataframe tbody tr th {\n",
              "        vertical-align: top;\n",
              "    }\n",
              "\n",
              "    .dataframe thead th {\n",
              "        text-align: right;\n",
              "    }\n",
              "</style>\n",
              "<table border=\"1\" class=\"dataframe\">\n",
              "  <thead>\n",
              "    <tr style=\"text-align: right;\">\n",
              "      <th></th>\n",
              "      <th>Recipe Name</th>\n",
              "      <th>Review Count</th>\n",
              "      <th>Recipe Photo</th>\n",
              "      <th>Author</th>\n",
              "      <th>Prepare Time</th>\n",
              "      <th>Cook Time</th>\n",
              "      <th>Total Time</th>\n",
              "      <th>Ingredients</th>\n",
              "      <th>Directions</th>\n",
              "      <th>RecipeID</th>\n",
              "    </tr>\n",
              "  </thead>\n",
              "  <tbody>\n",
              "    <tr>\n",
              "      <th>292</th>\n",
              "      <td>Sunshine Cake Recipe</td>\n",
              "      <td>9</td>\n",
              "      <td>https://images.media-allrecipes.com/userphotos...</td>\n",
              "      <td>Helga</td>\n",
              "      <td>X</td>\n",
              "      <td>X</td>\n",
              "      <td>X</td>\n",
              "      <td>egg,white sugar,water,flour,baking powder,salt...</td>\n",
              "      <td>NaN</td>\n",
              "      <td>7378</td>\n",
              "    </tr>\n",
              "    <tr>\n",
              "      <th>3818</th>\n",
              "      <td>Cherry Pie I Recipe</td>\n",
              "      <td>11</td>\n",
              "      <td>https://images.media-allrecipes.com/userphotos...</td>\n",
              "      <td>Cali</td>\n",
              "      <td>X</td>\n",
              "      <td>X</td>\n",
              "      <td>X</td>\n",
              "      <td>vanilla,gelatin,water,cherry,white sugar,corns...</td>\n",
              "      <td>NaN</td>\n",
              "      <td>12251</td>\n",
              "    </tr>\n",
              "    <tr>\n",
              "      <th>4320</th>\n",
              "      <td>Quick Clam Chowder Recipe</td>\n",
              "      <td>42</td>\n",
              "      <td>https://images.media-allrecipes.com/userphotos...</td>\n",
              "      <td>Lew Sweet</td>\n",
              "      <td>X</td>\n",
              "      <td>X</td>\n",
              "      <td>X</td>\n",
              "      <td>england,potato,celery,clam,onion,celery,margar...</td>\n",
              "      <td>NaN</td>\n",
              "      <td>12981</td>\n",
              "    </tr>\n",
              "    <tr>\n",
              "      <th>6238</th>\n",
              "      <td>Hot Clam Dip II Recipe</td>\n",
              "      <td>30</td>\n",
              "      <td>https://images.media-allrecipes.com/userphotos...</td>\n",
              "      <td>lara</td>\n",
              "      <td>X</td>\n",
              "      <td>X</td>\n",
              "      <td>X</td>\n",
              "      <td>bread,cream cheese,onion,beer,worcestershire s...</td>\n",
              "      <td>NaN</td>\n",
              "      <td>15648</td>\n",
              "    </tr>\n",
              "    <tr>\n",
              "      <th>9330</th>\n",
              "      <td>Chocolate Sausage (Salame di Cioccolato) Recipe</td>\n",
              "      <td>2</td>\n",
              "      <td>https://images.media-allrecipes.com/images/795...</td>\n",
              "      <td>Manuela</td>\n",
              "      <td>X</td>\n",
              "      <td>X</td>\n",
              "      <td>X</td>\n",
              "      <td>white sugar,egg,egg,butter,cocoa powder,cookie...</td>\n",
              "      <td>NaN</td>\n",
              "      <td>21002</td>\n",
              "    </tr>\n",
              "    <tr>\n",
              "      <th>10676</th>\n",
              "      <td>Oatmeal Kiss Cookies Recipe</td>\n",
              "      <td>6</td>\n",
              "      <td>https://images.media-allrecipes.com/userphotos...</td>\n",
              "      <td>HersheysKitchens.com</td>\n",
              "      <td>X</td>\n",
              "      <td>X</td>\n",
              "      <td>X</td>\n",
              "      <td>chocolate,butter,shortening,white sugar,brown ...</td>\n",
              "      <td>NaN</td>\n",
              "      <td>24031</td>\n",
              "    </tr>\n",
              "  </tbody>\n",
              "</table>\n",
              "</div>"
            ],
            "text/plain": [
              "                                            Recipe Name  ... RecipeID\n",
              "292                               Sunshine Cake Recipe   ...     7378\n",
              "3818                               Cherry Pie I Recipe   ...    12251\n",
              "4320                         Quick Clam Chowder Recipe   ...    12981\n",
              "6238                            Hot Clam Dip II Recipe   ...    15648\n",
              "9330   Chocolate Sausage (Salame di Cioccolato) Recipe   ...    21002\n",
              "10676                      Oatmeal Kiss Cookies Recipe   ...    24031\n",
              "\n",
              "[6 rows x 10 columns]"
            ]
          },
          "metadata": {},
          "execution_count": 70
        }
      ]
    },
    {
      "cell_type": "code",
      "metadata": {
        "id": "wmY0BvEn-XRp"
      },
      "source": [
        "recipes_df_small = recipes_df[~recipes_df['Directions'].isna()][[\"Directions\", \"Ingredients\"]]"
      ],
      "execution_count": 71,
      "outputs": []
    },
    {
      "cell_type": "code",
      "metadata": {
        "colab": {
          "base_uri": "https://localhost:8080/"
        },
        "id": "SJj94UqY-3Zg",
        "outputId": "32ffb351-4d4a-4e15-8be0-7fccf4320794"
      },
      "source": [
        "recipes_df_small.shape"
      ],
      "execution_count": 72,
      "outputs": [
        {
          "output_type": "execute_result",
          "data": {
            "text/plain": [
              "(12345, 2)"
            ]
          },
          "metadata": {},
          "execution_count": 72
        }
      ]
    },
    {
      "cell_type": "code",
      "metadata": {
        "colab": {
          "base_uri": "https://localhost:8080/",
          "height": 289
        },
        "id": "gUcI2NX6-6FF",
        "outputId": "667c8e52-3621-43eb-9c2d-91f56266c6b1"
      },
      "source": [
        "recipes_df_small.head()"
      ],
      "execution_count": 73,
      "outputs": [
        {
          "output_type": "execute_result",
          "data": {
            "text/html": [
              "<div>\n",
              "<style scoped>\n",
              "    .dataframe tbody tr th:only-of-type {\n",
              "        vertical-align: middle;\n",
              "    }\n",
              "\n",
              "    .dataframe tbody tr th {\n",
              "        vertical-align: top;\n",
              "    }\n",
              "\n",
              "    .dataframe thead th {\n",
              "        text-align: right;\n",
              "    }\n",
              "</style>\n",
              "<table border=\"1\" class=\"dataframe\">\n",
              "  <thead>\n",
              "    <tr style=\"text-align: right;\">\n",
              "      <th></th>\n",
              "      <th>Directions</th>\n",
              "      <th>Ingredients</th>\n",
              "    </tr>\n",
              "  </thead>\n",
              "  <tbody>\n",
              "    <tr>\n",
              "      <th>0</th>\n",
              "      <td>Dissolve yeast in warm water.**Stir in sugar, ...</td>\n",
              "      <td>yeast,water,white sugar,salt,egg,butter,flour,...</td>\n",
              "    </tr>\n",
              "    <tr>\n",
              "      <th>1</th>\n",
              "      <td>'Preheat oven to 350 degrees F (175 degrees C)...</td>\n",
              "      <td>flour,salt,baking powder,poppy,butter,vegetabl...</td>\n",
              "    </tr>\n",
              "    <tr>\n",
              "      <th>2</th>\n",
              "      <td>Preheat oven to 350 degrees F (175 degrees C)....</td>\n",
              "      <td>flour,egg,white sugar,vegetable oil,applesauce...</td>\n",
              "    </tr>\n",
              "    <tr>\n",
              "      <th>3</th>\n",
              "      <td>Preheat oven to 350 degrees F (175 degrees C)....</td>\n",
              "      <td>flour,baking powder,baking soda,salt,cinnamon,...</td>\n",
              "    </tr>\n",
              "    <tr>\n",
              "      <th>4</th>\n",
              "      <td>Mix oats with buttermilk.  Let stand for 1/2 h...</td>\n",
              "      <td>oat,buttermilk,vegetable oil,egg,brown sugar,f...</td>\n",
              "    </tr>\n",
              "  </tbody>\n",
              "</table>\n",
              "</div>"
            ],
            "text/plain": [
              "                                          Directions                                        Ingredients\n",
              "0  Dissolve yeast in warm water.**Stir in sugar, ...  yeast,water,white sugar,salt,egg,butter,flour,...\n",
              "1  'Preheat oven to 350 degrees F (175 degrees C)...  flour,salt,baking powder,poppy,butter,vegetabl...\n",
              "2  Preheat oven to 350 degrees F (175 degrees C)....  flour,egg,white sugar,vegetable oil,applesauce...\n",
              "3  Preheat oven to 350 degrees F (175 degrees C)....  flour,baking powder,baking soda,salt,cinnamon,...\n",
              "4  Mix oats with buttermilk.  Let stand for 1/2 h...  oat,buttermilk,vegetable oil,egg,brown sugar,f..."
            ]
          },
          "metadata": {},
          "execution_count": 73
        }
      ]
    },
    {
      "cell_type": "code",
      "metadata": {
        "id": "tA47iQZO-99D"
      },
      "source": [
        "directions_lengths = [ sum(not chr.isspace() for chr in str) for str in recipes_df_small[\"Directions\"]]\n",
        "ingredients_lengths = [ sum(not chr.isspace() for chr in str) for str in recipes_df_small['Ingredients']]"
      ],
      "execution_count": 74,
      "outputs": []
    },
    {
      "cell_type": "code",
      "metadata": {
        "colab": {
          "base_uri": "https://localhost:8080/"
        },
        "id": "wpELNYDjD-81",
        "outputId": "6ce77d05-c8b7-406e-ac87-bfe0ab61fa71"
      },
      "source": [
        "print(directions_lengths[:10])\n",
        "print(ingredients_lengths[:10])"
      ],
      "execution_count": 75,
      "outputs": [
        {
          "output_type": "stream",
          "name": "stdout",
          "text": [
            "[548, 446, 269, 293, 261, 459, 583, 139, 323, 277]\n",
            "[51, 124, 94, 107, 77, 59, 72, 75, 97, 101]\n"
          ]
        }
      ]
    },
    {
      "cell_type": "code",
      "metadata": {
        "colab": {
          "base_uri": "https://localhost:8080/",
          "height": 279
        },
        "id": "jAnF6COBEFT3",
        "outputId": "4581dd48-7b95-406b-f109-5822db8a22c9"
      },
      "source": [
        "plt.hist(directions_lengths)\n",
        "plt.xlabel(\"Nb. of non space chars\")\n",
        "plt.show()"
      ],
      "execution_count": 76,
      "outputs": [
        {
          "output_type": "display_data",
          "data": {
            "image/png": "[encoded data removed]",
            "text/plain": [
              "<Figure size 432x288 with 1 Axes>"
            ]
          },
          "metadata": {
            "needs_background": "light"
          }
        }
      ]
    },
    {
      "cell_type": "code",
      "metadata": {
        "colab": {
          "base_uri": "https://localhost:8080/"
        },
        "id": "O6w38WDvExFl",
        "outputId": "2a07a7e4-7206-4bea-ca21-d854fbc8d73d"
      },
      "source": [
        "small_directions = [len_ for len_ in directions_lengths if len_ <=10]\n",
        "small_directions"
      ],
      "execution_count": 77,
      "outputs": [
        {
          "output_type": "execute_result",
          "data": {
            "text/plain": [
              "[]"
            ]
          },
          "metadata": {},
          "execution_count": 77
        }
      ]
    },
    {
      "cell_type": "code",
      "metadata": {
        "colab": {
          "base_uri": "https://localhost:8080/"
        },
        "id": "sgA_sDGNQ_qO",
        "outputId": "06366432-59da-4004-ab98-2a63d4408bbe"
      },
      "source": [
        "print( list(set (''.join(recipes_df_small[\"Directions\"]))))\n",
        "print( list(set (''.join(recipes_df_small[\"Ingredients\"]))))"
      ],
      "execution_count": 81,
      "outputs": [
        {
          "output_type": "stream",
          "name": "stdout",
          "text": [
            "['{', 'J', 'n', 'A', 'x', '\"', '.', 'H', 'I', 'C', 'P', ':', 'r', 'f', '7', 'q', ' ', 'é', '}', '&', '3', '(', 'z', 'o', '+', 'U', 'a', '%', '#', 'E', '6', 'u', '5', 'j', 's', 'G', '8', 'v', 'i', 'd', ')', '>', 'h', 'M', '!', \"'\", '2', 'y', 'w', 'c', '1', '-', 'X', 'm', '*', '=', '9', '<', 'e', 'O', 'l', ',', 'k', 'Z', 'W', 'N', 'D', 'b', 'S', 'R', 'L', 'g', 'B', 'T', 'V', '0', 'F', '?', '4', 'Q', '/', 't', 'p', 'K', 'Y']\n",
            "['d', ')', '7', 'q', 'h', 'M', 'J', 'k', 'n', \"'\", ' ', 'Z', 'N', 'W', '2', 'y', 'b', '3', 'D', 'x', 'A', '(', 'S', 'R', '®', 'z', 'O', 'w', 'o', '.', 'H', 'L', 'g', 'B', 'T', 'Y', 'v', 'I', 'U', 'a', 'c', ',', '\\x99', '1', 'C', 'P', '-', '0', ':', 'E', 'F', '6', 'u', 'm', '4', '5', 'r', 'j', '/', 't', 'f', '9', 's', 'G', 'p', 'e', '8', 'l', 'i']\n"
          ]
        }
      ]
    },
    {
      "cell_type": "code",
      "metadata": {
        "colab": {
          "base_uri": "https://localhost:8080/"
        },
        "id": "N1mYvaZnR91y",
        "outputId": "b7e03bef-9925-449c-bbbb-6e7d35e2be80"
      },
      "source": [
        "print([chr for chr in set(''.join(recipes_df_small[\"Directions\"])) if not chr.isalnum()])\n",
        "print([chr for chr in set(''.join(recipes_df_small[\"Ingredients\"])) if not chr.isalnum()])"
      ],
      "execution_count": 93,
      "outputs": [
        {
          "output_type": "stream",
          "name": "stdout",
          "text": [
            "['{', '\"', '.', ':', ' ', '}', '&', '(', '+', '%', '#', ')', '>', '!', \"'\", '-', '*', '=', '<', ',', '?', '/']\n",
            "[')', \"'\", ' ', '(', '®', '.', ',', '\\x99', '-', ':', '/']\n"
          ]
        }
      ]
    },
    {
      "cell_type": "code",
      "metadata": {
        "colab": {
          "base_uri": "https://localhost:8080/",
          "height": 316
        },
        "id": "asNRG7D8E6jD",
        "outputId": "2ec57229-3db3-4220-b899-f3f6d1855c3e"
      },
      "source": [
        "plt.hist(ingredients_lengths)\n",
        "plt.xlabel(\"Nb. of non space chars\")\n",
        "plt.show()\n",
        "small_ingreds = [(i, ingredients_lengths[i]) \n",
        "        for i in range(len(ingredients_lengths)) \n",
        "        if ingredients_lengths[i] <=10]\n",
        "print(\"nb of non space chars:\", small_ingreds)"
      ],
      "execution_count": 78,
      "outputs": [
        {
          "output_type": "display_data",
          "data": {
            "image/png": "[encoded data removed]",
            "text/plain": [
              "<Figure size 432x288 with 1 Axes>"
            ]
          },
          "metadata": {
            "needs_background": "light"
          }
        },
        {
          "output_type": "stream",
          "name": "stdout",
          "text": [
            "nb of non space chars: [(64, 5), (728, 4), (745, 4), (915, 10), (1009, 9), (3530, 9), (4885, 7), (4925, 8), (5073, 6), (5076, 10), (6829, 6), (7202, 10), (7817, 4), (8244, 10), (8552, 3), (8804, 10), (9091, 3), (10123, 7), (10177, 5), (11148, 4)]\n"
          ]
        }
      ]
    },
    {
      "cell_type": "code",
      "metadata": {
        "colab": {
          "base_uri": "https://localhost:8080/",
          "height": 669
        },
        "id": "L8W0dlUcFdbr",
        "outputId": "acc8afd8-993d-4109-beec-3a06c25ef17b"
      },
      "source": [
        "recipes_df_small.iloc[[i for i, _ in small_ingreds]]"
      ],
      "execution_count": 79,
      "outputs": [
        {
          "output_type": "execute_result",
          "data": {
            "text/html": [
              "<div>\n",
              "<style scoped>\n",
              "    .dataframe tbody tr th:only-of-type {\n",
              "        vertical-align: middle;\n",
              "    }\n",
              "\n",
              "    .dataframe tbody tr th {\n",
              "        vertical-align: top;\n",
              "    }\n",
              "\n",
              "    .dataframe thead th {\n",
              "        text-align: right;\n",
              "    }\n",
              "</style>\n",
              "<table border=\"1\" class=\"dataframe\">\n",
              "  <thead>\n",
              "    <tr style=\"text-align: right;\">\n",
              "      <th></th>\n",
              "      <th>Directions</th>\n",
              "      <th>Ingredients</th>\n",
              "    </tr>\n",
              "  </thead>\n",
              "  <tbody>\n",
              "    <tr>\n",
              "      <th>64</th>\n",
              "      <td>Thaw bread dough.**Preheat oven to 375 degrees...</td>\n",
              "      <td>bread</td>\n",
              "    </tr>\n",
              "    <tr>\n",
              "      <th>729</th>\n",
              "      <td>Preheat oven to 375 degrees F (190 degrees C)....</td>\n",
              "      <td>cake</td>\n",
              "    </tr>\n",
              "    <tr>\n",
              "      <th>746</th>\n",
              "      <td>Start with a cooled 9-inch square cake. From o...</td>\n",
              "      <td>cake</td>\n",
              "    </tr>\n",
              "    <tr>\n",
              "      <th>916</th>\n",
              "      <td>In a large bowl, combine cake mix, peaches and...</td>\n",
              "      <td>cake,peach</td>\n",
              "    </tr>\n",
              "    <tr>\n",
              "      <th>1010</th>\n",
              "      <td>'Prepare the cake according to package instruc...</td>\n",
              "      <td>cake,side</td>\n",
              "    </tr>\n",
              "    <tr>\n",
              "      <th>3531</th>\n",
              "      <td>'Heap the flour, and make a well in it.  Break...</td>\n",
              "      <td>flour,egg</td>\n",
              "    </tr>\n",
              "    <tr>\n",
              "      <th>4888</th>\n",
              "      <td>Preheat oven to 300 degrees F (150 degrees C)....</td>\n",
              "      <td>pumpkin</td>\n",
              "    </tr>\n",
              "    <tr>\n",
              "      <th>4928</th>\n",
              "      <td>Preheat oven to 275 degrees F. (135 degrees C)...</td>\n",
              "      <td>ham,cola</td>\n",
              "    </tr>\n",
              "    <tr>\n",
              "      <th>5076</th>\n",
              "      <td>Cut each tomato  in half through the middle, n...</td>\n",
              "      <td>cherry</td>\n",
              "    </tr>\n",
              "    <tr>\n",
              "      <th>5079</th>\n",
              "      <td>Preheat the oven to 500 degrees F (260 degrees...</td>\n",
              "      <td>bell pepper</td>\n",
              "    </tr>\n",
              "    <tr>\n",
              "      <th>6833</th>\n",
              "      <td>Preheat oven to 350 degrees F (175 degrees C)....</td>\n",
              "      <td>potato</td>\n",
              "    </tr>\n",
              "    <tr>\n",
              "      <th>7206</th>\n",
              "      <td>Preheat oven to 350 degrees F (175 degrees C)....</td>\n",
              "      <td>ham,butter</td>\n",
              "    </tr>\n",
              "    <tr>\n",
              "      <th>7821</th>\n",
              "      <td>Leave tofu in original package and place in fr...</td>\n",
              "      <td>tofu</td>\n",
              "    </tr>\n",
              "    <tr>\n",
              "      <th>8248</th>\n",
              "      <td>Place the sherbet in a punch bowl. Pour in the...</td>\n",
              "      <td>herb,lemon</td>\n",
              "    </tr>\n",
              "    <tr>\n",
              "      <th>8556</th>\n",
              "      <td>Preheat an outdoor grill for medium high heat....</td>\n",
              "      <td>egg</td>\n",
              "    </tr>\n",
              "    <tr>\n",
              "      <th>8808</th>\n",
              "      <td>In a pitcher combine milk and carbonated bever...</td>\n",
              "      <td>milk,lemon</td>\n",
              "    </tr>\n",
              "    <tr>\n",
              "      <th>9095</th>\n",
              "      <td>'Pour the cold tea into an ice cube tray and f...</td>\n",
              "      <td>tea</td>\n",
              "    </tr>\n",
              "    <tr>\n",
              "      <th>10128</th>\n",
              "      <td>Preheat oven to 325 degrees F (165 degrees C)....</td>\n",
              "      <td>pumpkin</td>\n",
              "    </tr>\n",
              "    <tr>\n",
              "      <th>10182</th>\n",
              "      <td>Fill airtight containers approximately half fu...</td>\n",
              "      <td>cream</td>\n",
              "    </tr>\n",
              "    <tr>\n",
              "      <th>11154</th>\n",
              "      <td>Fill a large saucepan with water and bring to ...</td>\n",
              "      <td>milk</td>\n",
              "    </tr>\n",
              "  </tbody>\n",
              "</table>\n",
              "</div>"
            ],
            "text/plain": [
              "                                              Directions  Ingredients\n",
              "64     Thaw bread dough.**Preheat oven to 375 degrees...        bread\n",
              "729    Preheat oven to 375 degrees F (190 degrees C)....         cake\n",
              "746    Start with a cooled 9-inch square cake. From o...         cake\n",
              "916    In a large bowl, combine cake mix, peaches and...   cake,peach\n",
              "1010   'Prepare the cake according to package instruc...    cake,side\n",
              "3531   'Heap the flour, and make a well in it.  Break...    flour,egg\n",
              "4888   Preheat oven to 300 degrees F (150 degrees C)....      pumpkin\n",
              "4928   Preheat oven to 275 degrees F. (135 degrees C)...     ham,cola\n",
              "5076   Cut each tomato  in half through the middle, n...       cherry\n",
              "5079   Preheat the oven to 500 degrees F (260 degrees...  bell pepper\n",
              "6833   Preheat oven to 350 degrees F (175 degrees C)....       potato\n",
              "7206   Preheat oven to 350 degrees F (175 degrees C)....   ham,butter\n",
              "7821   Leave tofu in original package and place in fr...         tofu\n",
              "8248   Place the sherbet in a punch bowl. Pour in the...   herb,lemon\n",
              "8556   Preheat an outdoor grill for medium high heat....          egg\n",
              "8808   In a pitcher combine milk and carbonated bever...   milk,lemon\n",
              "9095   'Pour the cold tea into an ice cube tray and f...          tea\n",
              "10128  Preheat oven to 325 degrees F (165 degrees C)....      pumpkin\n",
              "10182  Fill airtight containers approximately half fu...        cream\n",
              "11154  Fill a large saucepan with water and bring to ...         milk"
            ]
          },
          "metadata": {},
          "execution_count": 79
        }
      ]
    },
    {
      "cell_type": "markdown",
      "metadata": {
        "id": "HoLl_hvoHzU8"
      },
      "source": [
        "### EDA train set"
      ]
    },
    {
      "cell_type": "code",
      "metadata": {
        "colab": {
          "base_uri": "https://localhost:8080/"
        },
        "id": "pfJKlOrWFpNM",
        "outputId": "8dd0605a-5703-4416-ed9f-acb769021a00"
      },
      "source": [
        "recipes_df_small.shape\n",
        "# recipes_df_small.columns"
      ],
      "execution_count": 126,
      "outputs": [
        {
          "output_type": "execute_result",
          "data": {
            "text/plain": [
              "(12345, 2)"
            ]
          },
          "metadata": {},
          "execution_count": 126
        }
      ]
    },
    {
      "cell_type": "code",
      "metadata": {
        "id": "Kb7v3unEH6kF"
      },
      "source": [
        "# X = recipes_df_small[\"Directions\"].copy()\n",
        "# y = recipes_df_small[\"Ingredients\"].copy()\n",
        "\n",
        "# X_train, X_rem, y_train, y_rem = train_test_split(X,y, train_size=0.8, random_state= 11 )\n",
        "# X_valid, X_test, y_valid, y_test = train_test_split(X_rem,y_rem, test_size=0.5, random_state=11)\n",
        "\n",
        "# print(\"Train: \", X_train.shape, y_train.shape)\n",
        "# print(\"Val:\", X_valid.shape, y_valid.shape)\n",
        "# print(\"Test:\", X_test.shape, y_test.shape)"
      ],
      "execution_count": 127,
      "outputs": []
    },
    {
      "cell_type": "code",
      "metadata": {
        "id": "mj8XdQ4WJEC0"
      },
      "source": [
        "# recipe = X_train.iloc[1]\n",
        "# print(recipe)\n",
        "# z\n",
        "# doc = nlp(recipe)\n",
        "# print(doc)\n",
        "\n",
        "# tokenized_text = pd.DataFrame()\n",
        "\n",
        "# for i, token in enumerate(doc):\n",
        "#   tokenized_text.loc[i, 'text'] = token.text\n",
        "#   tokenized_text.loc[i, 'lemma'] = token.lemma_,\n",
        "#   tokenized_text.loc[i, 'pos'] = token.pos_\n",
        "#   tokenized_text.loc[i, 'tag'] = token.tag_\n",
        "#   tokenized_text.loc[i, 'dep'] = token.dep_\n",
        "#   tokenized_text.loc[i, 'shape'] = token.shape_\n",
        "#   tokenized_text.loc[i, 'is_alpha'] = token.is_alpha\n",
        "#   tokenized_text.loc[i, 'is_stop'] = token.is_stop\n",
        "#   tokenized_text.loc[i, 'is_punctuation'] = token.is_punct\n",
        "\n",
        "# tokenized_text"
      ],
      "execution_count": 129,
      "outputs": []
    },
    {
      "cell_type": "code",
      "metadata": {
        "id": "xfPJISZgsm0W"
      },
      "source": [
        "# ingred_sample = y_train.iloc[1]\n",
        "# print(ingred_sample)\n",
        "\n",
        "# doc = nlp(ingred_sample)\n",
        "# print(doc)\n",
        "\n",
        "# tokenized_text = pd.DataFrame()\n",
        "\n",
        "# for i, token in enumerate(doc):\n",
        "#   tokenized_text.loc[i, 'text'] = token.text\n",
        "#   tokenized_text.loc[i, 'lemma'] = token.lemma_,\n",
        "#   tokenized_text.loc[i, 'pos'] = token.pos_\n",
        "#   tokenized_text.loc[i, 'tag'] = token.tag_\n",
        "#   tokenized_text.loc[i, 'dep'] = token.dep_\n",
        "#   tokenized_text.loc[i, 'shape'] = token.shape_\n",
        "#   tokenized_text.loc[i, 'is_alpha'] = token.is_alpha\n",
        "#   tokenized_text.loc[i, 'is_stop'] = token.is_stop\n",
        "#   tokenized_text.loc[i, 'is_punctuation'] = token.is_punct\n",
        "\n",
        "# tokenized_text"
      ],
      "execution_count": 130,
      "outputs": []
    },
    {
      "cell_type": "markdown",
      "metadata": {
        "id": "3iHoZ4kqq5BQ"
      },
      "source": [
        "### Preprocess data"
      ]
    },
    {
      "cell_type": "code",
      "metadata": {
        "colab": {
          "base_uri": "https://localhost:8080/",
          "height": 35
        },
        "id": "NU9be7a3V7pm",
        "outputId": "91f69667-6d61-4fb6-d332-3f16b41b351d"
      },
      "source": [
        "spacy.explain('NFP')"
      ],
      "execution_count": 116,
      "outputs": [
        {
          "output_type": "execute_result",
          "data": {
            "application/vnd.google.colaboratory.intrinsic+json": {
              "type": "string"
            },
            "text/plain": [
              "'superfluous punctuation'"
            ]
          },
          "metadata": {},
          "execution_count": 116
        }
      ]
    },
    {
      "cell_type": "code",
      "metadata": {
        "id": "SHN9JKZvXVuG"
      },
      "source": [
        "import sys\n",
        "import warnings\n",
        "\n",
        "warnings.filterwarnings(\"ignore\")"
      ],
      "execution_count": 131,
      "outputs": []
    },
    {
      "cell_type": "code",
      "metadata": {
        "colab": {
          "base_uri": "https://localhost:8080/"
        },
        "id": "wwfV9x0GzLcp",
        "outputId": "48fa3505-47d0-478a-d9fa-d931c0202ba1"
      },
      "source": [
        "print([chr for chr in set(''.join(recipes_df_small[\"Directions\"])) if not chr.isalnum()])\n",
        "print([chr for chr in set(''.join(recipes_df_small[\"Ingredients\"])) if not chr.isalnum()])"
      ],
      "execution_count": 133,
      "outputs": [
        {
          "output_type": "stream",
          "name": "stdout",
          "text": [
            "['{', '\"', '.', ':', ' ', '}', '&', '(', '+', '%', '#', ')', '>', '!', \"'\", '-', '*', '=', '<', ',', '?', '/']\n",
            "[')', \"'\", ' ', '(', '®', '.', ',', '\\x99', '-', ':', '/']\n"
          ]
        }
      ]
    },
    {
      "cell_type": "code",
      "metadata": {
        "id": "0IO6H9X1rcmP"
      },
      "source": [
        "import unicodedata"
      ],
      "execution_count": 132,
      "outputs": []
    },
    {
      "cell_type": "code",
      "metadata": {
        "colab": {
          "base_uri": "https://localhost:8080/"
        },
        "id": "q6f71Tl4zNkB",
        "outputId": "2be4ec81-509c-4d82-c2d1-4bfbe49117c8"
      },
      "source": [
        "print([chr for chr in set(\n",
        "    unicodedata.normalize('NFKD',\n",
        "        ''.join(recipes_df_small[\"Directions\"])).encode('ascii', 'ignore')\n",
        "    ) ])\n",
        "print([chr for chr in set(\n",
        "    unicodedata.normalize('NFKD',\n",
        "        ''.join(recipes_df_small[\"Ingredients\"])).encode('ascii', 'ignore')\n",
        "    ) ])"
      ],
      "execution_count": 136,
      "outputs": [
        {
          "output_type": "stream",
          "name": "stdout",
          "text": [
            "[32, 33, 34, 35, 37, 38, 39, 40, 41, 42, 43, 44, 45, 46, 47, 48, 49, 50, 51, 52, 53, 54, 55, 56, 57, 58, 60, 61, 62, 63, 65, 66, 67, 68, 69, 70, 71, 72, 73, 74, 75, 76, 77, 78, 79, 80, 81, 82, 83, 84, 85, 86, 87, 88, 89, 90, 97, 98, 99, 100, 101, 102, 103, 104, 105, 106, 107, 108, 109, 110, 111, 112, 113, 114, 115, 116, 117, 118, 119, 120, 121, 122, 123, 125]\n",
            "[32, 39, 40, 41, 44, 45, 46, 47, 48, 49, 50, 51, 52, 53, 54, 55, 56, 57, 58, 65, 66, 67, 68, 69, 70, 71, 72, 73, 74, 76, 77, 78, 79, 80, 82, 83, 84, 85, 87, 89, 90, 97, 98, 99, 100, 101, 102, 103, 104, 105, 106, 107, 108, 109, 110, 111, 112, 113, 114, 115, 116, 117, 118, 119, 120, 121, 122]\n"
          ]
        }
      ]
    },
    {
      "cell_type": "code",
      "metadata": {
        "colab": {
          "base_uri": "https://localhost:8080/"
        },
        "id": "YN-9J3x7yhuF",
        "outputId": "0c05e3be-b6ea-4293-fd79-d0dd51a8a490"
      },
      "source": [
        "print(unicodedata.normalize('NFKD', recipes_df_small[\"Directions\"][1]).encode('ascii', 'ignore'))\n",
        "print(unicodedata.normalize('NFKD', recipes_df_small[\"Ingredients\"][1]).encode('ascii', 'ignore'))\n"
      ],
      "execution_count": 138,
      "outputs": [
        {
          "output_type": "stream",
          "name": "stdout",
          "text": [
            "b\"'Preheat oven to 350 degrees F (175 degrees C). Grease bottoms of two 9-inch loaf pans.**Mix together flour, salt, baking powder, poppy seeds, butter flavoring, oil, eggs, milk, sugar, vanilla, and almond flavoring. Pour into prepared pans.**Bake at 350 degrees F (175 degrees C) for one hour. Cool 5 minutes. Poke holes in top of loaves and pour glaze over.**To make glaze: Mix orange juice, 1/2 teaspoon butter flavoring, 1/2 teaspoon almond flavoring, and 1 teaspoon vanilla. Add enough confectioners'' sugar to make glaze.**'\"\n",
            "b'flour,salt,baking powder,poppy,butter,vegetable oil,egg,milk,white sugar,vanilla,almond,orange juice,butter,almond,vanilla,sugar'\n"
          ]
        }
      ]
    },
    {
      "cell_type": "code",
      "metadata": {
        "colab": {
          "base_uri": "https://localhost:8080/"
        },
        "id": "ZzufsyUh36Tb",
        "outputId": "c0d431e6-ec43-4807-d059-2b7f649bd159"
      },
      "source": [
        "unicodedata.normalize('NFKD', recipes_df_small[\"Ingredients\"][1]).encode('ascii', 'ignore').decode(\"utf-8\").split(\",\")\n"
      ],
      "execution_count": 140,
      "outputs": [
        {
          "output_type": "execute_result",
          "data": {
            "text/plain": [
              "['flour',\n",
              " 'salt',\n",
              " 'baking powder',\n",
              " 'poppy',\n",
              " 'butter',\n",
              " 'vegetable oil',\n",
              " 'egg',\n",
              " 'milk',\n",
              " 'white sugar',\n",
              " 'vanilla',\n",
              " 'almond',\n",
              " 'orange juice',\n",
              " 'butter',\n",
              " 'almond',\n",
              " 'vanilla',\n",
              " 'sugar']"
            ]
          },
          "metadata": {},
          "execution_count": 140
        }
      ]
    },
    {
      "cell_type": "code",
      "metadata": {
        "colab": {
          "base_uri": "https://localhost:8080/",
          "height": 340
        },
        "id": "WnTda8Gm0U-5",
        "outputId": "a5690cad-4283-46b8-c3fb-6c0b01e9f547"
      },
      "source": [
        "ingredients_not_found_in_sent = []\n",
        "ingredients_found_multiple_times_in_sent = []\n",
        "examples = []\n",
        "\n",
        "# ? ingred is space \n",
        "\n",
        "def define_ent_in_sentence(sentence, ingredients):\n",
        "  ents= []\n",
        "  ingred_not_found = 0\n",
        "  samples = []\n",
        "  for _ingred in ingredients.split(\",\"):\n",
        "    start_pos = sentence.find(_ingred)\n",
        "    if ( start_pos != -1):\n",
        "      ents.append((start_pos, start_pos+len(_ingred), \"INGREDIENT\"))\n",
        "    else:\n",
        "      splited_ingred = _ingred.split()\n",
        "      found_one = False\n",
        "      for _split_ingrd in splited_ingred:\n",
        "        start_pos = sentence.find(_split_ingrd)\n",
        "        if ( start_pos != -1):\n",
        "          ents.append((start_pos, start_pos+len(_split_ingrd), \"INGREDIENT\"))\n",
        "          found_one = True\n",
        "      if not found_one: \n",
        "        # if len(examples) < 20:\n",
        "        samples.append(_ingred)\n",
        "        ingred_not_found += 1\n",
        "  \n",
        "  if ingred_not_found > 0: \n",
        "    # if len(examples) < 20:\n",
        "    examples.append((sentence, samples))\n",
        "    ingredients_not_found_in_sent.append(ingred_not_found)\n",
        "  \n",
        "  return [sentence, {'entities': ents}]\n",
        "\n",
        "recipes_df_small['train_data']= np.vectorize(define_ent_in_sentence)(\\\n",
        "                                recipes_df_small['Directions'], \n",
        "                                recipes_df_small['Ingredients'])\n",
        "recipes_df_small.head()"
      ],
      "execution_count": 173,
      "outputs": [
        {
          "output_type": "execute_result",
          "data": {
            "text/html": [
              "<div>\n",
              "<style scoped>\n",
              "    .dataframe tbody tr th:only-of-type {\n",
              "        vertical-align: middle;\n",
              "    }\n",
              "\n",
              "    .dataframe tbody tr th {\n",
              "        vertical-align: top;\n",
              "    }\n",
              "\n",
              "    .dataframe thead th {\n",
              "        text-align: right;\n",
              "    }\n",
              "</style>\n",
              "<table border=\"1\" class=\"dataframe\">\n",
              "  <thead>\n",
              "    <tr style=\"text-align: right;\">\n",
              "      <th></th>\n",
              "      <th>Directions</th>\n",
              "      <th>Ingredients</th>\n",
              "      <th>train_data</th>\n",
              "    </tr>\n",
              "  </thead>\n",
              "  <tbody>\n",
              "    <tr>\n",
              "      <th>0</th>\n",
              "      <td>Dissolve yeast in warm water.**Stir in sugar, ...</td>\n",
              "      <td>yeast,water,white sugar,salt,egg,butter,flour,...</td>\n",
              "      <td>[Dissolve yeast in warm water.**Stir in sugar,...</td>\n",
              "    </tr>\n",
              "    <tr>\n",
              "      <th>1</th>\n",
              "      <td>'Preheat oven to 350 degrees F (175 degrees C)...</td>\n",
              "      <td>flour,salt,baking powder,poppy,butter,vegetabl...</td>\n",
              "      <td>['Preheat oven to 350 degrees F (175 degrees C...</td>\n",
              "    </tr>\n",
              "    <tr>\n",
              "      <th>2</th>\n",
              "      <td>Preheat oven to 350 degrees F (175 degrees C)....</td>\n",
              "      <td>flour,egg,white sugar,vegetable oil,applesauce...</td>\n",
              "      <td>[Preheat oven to 350 degrees F (175 degrees C)...</td>\n",
              "    </tr>\n",
              "    <tr>\n",
              "      <th>3</th>\n",
              "      <td>Preheat oven to 350 degrees F (175 degrees C)....</td>\n",
              "      <td>flour,baking powder,baking soda,salt,cinnamon,...</td>\n",
              "      <td>[Preheat oven to 350 degrees F (175 degrees C)...</td>\n",
              "    </tr>\n",
              "    <tr>\n",
              "      <th>4</th>\n",
              "      <td>Mix oats with buttermilk.  Let stand for 1/2 h...</td>\n",
              "      <td>oat,buttermilk,vegetable oil,egg,brown sugar,f...</td>\n",
              "      <td>[Mix oats with buttermilk.  Let stand for 1/2 ...</td>\n",
              "    </tr>\n",
              "  </tbody>\n",
              "</table>\n",
              "</div>"
            ],
            "text/plain": [
              "                                          Directions  ...                                         train_data\n",
              "0  Dissolve yeast in warm water.**Stir in sugar, ...  ...  [Dissolve yeast in warm water.**Stir in sugar,...\n",
              "1  'Preheat oven to 350 degrees F (175 degrees C)...  ...  ['Preheat oven to 350 degrees F (175 degrees C...\n",
              "2  Preheat oven to 350 degrees F (175 degrees C)....  ...  [Preheat oven to 350 degrees F (175 degrees C)...\n",
              "3  Preheat oven to 350 degrees F (175 degrees C)....  ...  [Preheat oven to 350 degrees F (175 degrees C)...\n",
              "4  Mix oats with buttermilk.  Let stand for 1/2 h...  ...  [Mix oats with buttermilk.  Let stand for 1/2 ...\n",
              "\n",
              "[5 rows x 3 columns]"
            ]
          },
          "metadata": {},
          "execution_count": 173
        }
      ]
    },
    {
      "cell_type": "code",
      "metadata": {
        "colab": {
          "base_uri": "https://localhost:8080/",
          "height": 296
        },
        "id": "_-GLEwuf8ZRr",
        "outputId": "800203de-84a8-4d75-9169-7f3ff58683d8"
      },
      "source": [
        "print(len(ingredients_not_found_in_sent))\n",
        "plt.hist(ingredients_not_found_in_sent, bins=np.arange(20)-0.5)\n",
        "plt.xticks(range(19))\n",
        "plt.xlabel(\"Nb. of ingred not found / Description\")\n",
        "plt.show()"
      ],
      "execution_count": 174,
      "outputs": [
        {
          "output_type": "stream",
          "name": "stdout",
          "text": [
            "5625\n"
          ]
        },
        {
          "output_type": "display_data",
          "data": {
            "image/png": "[encoded data removed]",
            "text/plain": [
              "<Figure size 432x288 with 1 Axes>"
            ]
          },
          "metadata": {
            "needs_background": "light"
          }
        }
      ]
    },
    {
      "cell_type": "code",
      "metadata": {
        "colab": {
          "base_uri": "https://localhost:8080/"
        },
        "id": "ZMGy4uUA_AD3",
        "outputId": "116ac351-3e5a-417e-c704-7ab6e39edbdc"
      },
      "source": [
        "# [ ex[1] for ex in examples]\n",
        "_a = [\"1/3 cup masa harina\",\n",
        "\"10 fluid ounces Mountain Dew\\x99\",\n",
        "\"2 cups half-and-half\"]\n",
        "[ ex for ex in examples for ingred in _a if ingred in ex[1]]\n"
      ],
      "execution_count": 177,
      "outputs": [
        {
          "output_type": "execute_result",
          "data": {
            "text/plain": [
              "[('In a medium bowl beat butter until it is creamy. Add the Mexican corn flour and water and beat until well mixed.**Using a food processor,  process thawed corn, but leave chunky. Stir into the butter mixture.**In a separate bowl, mix cornmeal, sugar, cream, salt, and baking powder. Add to corn flour mixture and stir to combine. Pour batter into an ungreased 8x8 inch baking pan. Smooth batter and cover with aluminum foil. Place pan into a 9x13 inch baking dish that is filled a third of the way with water.**Bake in a preheated 350 degree oven F (175 degrees C) oven for 50 to 60 minutes. Allow to cool for 10 minutes. Use an ice cream scoop for easy removal from pan.**',\n",
              "  ['1/3 cup masa harina']),\n",
              " ('Preheat oven to 350 degrees F (175 degrees C). Grease and flour a 9x13 inch pan.**In a large bowl, combine cake mix, pudding mix, oil, eggs and citrus soda. Mix until all ingredients are moistened.**Pour into prepared 9x13 inch pan and bake at 350 degrees F (175 degrees C) for 30 to 35 minutes. Cool completely.**To make the topping: In a saucepan, combine pineapple (with juice), sugar and corn starch. Bring to a boil and cook, stirring constantly, until thick. Remove from heat. Add butter and coconut. Spread topping evenly over cake.**',\n",
              "  ['lemon', 'vanilla', '10 fluid ounces Mountain Dew\\x99', 'cornstarch']),\n",
              " ('Heat oil over high heat in a large skillet.  Brown chicken.  Reduce heat, and add garlic and mushrooms.  Cook until soft.   Remove chicken and mushrooms from the skillet.**Pour half and half cream into skillet, and bring to a boil over high heat.  Reduce heat to medium, and reduce.  Stir occasionally.**Meanwhile, cook the pasta in a large pot of boiling water until done. Drain.**When cream has reduced and thickened, stir in Gorgonzola until melted.  Add chicken and mushrooms, pasta, and walnuts. Toss and reheat.  Season with salt and pepper.  Serve immediately. Garnish with freshly grated Parmesan cheese, if desired.**',\n",
              "  ['olive', '2 cups half-and-half', 'parmesan']),\n",
              " ('In a large stock pot melt butter and saute onions until tender.**Add water and chicken granules, and bring to a boil.**Measure out flour into a separate bowl and add some broth from stock pot to whisk together with flour.**Slowly add flour mixture back into soup and add broccoli, cauliflower and carrots.  Simmer until vegetables are tender.**Add half and half cream, cheese and season with pepper.  Heat through until cheese has melted being sure not to bring to a boil.  Top with garlic croutons and serve.**',\n",
              "  ['margarine', '2 cups half-and-half', 'cheddar'])]"
            ]
          },
          "metadata": {},
          "execution_count": 177
        }
      ]
    },
    {
      "cell_type": "code",
      "metadata": {
        "colab": {
          "base_uri": "https://localhost:8080/"
        },
        "id": "W6F9-Se777QW",
        "outputId": "fc1f9ac9-e9ed-4aaa-b404-755277eb1354"
      },
      "source": [
        "recipes_df_small['train_data'][0]"
      ],
      "execution_count": 144,
      "outputs": [
        {
          "output_type": "execute_result",
          "data": {
            "text/plain": [
              "['Dissolve yeast in warm water.**Stir in sugar, salt, eggs, butter, and 2 cups of flour. Beat until smooth. Mix in remaining flour until smooth. Scrape dough from side of bowl. Knead dough, then cover it and let rise in a warm place until double (about 1 1/2 hours).**Punch down dough. Divide in half. Roll each half into a 12-inch circle. Spread with butter. Cut into 10 to 15 wedge. Roll up the wedges starting with the wide end. Place rolls with point under on a greased baking sheet. Cover and let rise until double (about 1 hour).**Bake at 400 degrees F (205 degrees C) for 12-15 minute or until golden brown. Brush tops with butter when they come out of the oven.**',\n",
              " {'entities': [(9, 14, 'INGREDIENT'),\n",
              "   (23, 28, 'INGREDIENT'),\n",
              "   (46, 50, 'INGREDIENT'),\n",
              "   (52, 55, 'INGREDIENT'),\n",
              "   (58, 64, 'INGREDIENT'),\n",
              "   (80, 85, 'INGREDIENT'),\n",
              "   (58, 64, 'INGREDIENT')]}]"
            ]
          },
          "metadata": {},
          "execution_count": 144
        }
      ]
    },
    {
      "cell_type": "code",
      "metadata": {
        "colab": {
          "base_uri": "https://localhost:8080/"
        },
        "id": "GI0mdwOZ8K_W",
        "outputId": "35924e53-f304-4650-b6f5-6167d3fb5eda"
      },
      "source": [
        "[x[0] for x in recipes_df_small['train_data'][1:10]]"
      ],
      "execution_count": 145,
      "outputs": [
        {
          "output_type": "execute_result",
          "data": {
            "text/plain": [
              "[\"'Preheat oven to 350 degrees F (175 degrees C). Grease bottoms of two 9-inch loaf pans.**Mix together flour, salt, baking powder, poppy seeds, butter flavoring, oil, eggs, milk, sugar, vanilla, and almond flavoring. Pour into prepared pans.**Bake at 350 degrees F (175 degrees C) for one hour. Cool 5 minutes. Poke holes in top of loaves and pour glaze over.**To make glaze: Mix orange juice, 1/2 teaspoon butter flavoring, 1/2 teaspoon almond flavoring, and 1 teaspoon vanilla. Add enough confectioners'' sugar to make glaze.**'\",\n",
              " 'Preheat oven to 350 degrees F (175 degrees C).  Grease and flour two 9 x 5 inch loaf pans.**Beat together eggs, sugar, and oil.  Blend in applesauce, and then sour cream or buttermilk.  Mix in flour, baking powder, soda, and cinnamon. Stir in raisins. Pour batter into prepared pans.**Bake for 80 minutes.  Cool on wire racks.**',\n",
              " 'Preheat oven to 350 degrees F (175 degrees C).  Grease and flour an 8 1/2 x 4 1/2 inch loaf pan.**In a large bowl, combine flour, baking powder, baking soda, salt, cinnamon, nutmeg, brown sugar, and  oats.  Add apple, nuts, raisins, eggs, milk, and oil.  Mix until dry ingredients are moistened.**Bake for 55 to 60 minutes, or until done.  Cool on wire rack.**',\n",
              " 'Mix oats with buttermilk.  Let stand for 1/2 hour.**Stir oil, egg, and brown sugar into oat mixture. Stir together flour, baking powder, soda, and salt: mix into oat mixture.  Pour batter into a greased and floured 8 1/2 x 4 1/2 inch loaf pan.**Bake at 350 degrees F (175 degrees C) for 55 to 60 minutes, or until done.**',\n",
              " 'Cream shortening and sugar together.  Stir in salt, hot milk, beaten egg yolks, and flavoring.  When lukewarm, add yeast to mixture.  Let stand 5 minutes.  Add flour, beating well.  Knead down into bowl.  The dough will be slightly sticky.  Let rise 1 hour.**Cut off small balls of dough.  Roll into rounds in your hands, and place on greased cookie sheets 2 inches apart.  Let rise 15 minutes.**Make a depression into the center of each roll.  Fill with fruit preserves.**Bake at 450 degrees F (230 degrees C) until brown.  Watch carefully.  Cool on wire racks.**',\n",
              " 'Dissolve brown sugar in 1 cup hot water.  Add shortening, and stir to melt.  Let cool.**In a large bowl, dissolve yeast in 4 cups warm water.  Add white sugar, salt, and bread flour.  Beat well.  Stir in shortening mixture.  Stir in enough whole wheat flour to make a stiff but not dry dough.**Turn out onto a lightly floured surface.  Knead until smooth and elastic.  Place in a large, well oiled bowl.  Cover, and allow to rise until dough doubles in bulk.**Divide dough into four equal parts.  Shape into loaves.  Place in greased, 9 x 5 inch pans,  turning each loaf over in pan to grease top.  Allow to rise until dough doubles in bulk.**Bake at 350 degrees F (175 degrees C) for 35 minutes. Let cool before slicing.**',\n",
              " 'Add the ingredients to the pan of your bread machine in the order suggested by the manufacturer, and Start. You can use more bread flour if the dough seems too sticky.**',\n",
              " 'Preheat oven to 350 degrees F (175 degrees C).**Blend butter or margarine, sugar, egg, banana, dissolved coffee, and vanilla in food processor for 2 minutes. Add flour, salt, baking powder, and soda, and blend just until flour disappears. Add chocolate chips and mix in with wooden spoon. Spoon mixture into 15 to 18 paper-lined muffin cups.**Bake for 25 minutes.  Cool on wire racks.**',\n",
              " 'Preheat oven to 350 degrees F (175 degrees C).**Combine the cornmeal, milk, oil, eggs, chopped green bell pepper, chopped onion, garlic powder, salt, baking soda, sugar, drained corn kernels, pimentos and jalapeno peppers.  Mix until combined, and pour into a well greased 10 to 14 inch cast iron skillet.**Bake for 45 minutes.**']"
            ]
          },
          "metadata": {},
          "execution_count": 145
        }
      ]
    },
    {
      "cell_type": "markdown",
      "metadata": {
        "id": "eeYRBelqEO5Q"
      },
      "source": [
        "### Train val test split "
      ]
    },
    {
      "cell_type": "code",
      "metadata": {
        "colab": {
          "base_uri": "https://localhost:8080/"
        },
        "id": "zf_6ZUyAEDpB",
        "outputId": "1a5e45f7-506e-4b1d-e219-de3e50aa5651"
      },
      "source": [
        "X = recipes_df_small[\"Directions\"].copy()\n",
        "y = recipes_df_small[\"train_data\"].copy()\n",
        "\n",
        "X_train, X_rem, y_train, y_rem = train_test_split(X,y, train_size=0.8, random_state= 11 )\n",
        "X_valid, X_test, y_valid, y_test = train_test_split(X_rem,y_rem, test_size=0.5, random_state=11)\n",
        "\n",
        "print(\"Train: \", X_train.shape, y_train.shape)\n",
        "print(\"Val:\", X_valid.shape, y_valid.shape)\n",
        "print(\"Test:\", X_test.shape, y_test.shape)"
      ],
      "execution_count": 179,
      "outputs": [
        {
          "output_type": "stream",
          "name": "stdout",
          "text": [
            "Train:  (9876,) (9876,)\n",
            "Val: (1234,) (1234,)\n",
            "Test: (1235,) (1235,)\n"
          ]
        }
      ]
    },
    {
      "cell_type": "code",
      "metadata": {
        "id": "ZbppOmbdEulN"
      },
      "source": [
        ""
      ],
      "execution_count": null,
      "outputs": []
    }
  ]
}