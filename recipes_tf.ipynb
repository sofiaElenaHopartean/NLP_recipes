{
  "nbformat": 4,
  "nbformat_minor": 0,
  "metadata": {
    "colab": {
      "name": "recipes_tf.ipynb",
      "provenance": [],
      "collapsed_sections": [],
      "mount_file_id": "1tnqC1AFfCaFU7zq03EbotC-E_ymGGccn",
      "authorship_tag": "ABX9TyPhTE1qEHG0Q6xTH3slLKl1",
      "include_colab_link": true
    },
    "kernelspec": {
      "name": "python3",
      "display_name": "Python 3"
    },
    "language_info": {
      "name": "python"
    }
  },
  "cells": [
    {
      "cell_type": "markdown",
      "metadata": {
        "id": "view-in-github",
        "colab_type": "text"
      },
      "source": [
        "<a href=\"https://colab.research.google.com/github/sofiaElenaHopartean/NLP_recipes/blob/main/recipes_tf.ipynb\" target=\"_parent\"><img src=\"https://colab.research.google.com/assets/colab-badge.svg\" alt=\"Open In Colab\"/></a>"
      ]
    },
    {
      "cell_type": "markdown",
      "metadata": {
        "id": "dDYi_9EV-3gt"
      },
      "source": [
        "### Imports"
      ]
    },
    {
      "cell_type": "code",
      "metadata": {
        "colab": {
          "base_uri": "https://localhost:8080/"
        },
        "id": "N9riQz11h0RF",
        "outputId": "269b1389-5446-469e-9a40-4b3b74fe4bd8"
      },
      "source": [
        "!pip install tensorflow-addons"
      ],
      "execution_count": 63,
      "outputs": [
        {
          "output_type": "stream",
          "name": "stdout",
          "text": [
            "Collecting tensorflow-addons\n",
            "  Downloading tensorflow_addons-0.14.0-cp37-cp37m-manylinux_2_12_x86_64.manylinux2010_x86_64.whl (1.1 MB)\n",
            "\u001b[?25l\r\u001b[K     |▎                               | 10 kB 20.2 MB/s eta 0:00:01\r\u001b[K     |▋                               | 20 kB 26.6 MB/s eta 0:00:01\r\u001b[K     |▉                               | 30 kB 12.4 MB/s eta 0:00:01\r\u001b[K     |█▏                              | 40 kB 9.7 MB/s eta 0:00:01\r\u001b[K     |█▌                              | 51 kB 5.0 MB/s eta 0:00:01\r\u001b[K     |█▊                              | 61 kB 5.2 MB/s eta 0:00:01\r\u001b[K     |██                              | 71 kB 5.5 MB/s eta 0:00:01\r\u001b[K     |██▍                             | 81 kB 6.2 MB/s eta 0:00:01\r\u001b[K     |██▋                             | 92 kB 4.6 MB/s eta 0:00:01\r\u001b[K     |███                             | 102 kB 5.0 MB/s eta 0:00:01\r\u001b[K     |███▎                            | 112 kB 5.0 MB/s eta 0:00:01\r\u001b[K     |███▌                            | 122 kB 5.0 MB/s eta 0:00:01\r\u001b[K     |███▉                            | 133 kB 5.0 MB/s eta 0:00:01\r\u001b[K     |████▏                           | 143 kB 5.0 MB/s eta 0:00:01\r\u001b[K     |████▍                           | 153 kB 5.0 MB/s eta 0:00:01\r\u001b[K     |████▊                           | 163 kB 5.0 MB/s eta 0:00:01\r\u001b[K     |█████                           | 174 kB 5.0 MB/s eta 0:00:01\r\u001b[K     |█████▎                          | 184 kB 5.0 MB/s eta 0:00:01\r\u001b[K     |█████▋                          | 194 kB 5.0 MB/s eta 0:00:01\r\u001b[K     |██████                          | 204 kB 5.0 MB/s eta 0:00:01\r\u001b[K     |██████▏                         | 215 kB 5.0 MB/s eta 0:00:01\r\u001b[K     |██████▌                         | 225 kB 5.0 MB/s eta 0:00:01\r\u001b[K     |██████▉                         | 235 kB 5.0 MB/s eta 0:00:01\r\u001b[K     |███████                         | 245 kB 5.0 MB/s eta 0:00:01\r\u001b[K     |███████▍                        | 256 kB 5.0 MB/s eta 0:00:01\r\u001b[K     |███████▊                        | 266 kB 5.0 MB/s eta 0:00:01\r\u001b[K     |████████                        | 276 kB 5.0 MB/s eta 0:00:01\r\u001b[K     |████████▎                       | 286 kB 5.0 MB/s eta 0:00:01\r\u001b[K     |████████▋                       | 296 kB 5.0 MB/s eta 0:00:01\r\u001b[K     |████████▉                       | 307 kB 5.0 MB/s eta 0:00:01\r\u001b[K     |█████████▏                      | 317 kB 5.0 MB/s eta 0:00:01\r\u001b[K     |█████████▌                      | 327 kB 5.0 MB/s eta 0:00:01\r\u001b[K     |█████████▊                      | 337 kB 5.0 MB/s eta 0:00:01\r\u001b[K     |██████████                      | 348 kB 5.0 MB/s eta 0:00:01\r\u001b[K     |██████████▍                     | 358 kB 5.0 MB/s eta 0:00:01\r\u001b[K     |██████████▋                     | 368 kB 5.0 MB/s eta 0:00:01\r\u001b[K     |███████████                     | 378 kB 5.0 MB/s eta 0:00:01\r\u001b[K     |███████████▎                    | 389 kB 5.0 MB/s eta 0:00:01\r\u001b[K     |███████████▌                    | 399 kB 5.0 MB/s eta 0:00:01\r\u001b[K     |███████████▉                    | 409 kB 5.0 MB/s eta 0:00:01\r\u001b[K     |████████████▏                   | 419 kB 5.0 MB/s eta 0:00:01\r\u001b[K     |████████████▍                   | 430 kB 5.0 MB/s eta 0:00:01\r\u001b[K     |████████████▊                   | 440 kB 5.0 MB/s eta 0:00:01\r\u001b[K     |█████████████                   | 450 kB 5.0 MB/s eta 0:00:01\r\u001b[K     |█████████████▎                  | 460 kB 5.0 MB/s eta 0:00:01\r\u001b[K     |█████████████▋                  | 471 kB 5.0 MB/s eta 0:00:01\r\u001b[K     |██████████████                  | 481 kB 5.0 MB/s eta 0:00:01\r\u001b[K     |██████████████▏                 | 491 kB 5.0 MB/s eta 0:00:01\r\u001b[K     |██████████████▌                 | 501 kB 5.0 MB/s eta 0:00:01\r\u001b[K     |██████████████▉                 | 512 kB 5.0 MB/s eta 0:00:01\r\u001b[K     |███████████████                 | 522 kB 5.0 MB/s eta 0:00:01\r\u001b[K     |███████████████▍                | 532 kB 5.0 MB/s eta 0:00:01\r\u001b[K     |███████████████▊                | 542 kB 5.0 MB/s eta 0:00:01\r\u001b[K     |████████████████                | 552 kB 5.0 MB/s eta 0:00:01\r\u001b[K     |████████████████▎               | 563 kB 5.0 MB/s eta 0:00:01\r\u001b[K     |████████████████▋               | 573 kB 5.0 MB/s eta 0:00:01\r\u001b[K     |████████████████▉               | 583 kB 5.0 MB/s eta 0:00:01\r\u001b[K     |█████████████████▏              | 593 kB 5.0 MB/s eta 0:00:01\r\u001b[K     |█████████████████▌              | 604 kB 5.0 MB/s eta 0:00:01\r\u001b[K     |█████████████████▊              | 614 kB 5.0 MB/s eta 0:00:01\r\u001b[K     |██████████████████              | 624 kB 5.0 MB/s eta 0:00:01\r\u001b[K     |██████████████████▍             | 634 kB 5.0 MB/s eta 0:00:01\r\u001b[K     |██████████████████▋             | 645 kB 5.0 MB/s eta 0:00:01\r\u001b[K     |███████████████████             | 655 kB 5.0 MB/s eta 0:00:01\r\u001b[K     |███████████████████▎            | 665 kB 5.0 MB/s eta 0:00:01\r\u001b[K     |███████████████████▌            | 675 kB 5.0 MB/s eta 0:00:01\r\u001b[K     |███████████████████▉            | 686 kB 5.0 MB/s eta 0:00:01\r\u001b[K     |████████████████████▏           | 696 kB 5.0 MB/s eta 0:00:01\r\u001b[K     |████████████████████▍           | 706 kB 5.0 MB/s eta 0:00:01\r\u001b[K     |████████████████████▊           | 716 kB 5.0 MB/s eta 0:00:01\r\u001b[K     |█████████████████████           | 727 kB 5.0 MB/s eta 0:00:01\r\u001b[K     |█████████████████████▎          | 737 kB 5.0 MB/s eta 0:00:01\r\u001b[K     |█████████████████████▋          | 747 kB 5.0 MB/s eta 0:00:01\r\u001b[K     |██████████████████████          | 757 kB 5.0 MB/s eta 0:00:01\r\u001b[K     |██████████████████████▏         | 768 kB 5.0 MB/s eta 0:00:01\r\u001b[K     |██████████████████████▌         | 778 kB 5.0 MB/s eta 0:00:01\r\u001b[K     |██████████████████████▉         | 788 kB 5.0 MB/s eta 0:00:01\r\u001b[K     |███████████████████████         | 798 kB 5.0 MB/s eta 0:00:01\r\u001b[K     |███████████████████████▍        | 808 kB 5.0 MB/s eta 0:00:01\r\u001b[K     |███████████████████████▊        | 819 kB 5.0 MB/s eta 0:00:01\r\u001b[K     |████████████████████████        | 829 kB 5.0 MB/s eta 0:00:01\r\u001b[K     |████████████████████████▎       | 839 kB 5.0 MB/s eta 0:00:01\r\u001b[K     |████████████████████████▋       | 849 kB 5.0 MB/s eta 0:00:01\r\u001b[K     |████████████████████████▉       | 860 kB 5.0 MB/s eta 0:00:01\r\u001b[K     |█████████████████████████▏      | 870 kB 5.0 MB/s eta 0:00:01\r\u001b[K     |█████████████████████████▍      | 880 kB 5.0 MB/s eta 0:00:01\r\u001b[K     |█████████████████████████▊      | 890 kB 5.0 MB/s eta 0:00:01\r\u001b[K     |██████████████████████████      | 901 kB 5.0 MB/s eta 0:00:01\r\u001b[K     |██████████████████████████▎     | 911 kB 5.0 MB/s eta 0:00:01\r\u001b[K     |██████████████████████████▋     | 921 kB 5.0 MB/s eta 0:00:01\r\u001b[K     |███████████████████████████     | 931 kB 5.0 MB/s eta 0:00:01\r\u001b[K     |███████████████████████████▏    | 942 kB 5.0 MB/s eta 0:00:01\r\u001b[K     |███████████████████████████▌    | 952 kB 5.0 MB/s eta 0:00:01\r\u001b[K     |███████████████████████████▉    | 962 kB 5.0 MB/s eta 0:00:01\r\u001b[K     |████████████████████████████    | 972 kB 5.0 MB/s eta 0:00:01\r\u001b[K     |████████████████████████████▍   | 983 kB 5.0 MB/s eta 0:00:01\r\u001b[K     |████████████████████████████▊   | 993 kB 5.0 MB/s eta 0:00:01\r\u001b[K     |█████████████████████████████   | 1.0 MB 5.0 MB/s eta 0:00:01\r\u001b[K     |█████████████████████████████▎  | 1.0 MB 5.0 MB/s eta 0:00:01\r\u001b[K     |█████████████████████████████▋  | 1.0 MB 5.0 MB/s eta 0:00:01\r\u001b[K     |█████████████████████████████▉  | 1.0 MB 5.0 MB/s eta 0:00:01\r\u001b[K     |██████████████████████████████▏ | 1.0 MB 5.0 MB/s eta 0:00:01\r\u001b[K     |██████████████████████████████▌ | 1.1 MB 5.0 MB/s eta 0:00:01\r\u001b[K     |██████████████████████████████▊ | 1.1 MB 5.0 MB/s eta 0:00:01\r\u001b[K     |███████████████████████████████ | 1.1 MB 5.0 MB/s eta 0:00:01\r\u001b[K     |███████████████████████████████▍| 1.1 MB 5.0 MB/s eta 0:00:01\r\u001b[K     |███████████████████████████████▋| 1.1 MB 5.0 MB/s eta 0:00:01\r\u001b[K     |████████████████████████████████| 1.1 MB 5.0 MB/s eta 0:00:01\r\u001b[K     |████████████████████████████████| 1.1 MB 5.0 MB/s \n",
            "\u001b[?25hRequirement already satisfied: typeguard>=2.7 in /usr/local/lib/python3.7/dist-packages (from tensorflow-addons) (2.7.1)\n",
            "Installing collected packages: tensorflow-addons\n",
            "Successfully installed tensorflow-addons-0.14.0\n"
          ]
        }
      ]
    },
    {
      "cell_type": "code",
      "metadata": {
        "id": "KAdCUWJxdcze"
      },
      "source": [
        "import tensorflow as tf\n",
        "import tensorflow_addons as tfa\n",
        "from functools import partial\n",
        "from keras.preprocessing.text import Tokenizer\n",
        "from keras.preprocessing.sequence import pad_sequences\n",
        "# from keras.utils import to_categorical\n",
        "import pickle\n",
        "import time\n",
        "import pandas as pd\n",
        "import numpy as np \n",
        "\n",
        "import spacy\n",
        "import pandas as pd\n",
        "import numpy as np\n",
        "import csv\n",
        "# import explacy\n",
        "from spacy import displacy\n",
        "from spacy.util import minibatch, compounding\n",
        "import random\n",
        "import time\n",
        "\n",
        "import matplotlib.pyplot as plt\n",
        "%matplotlib inline\n",
        "from sklearn.model_selection import train_test_split\n",
        "\n",
        "import sys\n",
        "import warnings\n",
        "import unicodedata\n",
        "import re\n",
        "\n",
        "warnings.filterwarnings(\"ignore\")"
      ],
      "execution_count": 64,
      "outputs": []
    },
    {
      "cell_type": "markdown",
      "metadata": {
        "id": "wpa-G9y6-5il"
      },
      "source": [
        "### Text Preprocessing"
      ]
    },
    {
      "cell_type": "code",
      "metadata": {
        "colab": {
          "base_uri": "https://localhost:8080/",
          "height": 400
        },
        "id": "mDYyB3df_Ew3",
        "outputId": "25bdb186-da33-452c-d32d-0109e9949302"
      },
      "source": [
        "recipes_df = pd.read_csv(\"drive/MyDrive/recipes/recipes.csv\", delimiter=\";\")\n",
        "print(recipes_df.shape)\n",
        "recipes_df.head(3)"
      ],
      "execution_count": 2,
      "outputs": [
        {
          "output_type": "stream",
          "name": "stdout",
          "text": [
            "(12351, 10)\n"
          ]
        },
        {
          "output_type": "execute_result",
          "data": {
            "text/html": [
              "<div>\n",
              "<style scoped>\n",
              "    .dataframe tbody tr th:only-of-type {\n",
              "        vertical-align: middle;\n",
              "    }\n",
              "\n",
              "    .dataframe tbody tr th {\n",
              "        vertical-align: top;\n",
              "    }\n",
              "\n",
              "    .dataframe thead th {\n",
              "        text-align: right;\n",
              "    }\n",
              "</style>\n",
              "<table border=\"1\" class=\"dataframe\">\n",
              "  <thead>\n",
              "    <tr style=\"text-align: right;\">\n",
              "      <th></th>\n",
              "      <th>Recipe Name</th>\n",
              "      <th>Review Count</th>\n",
              "      <th>Recipe Photo</th>\n",
              "      <th>Author</th>\n",
              "      <th>Prepare Time</th>\n",
              "      <th>Cook Time</th>\n",
              "      <th>Total Time</th>\n",
              "      <th>Ingredients</th>\n",
              "      <th>Directions</th>\n",
              "      <th>RecipeID</th>\n",
              "    </tr>\n",
              "  </thead>\n",
              "  <tbody>\n",
              "    <tr>\n",
              "      <th>0</th>\n",
              "      <td>Golden Crescent Rolls Recipe</td>\n",
              "      <td>304</td>\n",
              "      <td>https://images.media-allrecipes.com/userphotos...</td>\n",
              "      <td>Mike A.</td>\n",
              "      <td>25 m</td>\n",
              "      <td>15 m</td>\n",
              "      <td>3 h 10 m</td>\n",
              "      <td>yeast,water,white sugar,salt,egg,butter,flour,...</td>\n",
              "      <td>Dissolve yeast in warm water.**Stir in sugar, ...</td>\n",
              "      <td>7000</td>\n",
              "    </tr>\n",
              "    <tr>\n",
              "      <th>1</th>\n",
              "      <td>Poppy Seed Bread with Glaze Recipe</td>\n",
              "      <td>137</td>\n",
              "      <td>https://images.media-allrecipes.com/userphotos...</td>\n",
              "      <td>Christina Jun</td>\n",
              "      <td>15 m</td>\n",
              "      <td>1 h</td>\n",
              "      <td>1 h 20 m</td>\n",
              "      <td>flour,salt,baking powder,poppy,butter,vegetabl...</td>\n",
              "      <td>'Preheat oven to 350 degrees F (175 degrees C)...</td>\n",
              "      <td>7001</td>\n",
              "    </tr>\n",
              "    <tr>\n",
              "      <th>2</th>\n",
              "      <td>Applesauce Bread I Recipe</td>\n",
              "      <td>124</td>\n",
              "      <td>https://images.media-allrecipes.com/userphotos...</td>\n",
              "      <td>GAF55</td>\n",
              "      <td>10 m</td>\n",
              "      <td>1 h 20 m</td>\n",
              "      <td>1 h 30 m</td>\n",
              "      <td>flour,egg,white sugar,vegetable oil,applesauce...</td>\n",
              "      <td>Preheat oven to 350 degrees F (175 degrees C)....</td>\n",
              "      <td>7003</td>\n",
              "    </tr>\n",
              "  </tbody>\n",
              "</table>\n",
              "</div>"
            ],
            "text/plain": [
              "                           Recipe Name  ... RecipeID\n",
              "0        Golden Crescent Rolls Recipe   ...     7000\n",
              "1  Poppy Seed Bread with Glaze Recipe   ...     7001\n",
              "2           Applesauce Bread I Recipe   ...     7003\n",
              "\n",
              "[3 rows x 10 columns]"
            ]
          },
          "metadata": {},
          "execution_count": 2
        }
      ]
    },
    {
      "cell_type": "code",
      "metadata": {
        "colab": {
          "base_uri": "https://localhost:8080/",
          "height": 159
        },
        "id": "7plMu2_b_bdo",
        "outputId": "dd01ea39-73d2-48b4-c7e7-21be801edf39"
      },
      "source": [
        "recipes_df_small = recipes_df[~recipes_df['Directions'].isna()][[\"Directions\", \"Ingredients\"]]\n",
        "print(recipes_df_small.shape)\n",
        "recipes_df_small.head(3)"
      ],
      "execution_count": 3,
      "outputs": [
        {
          "output_type": "stream",
          "name": "stdout",
          "text": [
            "(12345, 2)\n"
          ]
        },
        {
          "output_type": "execute_result",
          "data": {
            "text/html": [
              "<div>\n",
              "<style scoped>\n",
              "    .dataframe tbody tr th:only-of-type {\n",
              "        vertical-align: middle;\n",
              "    }\n",
              "\n",
              "    .dataframe tbody tr th {\n",
              "        vertical-align: top;\n",
              "    }\n",
              "\n",
              "    .dataframe thead th {\n",
              "        text-align: right;\n",
              "    }\n",
              "</style>\n",
              "<table border=\"1\" class=\"dataframe\">\n",
              "  <thead>\n",
              "    <tr style=\"text-align: right;\">\n",
              "      <th></th>\n",
              "      <th>Directions</th>\n",
              "      <th>Ingredients</th>\n",
              "    </tr>\n",
              "  </thead>\n",
              "  <tbody>\n",
              "    <tr>\n",
              "      <th>0</th>\n",
              "      <td>Dissolve yeast in warm water.**Stir in sugar, ...</td>\n",
              "      <td>yeast,water,white sugar,salt,egg,butter,flour,...</td>\n",
              "    </tr>\n",
              "    <tr>\n",
              "      <th>1</th>\n",
              "      <td>'Preheat oven to 350 degrees F (175 degrees C)...</td>\n",
              "      <td>flour,salt,baking powder,poppy,butter,vegetabl...</td>\n",
              "    </tr>\n",
              "    <tr>\n",
              "      <th>2</th>\n",
              "      <td>Preheat oven to 350 degrees F (175 degrees C)....</td>\n",
              "      <td>flour,egg,white sugar,vegetable oil,applesauce...</td>\n",
              "    </tr>\n",
              "  </tbody>\n",
              "</table>\n",
              "</div>"
            ],
            "text/plain": [
              "                                          Directions                                        Ingredients\n",
              "0  Dissolve yeast in warm water.**Stir in sugar, ...  yeast,water,white sugar,salt,egg,butter,flour,...\n",
              "1  'Preheat oven to 350 degrees F (175 degrees C)...  flour,salt,baking powder,poppy,butter,vegetabl...\n",
              "2  Preheat oven to 350 degrees F (175 degrees C)....  flour,egg,white sugar,vegetable oil,applesauce..."
            ]
          },
          "metadata": {},
          "execution_count": 3
        }
      ]
    },
    {
      "cell_type": "code",
      "metadata": {
        "id": "FUzHxDSq_2Iy"
      },
      "source": [
        "directions_lengths = [ len(str) for str in recipes_df_small[\"Directions\"]]\n",
        "ingredients_lengths = [ len(str) for str in recipes_df_small['Ingredients']]"
      ],
      "execution_count": 4,
      "outputs": []
    },
    {
      "cell_type": "code",
      "metadata": {
        "colab": {
          "base_uri": "https://localhost:8080/",
          "height": 279
        },
        "id": "CIhXZtL2AY41",
        "outputId": "437ac341-b1c9-4e43-b186-e97921235ec5"
      },
      "source": [
        "plt.hist(directions_lengths)\n",
        "plt.xlabel(\"Nb. of chars\")\n",
        "plt.show()"
      ],
      "execution_count": 5,
      "outputs": [
        {
          "output_type": "display_data",
          "data": {
            "image/png": "[encoded data removed]",
            "text/plain": [
              "<Figure size 432x288 with 1 Axes>"
            ]
          },
          "metadata": {
            "needs_background": "light"
          }
        }
      ]
    },
    {
      "cell_type": "code",
      "metadata": {
        "colab": {
          "base_uri": "https://localhost:8080/",
          "height": 279
        },
        "id": "Ux9HOiKLAagc",
        "outputId": "9520cce2-af2a-4126-8dc3-dbeb2fe2ff2f"
      },
      "source": [
        "plt.hist(ingredients_lengths)\n",
        "plt.xlabel(\"Nb. of chars\")\n",
        "plt.show()"
      ],
      "execution_count": 6,
      "outputs": [
        {
          "output_type": "display_data",
          "data": {
            "image/png": "[encoded data removed]",
            "text/plain": [
              "<Figure size 432x288 with 1 Axes>"
            ]
          },
          "metadata": {
            "needs_background": "light"
          }
        }
      ]
    },
    {
      "cell_type": "code",
      "metadata": {
        "colab": {
          "base_uri": "https://localhost:8080/"
        },
        "id": "XY25D1kJA3_8",
        "outputId": "569b97b3-097b-48d3-ab06-87ba80f5f9dc"
      },
      "source": [
        "special_chrs = [chr for chr in set(''.join(recipes_df_small[\"Directions\"])) if not chr.isalnum()]\n",
        "special_chrs.extend([chr for chr in set(''.join(recipes_df_small[\"Ingredients\"])) if not chr.isalnum()])\n",
        "special_chrs = list(set(special_chrs))\n",
        "print(special_chrs)"
      ],
      "execution_count": 7,
      "outputs": [
        {
          "output_type": "stream",
          "name": "stdout",
          "text": [
            "['.', '-', ':', '\\x99', '#', '>', ',', '{', '<', '(', '\"', \"'\", '®', ' ', '*', '?', '+', '%', '&', '!', ')', '/', '=', '}']\n"
          ]
        }
      ]
    },
    {
      "cell_type": "code",
      "metadata": {
        "colab": {
          "base_uri": "https://localhost:8080/",
          "height": 366
        },
        "id": "EySs7dD5BCT9",
        "outputId": "01488a15-2e94-4752-ff53-2767b6e809ba"
      },
      "source": [
        "# for index, row in recipes_df_small.iterrows():\n",
        "#   print(index)\n",
        "#   _dirs = unicodedata.normalize('NFKD', row[\"Directions\"]).encode('ascii', 'ignore').decode(\"utf-8\")\n",
        "#   _ingreds = unicodedata.normalize('NFKD', row[\"Ingredients\"]).encode('ascii', 'ignore').decode(\"utf-8\")\n",
        "  \n",
        "#   for sp_chr in special_chrs: \n",
        "#     _dirs = _dirs.replace(sp_chr, \" \")\n",
        "#     if sp_chr != \",\":\n",
        "#       _ingreds = _ingreds.replace(sp_chr, \" \")\n",
        "#   print(' '.join(_dirs.split()))\n",
        "#   print(' '.join(_ingreds.split()))\n",
        "#   break\n",
        "\n",
        "# unicodedata.normalize('NFKD', recipes_df_small[\"Ingredients\"][1]).encode('ascii', 'ignore').decode(\"utf-8\").split(\",\")\n",
        "\n",
        "\n",
        "def preprocess_dirs(text):\n",
        "  _dirs = unicodedata.normalize('NFKD', text).encode('ascii', 'ignore').decode(\"utf-8\")\n",
        "  for sp_chr in special_chrs: \n",
        "    _dirs = _dirs.replace(sp_chr, \" \")\n",
        "  _dirs = re.sub('\\d', '', _dirs)\n",
        "  return ' '.join(_dirs.split())\n",
        "\n",
        "def preprocess_ingred(text):\n",
        "  _ingreds = unicodedata.normalize('NFKD', text).encode('ascii', 'ignore').decode(\"utf-8\")\n",
        "  for sp_chr in special_chrs: \n",
        "    if sp_chr != \",\":\n",
        "      _ingreds = _ingreds.replace(sp_chr, \" \")\n",
        "  _ingreds = re.sub('\\d', '', _ingreds)\n",
        "  return ' '.join(_ingreds.split())\n",
        "\n",
        "recipes_df_small[\"lo_directions\"] = recipes_df_small[\"Directions\"].str.lower()\n",
        "recipes_df_small[\"lo_ingredients\"] = recipes_df_small[\"Ingredients\"].str.lower()\n",
        "\n",
        "recipes_df_small[\"norm_directions\"] = recipes_df_small[\"lo_directions\"].apply(preprocess_dirs)\n",
        "recipes_df_small[\"norm_ingredients\"] = recipes_df_small[\"lo_ingredients\"].apply(preprocess_ingred)\n",
        "\n",
        "recipes_df_small.head(3)"
      ],
      "execution_count": 8,
      "outputs": [
        {
          "output_type": "execute_result",
          "data": {
            "text/html": [
              "<div>\n",
              "<style scoped>\n",
              "    .dataframe tbody tr th:only-of-type {\n",
              "        vertical-align: middle;\n",
              "    }\n",
              "\n",
              "    .dataframe tbody tr th {\n",
              "        vertical-align: top;\n",
              "    }\n",
              "\n",
              "    .dataframe thead th {\n",
              "        text-align: right;\n",
              "    }\n",
              "</style>\n",
              "<table border=\"1\" class=\"dataframe\">\n",
              "  <thead>\n",
              "    <tr style=\"text-align: right;\">\n",
              "      <th></th>\n",
              "      <th>Directions</th>\n",
              "      <th>Ingredients</th>\n",
              "      <th>lo_directions</th>\n",
              "      <th>lo_ingredients</th>\n",
              "      <th>norm_directions</th>\n",
              "      <th>norm_ingredients</th>\n",
              "    </tr>\n",
              "  </thead>\n",
              "  <tbody>\n",
              "    <tr>\n",
              "      <th>0</th>\n",
              "      <td>Dissolve yeast in warm water.**Stir in sugar, ...</td>\n",
              "      <td>yeast,water,white sugar,salt,egg,butter,flour,...</td>\n",
              "      <td>dissolve yeast in warm water.**stir in sugar, ...</td>\n",
              "      <td>yeast,water,white sugar,salt,egg,butter,flour,...</td>\n",
              "      <td>dissolve yeast in warm water stir in sugar sal...</td>\n",
              "      <td>yeast,water,white sugar,salt,egg,butter,flour,...</td>\n",
              "    </tr>\n",
              "    <tr>\n",
              "      <th>1</th>\n",
              "      <td>'Preheat oven to 350 degrees F (175 degrees C)...</td>\n",
              "      <td>flour,salt,baking powder,poppy,butter,vegetabl...</td>\n",
              "      <td>'preheat oven to 350 degrees f (175 degrees c)...</td>\n",
              "      <td>flour,salt,baking powder,poppy,butter,vegetabl...</td>\n",
              "      <td>preheat oven to degrees f degrees c grease bot...</td>\n",
              "      <td>flour,salt,baking powder,poppy,butter,vegetabl...</td>\n",
              "    </tr>\n",
              "    <tr>\n",
              "      <th>2</th>\n",
              "      <td>Preheat oven to 350 degrees F (175 degrees C)....</td>\n",
              "      <td>flour,egg,white sugar,vegetable oil,applesauce...</td>\n",
              "      <td>preheat oven to 350 degrees f (175 degrees c)....</td>\n",
              "      <td>flour,egg,white sugar,vegetable oil,applesauce...</td>\n",
              "      <td>preheat oven to degrees f degrees c grease and...</td>\n",
              "      <td>flour,egg,white sugar,vegetable oil,applesauce...</td>\n",
              "    </tr>\n",
              "  </tbody>\n",
              "</table>\n",
              "</div>"
            ],
            "text/plain": [
              "                                          Directions  ...                                   norm_ingredients\n",
              "0  Dissolve yeast in warm water.**Stir in sugar, ...  ...  yeast,water,white sugar,salt,egg,butter,flour,...\n",
              "1  'Preheat oven to 350 degrees F (175 degrees C)...  ...  flour,salt,baking powder,poppy,butter,vegetabl...\n",
              "2  Preheat oven to 350 degrees F (175 degrees C)....  ...  flour,egg,white sugar,vegetable oil,applesauce...\n",
              "\n",
              "[3 rows x 6 columns]"
            ]
          },
          "metadata": {},
          "execution_count": 8
        }
      ]
    },
    {
      "cell_type": "code",
      "metadata": {
        "colab": {
          "base_uri": "https://localhost:8080/"
        },
        "id": "4OODo_u9BCOX",
        "outputId": "8f90a504-c583-4661-f4c3-c405781e454a"
      },
      "source": [
        "words_lo_dirs = set()\n",
        "words_norm_dirs = set()\n",
        "sentence_sz_lo_dirs = []\n",
        "sentence_sz_norm_dirs = []\n",
        "for _, row in recipes_df_small.iterrows():\n",
        "  words_lo_dirs.update(row[\"lo_directions\"].split())\n",
        "  sentence_sz_lo_dirs.append(len(row[\"lo_directions\"].split()))\n",
        "  words_norm_dirs.update(row['norm_directions'].split())\n",
        "  sentence_sz_norm_dirs.append(len(row[\"norm_directions\"].split()))\n",
        "print(\"lower directions: nb of distinct words :\", len(words_lo_dirs),\n",
        "      \"max sentece size:\", max(sentence_sz_lo_dirs))\n",
        "print(\"nb of distinct words norma:\", len(words_norm_dirs),\n",
        "      \"max sentece size:\", max(sentence_sz_norm_dirs))\n",
        "\n",
        "\n"
      ],
      "execution_count": 9,
      "outputs": [
        {
          "output_type": "stream",
          "name": "stdout",
          "text": [
            "lower directions: nb of distinct words : 20905 max sentece size: 546\n",
            "nb of distinct words norma: 5366 max sentece size: 524\n"
          ]
        }
      ]
    },
    {
      "cell_type": "markdown",
      "metadata": {
        "id": "R-I0Sd0o_By8"
      },
      "source": [
        "### Params"
      ]
    },
    {
      "cell_type": "code",
      "metadata": {
        "id": "_ZEu4mlAdtpj"
      },
      "source": [
        "params = {\n",
        "    'dim' : 300,            # dimension of embeddings\n",
        "    'maximum_steps' : 1000, # number of training steps        \n",
        "    'lstm_size' : 150,      # dimension of LSTM\n",
        "    'batch_size' : 25,      # batch size\n",
        "    'max_words' : 20100, #6000/ 10000,    # maximum number of words to embed\n",
        "    'padding_size' : 600,    #20 maximum sentence size\n",
        "    'num_classes' : 3,     # number of unique classes\n",
        "    'save_dir' : 'drive/MyDrive/recipes/saved_model_tf/' # directory to save hash tables, model weights, etc.\n",
        "}"
      ],
      "execution_count": 41,
      "outputs": []
    },
    {
      "cell_type": "markdown",
      "metadata": {
        "id": "sj3vki9SXN2E"
      },
      "source": [
        "### Data split"
      ]
    },
    {
      "cell_type": "code",
      "metadata": {
        "colab": {
          "base_uri": "https://localhost:8080/"
        },
        "id": "F3o9_sZdXQEI",
        "outputId": "5d65e24c-0b4a-4c03-bfd1-5ceb44f1f77b"
      },
      "source": [
        "colname1, colname2 = 'lo_directions', 'lo_ingredients'\n",
        "X = recipes_df_small[colname1].copy()\n",
        "y = recipes_df_small[colname2].copy()\n",
        "\n",
        "X_train, X_rem, y_train, y_rem = train_test_split(X,y, train_size=0.8, random_state= 11 )\n",
        "X_valid, X_test, y_valid, y_test = train_test_split(X_rem,y_rem, test_size=0.5, random_state=11)\n",
        "\n",
        "print(\"Train: \", X_train.shape, y_train.shape)\n",
        "print(\"Val:\", X_valid.shape, y_valid.shape)\n",
        "print(\"Test:\", X_test.shape, y_test.shape)"
      ],
      "execution_count": 42,
      "outputs": [
        {
          "output_type": "stream",
          "name": "stdout",
          "text": [
            "Train:  (9876,) (9876,)\n",
            "Val: (1234,) (1234,)\n",
            "Test: (1235,) (1235,)\n"
          ]
        }
      ]
    },
    {
      "cell_type": "code",
      "metadata": {
        "id": "6qaZYXE1Yg-G"
      },
      "source": [
        "# pd.concat([X_train, y_train], axis=1)"
      ],
      "execution_count": 43,
      "outputs": []
    },
    {
      "cell_type": "markdown",
      "metadata": {
        "id": "i8FIVPcxW9mB"
      },
      "source": [
        "### Helpers & tokenizer"
      ]
    },
    {
      "cell_type": "code",
      "metadata": {
        "id": "vxIYz1BWd1kZ"
      },
      "source": [
        "def save_obj(directory, obj, name):\n",
        "    '''Helper function using pickle to save and load objects'''\n",
        "    with open(directory + name + '.pkl', 'wb+') as f:\n",
        "        pickle.dump(obj, f, pickle.HIGHEST_PROTOCOL)\n",
        "\n",
        "def load_obj(directory, name):\n",
        "    '''Helper function using pickle to save and load objects'''\n",
        "    with open(directory + name + \".pkl\", \"rb\") as f:\n",
        "        return pickle.load(f)\n",
        "    \n",
        "def load_data(df, colname1, colname2):\n",
        "    '''Helper function to load and transform inputs and labels\n",
        "    included as a separate function due to NER-specific evaluation needs:\n",
        "        tensorflow does not have multi-class precision/accuracy as a metric\n",
        "        so data_y is needed to manually calculate evaluations'''\n",
        "    data_x, data_y = [], []\n",
        "    for index, line in df.iterrows():\n",
        "        data_x.append(line[colname1])\n",
        "        data_y.append(line[colname2]) \n",
        "    return data_x, data_y"
      ],
      "execution_count": 44,
      "outputs": []
    },
    {
      "cell_type": "code",
      "metadata": {
        "id": "KOjlHMPYz0tX"
      },
      "source": [
        "def make_tokenizer(df, colname1, colname2, params = params):\n",
        "    ''' In order for one hot encoding of words and labels to work, \n",
        "    every word and label has to be seen at least once to make a hashing table.\n",
        "    This function outputs hash tables for the words and the labels\n",
        "    that can be used to one-hot-encode them in the generator\n",
        "    '''\n",
        "    # Load parameters and data\n",
        "    max_words = params['max_words']\n",
        "    padding_size = params['padding_size']\n",
        "    save_dir = params['save_dir']\n",
        "    data_x, data_y = load_data(df, colname1, colname2)\n",
        "            \n",
        "    # Use the Keras tokenizer API to generate hashing table for data_x\n",
        "    tokenizer = Tokenizer(num_words = max_words)\n",
        "    \n",
        "    tokenizer.fit_on_texts(data_x)\n",
        "    word_index = tokenizer.word_index\n",
        "    \n",
        "    # Flatten data_y and create hashing table using set logic\n",
        "    # data_y_flattened = [item for sublist in data_y for item in sublist]\n",
        "    # data_x_flattened = [item for sublist in data_x for item in sublist]\n",
        "    \n",
        "    # labels_index = dict([(y, x + 1) for x, y in enumerate(sorted(set(data_y_flattened)))])\n",
        "    labels_index = {'INGREDIENT': 1, 'O': 2}\n",
        "    labels_lookup = {1:'INGREDIENT', 2:'O'}\n",
        "    # labels = []\n",
        "    # for item in data_y:\n",
        "    #     labels.append([labels_index.get(i) for i in item])\n",
        "    # labels_lookup = {v : k for k, v in labels_index.items()} # reverse dictionary for lookup\n",
        "    # save hash tables to disk for model serving\n",
        "    for item, name in zip([word_index, labels_index, labels_lookup],\n",
        "                          [\"word_index\", \"labels_index\", \"labels_lookup\"]):\n",
        "        save_obj(save_dir, item, name)\n",
        "    return word_index, labels_index, labels_lookup"
      ],
      "execution_count": 45,
      "outputs": []
    },
    {
      "cell_type": "code",
      "metadata": {
        "id": "PqwTW_403_nl"
      },
      "source": [
        "word_index, labels_index, labels_lookup = \\\n",
        "  make_tokenizer(recipes_df_small[[colname1, colname2]],\n",
        "                 colname1, colname2)"
      ],
      "execution_count": 46,
      "outputs": []
    },
    {
      "cell_type": "code",
      "metadata": {
        "colab": {
          "base_uri": "https://localhost:8080/"
        },
        "id": "OWB3nNQgUiD6",
        "outputId": "0c759483-f891-4e61-f349-3a2407a4d383"
      },
      "source": [
        "print(labels_lookup)\n",
        "print(labels_index)"
      ],
      "execution_count": 47,
      "outputs": [
        {
          "output_type": "stream",
          "name": "stdout",
          "text": [
            "{1: 'INGREDIENT', 2: 'O'}\n",
            "{'INGREDIENT': 1, 'O': 2}\n"
          ]
        }
      ]
    },
    {
      "cell_type": "markdown",
      "metadata": {
        "id": "bhNm2_5MXC7O"
      },
      "source": [
        "### Helpers & train"
      ]
    },
    {
      "cell_type": "code",
      "metadata": {
        "id": "uySqgqVd4mjr"
      },
      "source": [
        "def generate_batches(df, colname1, colname2, params = params, train = True):\n",
        "    ''' Generate minibatch with dimensions:\n",
        "    batch_x : (batch_size, max_len)\n",
        "    lengths : (batch_size,)\n",
        "    batch_y : (batch_size, num_classes)\n",
        "    \n",
        "    file : path to .txt containing training data in BIO format\n",
        "    '''\n",
        "    \n",
        "    batch_size = params['batch_size']\n",
        "    max_len = params['padding_size']\n",
        "    save_dir = params['save_dir']\n",
        "    \n",
        "    # load hash tables for tokenization\n",
        "    for item, name in zip([word_index, labels_index, labels_lookup],\n",
        "                          [\"word_index\", \"labels_index\", \"labels_lookup\"]):\n",
        "        item = load_obj(save_dir, name)\n",
        "    \n",
        "    while True:\n",
        "      batch_x, lengths, batch_y = [], [], []\n",
        "      words, labels = [], []\n",
        "      for index, line in df.iterrows():\n",
        "        _descr = line[colname1].split()\n",
        "        _ingred = re.split(',\\s*|\\s+', line[colname2])\n",
        "        # _ingred = line[colname2].split(\",\")\n",
        "        _labels = [ \"INGREDIENT\" if word in _ingred else \"O\" for word in _descr]\n",
        "        \n",
        "        words = [word_index.get(x) if x in word_index.keys() else 0 for x in _descr]\n",
        "        labels = [labels_index.get(y) for y in _labels]\n",
        "\n",
        "        batch_x.append(words)\n",
        "        batch_y.append(labels)\n",
        "        lengths.append(min(len(words), max_len))\n",
        "        words, labels = [], []\n",
        "\n",
        "        if len(batch_x) == batch_size:\n",
        "          batch_x = pad_sequences(batch_x, maxlen = max_len, value = 0, padding = \"post\")\n",
        "          batch_y = pad_sequences(batch_y, maxlen = max_len, value = 0, padding = \"post\")\n",
        "          yield (batch_x, lengths), batch_y \n",
        "          batch_x, lengths, batch_y = [], [], []\n",
        "      if train == False:\n",
        "        break"
      ],
      "execution_count": 48,
      "outputs": []
    },
    {
      "cell_type": "code",
      "metadata": {
        "id": "NMsWqxaQ8jUE"
      },
      "source": [
        "# For model training, we need an input function that will feed a tf.Dataset\n",
        "def input_fn(df, colname1, colname2, params = None, train = True):\n",
        "    params = params if params is not None else {}\n",
        "    shapes = (([None, None], [None]), [None, None]) # batch_x, lengths, batch_y shapes\n",
        "    types = ((tf.int32, tf.int32), tf.int32)        # batch_x, lengths, batch_y data types\n",
        "    \n",
        "    generator = partial(generate_batches, df, colname1, colname2, train = train)\n",
        "    dataset = tf.data.Dataset.from_generator(generator, types, shapes)\n",
        "    return dataset\n",
        "\n",
        "# For model serving, we need a serving function that will feed tf.placeholders\n",
        "def serving_input_fn():\n",
        "    words = tf.compat.v1.placeholder(dtype=tf.int32, shape=[None, None], name='words')\n",
        "    length = tf.compat.v1.placeholder(dtype=tf.int32, shape=[None], name='length')\n",
        "    receiver_tensors = {'words': words, 'length': length}\n",
        "    features = {'words': words, 'length': length}\n",
        "    return tf.estimator.export.ServingInputReceiver(features, receiver_tensors)"
      ],
      "execution_count": 78,
      "outputs": []
    },
    {
      "cell_type": "code",
      "metadata": {
        "id": "6yNpKdTd9IX4"
      },
      "source": [
        "def model_fn(features, labels, mode, params = params):\n",
        "    # import the data and unpack the features\n",
        "    # serving input_fn returns a dict, convert to multivalue obj\n",
        "    if isinstance(features, dict):\n",
        "        features = features['words'], features['length']\n",
        "    \n",
        "    words, length = features\n",
        "    \n",
        "    # Embedding\n",
        "    embedding = tf.Variable(tf.random.normal([params['max_words'], params['dim']]))\n",
        "    embedding_lookup_for_x = tf.nn.embedding_lookup(embedding, words)\n",
        "    \n",
        "    # LSTM\n",
        "    lstm_cell_fw = tf.compat.v1.nn.rnn_cell.BasicLSTMCell(params['lstm_size'], state_is_tuple = True)\n",
        "    lstm_cell_bw = tf.compat.v1.nn.rnn_cell.BasicLSTMCell(params['lstm_size'], state_is_tuple = True)\n",
        "    states, final_state = tf.compat.v1.nn.bidirectional_dynamic_rnn(\n",
        "                                        cell_fw = lstm_cell_fw, \n",
        "                                        cell_bw = lstm_cell_bw,\n",
        "                                        inputs = embedding_lookup_for_x, \n",
        "                                        dtype = tf.float32,\n",
        "                                        time_major = False,\n",
        "                                        sequence_length = length)\n",
        "    lstm_out = tf.concat([states[0], states[1]], axis = 2)\n",
        "        \n",
        "    # Conditional random fields\n",
        "    logits = tf.compat.v1.layers.dense(lstm_out, params['num_classes'])\n",
        "    crf_params = tf.compat.v1.get_variable(\"crf\", [params['num_classes'], params['num_classes']],\n",
        "                                 dtype=tf.float32)\n",
        "    pred_ids, _ = tfa.text.crf_decode(logits, crf_params, length)\n",
        "    training = (mode == tf.estimator.ModeKeys.TRAIN)\n",
        "    \n",
        "    # Prediction\n",
        "    if mode == tf.estimator.ModeKeys.PREDICT:\n",
        "        predictions = { \n",
        "            'pred_ids': pred_ids,\n",
        "            'tags': words,\n",
        "            'length' : length,\n",
        "        }\n",
        "        export_outputs = {\n",
        "          'prediction': tf.estimator.export.PredictOutput(predictions)\n",
        "      }\n",
        "        \n",
        "        return tf.estimator.EstimatorSpec(mode, predictions=predictions,\n",
        "                                          export_outputs=export_outputs)\n",
        "    \n",
        "    # Loss functions and optimizers\n",
        "    log_likelihood, _ = tfa.text.crf_log_likelihood(\n",
        "        logits, labels, length, crf_params)\n",
        "    \n",
        "    loss = tf.reduce_mean(-log_likelihood)\n",
        "    train_op = tf.compat.v1.train.AdamOptimizer().minimize(\n",
        "        loss, global_step = tf.compat.v1.train.get_or_create_global_step())\n",
        "        \n",
        "    # Training\n",
        "    if mode == tf.estimator.ModeKeys.TRAIN:\n",
        "        return tf.estimator.EstimatorSpec(mode = mode,\n",
        "                                           loss = loss,\n",
        "                                           train_op = train_op)"
      ],
      "execution_count": 74,
      "outputs": []
    },
    {
      "cell_type": "code",
      "metadata": {
        "colab": {
          "base_uri": "https://localhost:8080/"
        },
        "id": "8KHbPg0w9zfg",
        "outputId": "7af65e4d-7939-4145-8440-74592b11a5bd"
      },
      "source": [
        "# Spin up the estimator\n",
        "config = tf.estimator.RunConfig()\n",
        "estimator = tf.estimator.Estimator(model_fn, 'drive/MyDrive/recipes/model', config, params)\n",
        "\n",
        "# Create train spec\n",
        "df_train = pd.concat([X_train, y_train], axis=1)\n",
        "train_input_fn = partial(input_fn, df_train, colname1, colname2, params = params)\n",
        "train_spec = tf.estimator.TrainSpec(train_input_fn)\n",
        "\n",
        "# Create evaluation spec\n",
        "df_eval =  pd.concat([X_valid, y_valid], axis=1)\n",
        "eval_input_fn = partial(input_fn, df_eval, colname1, colname2, params = params, train = False)\n",
        "eval_spec = tf.estimator.EvalSpec(eval_input_fn)"
      ],
      "execution_count": 75,
      "outputs": [
        {
          "output_type": "stream",
          "name": "stdout",
          "text": [
            "INFO:tensorflow:Using config: {'_model_dir': 'drive/MyDrive/recipes/model', '_tf_random_seed': None, '_save_summary_steps': 100, '_save_checkpoints_steps': None, '_save_checkpoints_secs': 600, '_session_config': allow_soft_placement: true\n",
            "graph_options {\n",
            "  rewrite_options {\n",
            "    meta_optimizer_iterations: ONE\n",
            "  }\n",
            "}\n",
            ", '_keep_checkpoint_max': 5, '_keep_checkpoint_every_n_hours': 10000, '_log_step_count_steps': 100, '_train_distribute': None, '_device_fn': None, '_protocol': None, '_eval_distribute': None, '_experimental_distribute': None, '_experimental_max_worker_delay_secs': None, '_session_creation_timeout_secs': 7200, '_checkpoint_save_graph_def': True, '_service': None, '_cluster_spec': ClusterSpec({}), '_task_type': 'worker', '_task_id': 0, '_global_id_in_cluster': 0, '_master': '', '_evaluation_master': '', '_is_chief': True, '_num_ps_replicas': 0, '_num_worker_replicas': 1}\n"
          ]
        }
      ]
    },
    {
      "cell_type": "code",
      "metadata": {
        "colab": {
          "base_uri": "https://localhost:8080/",
          "height": 1000
        },
        "id": "0lNLreYI-LYK",
        "outputId": "52442b8c-9e4b-409d-8825-68246a67c960"
      },
      "source": [
        "ts = time.time()\n",
        "estimator.train(input_fn = train_input_fn, max_steps = 1000)\n",
        "te = time.time()\n",
        "print(\"Completed in {} seconds\".format(int(te - ts)))\n",
        "# estimator.export_savedmodel('drive/MyDrive/recipes/saved_model_tf/', serving_input_fn)"
      ],
      "execution_count": 76,
      "outputs": [
        {
          "output_type": "stream",
          "name": "stdout",
          "text": [
            "INFO:tensorflow:Calling model_fn.\n",
            "INFO:tensorflow:Done calling model_fn.\n",
            "INFO:tensorflow:Create CheckpointSaverHook.\n",
            "INFO:tensorflow:Graph was finalized.\n",
            "INFO:tensorflow:Running local_init_op.\n",
            "INFO:tensorflow:Done running local_init_op.\n",
            "INFO:tensorflow:Calling checkpoint listeners before saving checkpoint 0...\n",
            "INFO:tensorflow:Saving checkpoints for 0 into drive/MyDrive/recipes/model/model.ckpt.\n",
            "INFO:tensorflow:Calling checkpoint listeners after saving checkpoint 0...\n",
            "INFO:tensorflow:loss = 48.706978, step = 0\n",
            "INFO:tensorflow:global_step/sec: 0.687207\n",
            "INFO:tensorflow:loss = 3.705659, step = 100 (145.520 sec)\n",
            "INFO:tensorflow:global_step/sec: 0.740285\n",
            "INFO:tensorflow:loss = 3.7655323, step = 200 (135.086 sec)\n",
            "INFO:tensorflow:global_step/sec: 0.760379\n",
            "INFO:tensorflow:loss = 3.2581573, step = 300 (131.511 sec)\n",
            "INFO:tensorflow:global_step/sec: 0.737483\n",
            "INFO:tensorflow:loss = 5.1781445, step = 400 (135.601 sec)\n",
            "INFO:tensorflow:Calling checkpoint listeners before saving checkpoint 437...\n",
            "INFO:tensorflow:Saving checkpoints for 437 into drive/MyDrive/recipes/model/model.ckpt.\n",
            "INFO:tensorflow:Calling checkpoint listeners after saving checkpoint 437...\n",
            "INFO:tensorflow:global_step/sec: 0.72114\n",
            "INFO:tensorflow:loss = 3.457256, step = 500 (138.667 sec)\n",
            "INFO:tensorflow:global_step/sec: 0.761025\n",
            "INFO:tensorflow:loss = 1.7999389, step = 600 (131.398 sec)\n",
            "INFO:tensorflow:global_step/sec: 0.742984\n",
            "INFO:tensorflow:loss = 3.8637855, step = 700 (134.595 sec)\n",
            "INFO:tensorflow:global_step/sec: 0.729636\n",
            "INFO:tensorflow:loss = 2.5244966, step = 800 (137.052 sec)\n",
            "INFO:tensorflow:Calling checkpoint listeners before saving checkpoint 878...\n",
            "INFO:tensorflow:Saving checkpoints for 878 into drive/MyDrive/recipes/model/model.ckpt.\n",
            "INFO:tensorflow:Calling checkpoint listeners after saving checkpoint 878...\n",
            "INFO:tensorflow:global_step/sec: 0.713843\n",
            "INFO:tensorflow:loss = 2.277224, step = 900 (140.086 sec)\n",
            "INFO:tensorflow:Calling checkpoint listeners before saving checkpoint 1000...\n",
            "INFO:tensorflow:Saving checkpoints for 1000 into drive/MyDrive/recipes/model/model.ckpt.\n",
            "INFO:tensorflow:Calling checkpoint listeners after saving checkpoint 1000...\n",
            "INFO:tensorflow:Loss for final step: 2.560656.\n",
            "Completed in 1409 seconds\n"
          ]
        },
        {
          "output_type": "error",
          "ename": "AttributeError",
          "evalue": "ignored",
          "traceback": [
            "\u001b[0;31m---------------------------------------------------------------------------\u001b[0m",
            "\u001b[0;31mAttributeError\u001b[0m                            Traceback (most recent call last)",
            "\u001b[0;32m<ipython-input-76-bd673739a739>\u001b[0m in \u001b[0;36m<module>\u001b[0;34m()\u001b[0m\n\u001b[1;32m      3\u001b[0m \u001b[0mte\u001b[0m \u001b[0;34m=\u001b[0m \u001b[0mtime\u001b[0m\u001b[0;34m.\u001b[0m\u001b[0mtime\u001b[0m\u001b[0;34m(\u001b[0m\u001b[0;34m)\u001b[0m\u001b[0;34m\u001b[0m\u001b[0;34m\u001b[0m\u001b[0m\n\u001b[1;32m      4\u001b[0m \u001b[0mprint\u001b[0m\u001b[0;34m(\u001b[0m\u001b[0;34m\"Completed in {} seconds\"\u001b[0m\u001b[0;34m.\u001b[0m\u001b[0mformat\u001b[0m\u001b[0;34m(\u001b[0m\u001b[0mint\u001b[0m\u001b[0;34m(\u001b[0m\u001b[0mte\u001b[0m \u001b[0;34m-\u001b[0m \u001b[0mts\u001b[0m\u001b[0;34m)\u001b[0m\u001b[0;34m)\u001b[0m\u001b[0;34m)\u001b[0m\u001b[0;34m\u001b[0m\u001b[0;34m\u001b[0m\u001b[0m\n\u001b[0;32m----> 5\u001b[0;31m \u001b[0mestimator\u001b[0m\u001b[0;34m.\u001b[0m\u001b[0mexport_savedmodel\u001b[0m\u001b[0;34m(\u001b[0m\u001b[0;34m'drive/MyDrive/recipes/saved_model_tf/'\u001b[0m\u001b[0;34m,\u001b[0m \u001b[0mserving_input_fn\u001b[0m\u001b[0;34m)\u001b[0m\u001b[0;34m\u001b[0m\u001b[0;34m\u001b[0m\u001b[0m\n\u001b[0m",
            "\u001b[0;32m/usr/local/lib/python3.7/dist-packages/tensorflow/python/util/deprecation.py\u001b[0m in \u001b[0;36mraise_error\u001b[0;34m(unused_self)\u001b[0m\n\u001b[1;32m    676\u001b[0m \u001b[0;34m\u001b[0m\u001b[0m\n\u001b[1;32m    677\u001b[0m     \u001b[0;32mdef\u001b[0m \u001b[0mraise_error\u001b[0m\u001b[0;34m(\u001b[0m\u001b[0munused_self\u001b[0m\u001b[0;34m)\u001b[0m\u001b[0;34m:\u001b[0m\u001b[0;34m\u001b[0m\u001b[0;34m\u001b[0m\u001b[0m\n\u001b[0;32m--> 678\u001b[0;31m       \u001b[0;32mraise\u001b[0m \u001b[0mAttributeError\u001b[0m\u001b[0;34m(\u001b[0m\u001b[0mdeprecation_message\u001b[0m\u001b[0;34m)\u001b[0m\u001b[0;34m\u001b[0m\u001b[0;34m\u001b[0m\u001b[0m\n\u001b[0m\u001b[1;32m    679\u001b[0m \u001b[0;34m\u001b[0m\u001b[0m\n\u001b[1;32m    680\u001b[0m     \u001b[0msuper\u001b[0m\u001b[0;34m(\u001b[0m\u001b[0mHiddenTfApiAttribute\u001b[0m\u001b[0;34m,\u001b[0m \u001b[0mself\u001b[0m\u001b[0;34m)\u001b[0m\u001b[0;34m.\u001b[0m\u001b[0m__init__\u001b[0m\u001b[0;34m(\u001b[0m\u001b[0mraise_error\u001b[0m\u001b[0;34m)\u001b[0m\u001b[0;34m\u001b[0m\u001b[0;34m\u001b[0m\u001b[0m\n",
            "\u001b[0;31mAttributeError\u001b[0m: `Estimator.export_savedmodel` has been deprecated. Please use `export_saved_model` instead."
          ]
        }
      ]
    },
    {
      "cell_type": "code",
      "metadata": {
        "colab": {
          "base_uri": "https://localhost:8080/"
        },
        "id": "pLVwzeYl-VON",
        "outputId": "aa00d593-3499-46b8-f103-b77dad43ddcb"
      },
      "source": [
        "estimator.export_saved_model('drive/MyDrive/recipes/saved_model_tf/', serving_input_fn)\n"
      ],
      "execution_count": 79,
      "outputs": [
        {
          "output_type": "stream",
          "name": "stdout",
          "text": [
            "INFO:tensorflow:Calling model_fn.\n",
            "INFO:tensorflow:Done calling model_fn.\n",
            "WARNING:tensorflow:From /usr/local/lib/python3.7/dist-packages/tensorflow/python/saved_model/signature_def_utils_impl.py:201: build_tensor_info (from tensorflow.python.saved_model.utils_impl) is deprecated and will be removed in a future version.\n",
            "Instructions for updating:\n",
            "This function will only be available through the v1 compatibility library as tf.compat.v1.saved_model.utils.build_tensor_info or tf.compat.v1.saved_model.build_tensor_info.\n",
            "INFO:tensorflow:Signatures INCLUDED in export for Classify: None\n",
            "INFO:tensorflow:Signatures INCLUDED in export for Regress: None\n",
            "INFO:tensorflow:Signatures INCLUDED in export for Predict: ['prediction', 'serving_default']\n",
            "INFO:tensorflow:Signatures INCLUDED in export for Train: None\n",
            "INFO:tensorflow:Signatures INCLUDED in export for Eval: None\n",
            "INFO:tensorflow:Restoring parameters from drive/MyDrive/recipes/model/model.ckpt-1000\n",
            "INFO:tensorflow:Assets added to graph.\n",
            "INFO:tensorflow:No assets to write.\n",
            "INFO:tensorflow:SavedModel written to: drive/MyDrive/recipes/saved_model_tf/temp-1630437237/saved_model.pb\n"
          ]
        },
        {
          "output_type": "execute_result",
          "data": {
            "text/plain": [
              "b'drive/MyDrive/recipes/saved_model_tf/1630437237'"
            ]
          },
          "metadata": {},
          "execution_count": 79
        }
      ]
    },
    {
      "cell_type": "code",
      "metadata": {
        "id": "gqbP1nBWoMEv"
      },
      "source": [
        ""
      ],
      "execution_count": null,
      "outputs": []
    }
  ]
}