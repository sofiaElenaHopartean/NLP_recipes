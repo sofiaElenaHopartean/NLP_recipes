{
  "nbformat": 4,
  "nbformat_minor": 0,
  "metadata": {
    "colab": {
      "name": "recipes_tf.ipynb",
      "provenance": [],
      "collapsed_sections": [],
      "mount_file_id": "1tnqC1AFfCaFU7zq03EbotC-E_ymGGccn",
      "authorship_tag": "ABX9TyNOBCShiWUaS02axAXHGBam",
      "include_colab_link": true
    },
    "kernelspec": {
      "name": "python3",
      "display_name": "Python 3"
    },
    "language_info": {
      "name": "python"
    }
  },
  "cells": [
    {
      "cell_type": "markdown",
      "metadata": {
        "id": "view-in-github",
        "colab_type": "text"
      },
      "source": [
        "<a href=\"https://colab.research.google.com/github/sofiaElenaHopartean/NLP_recipes/blob/main/recipes_tf.ipynb\" target=\"_parent\"><img src=\"https://colab.research.google.com/assets/colab-badge.svg\" alt=\"Open In Colab\"/></a>"
      ]
    },
    {
      "cell_type": "markdown",
      "metadata": {
        "id": "dDYi_9EV-3gt"
      },
      "source": [
        "### Imports"
      ]
    },
    {
      "cell_type": "code",
      "metadata": {
        "id": "N9riQz11h0RF"
      },
      "source": [
        "# !pip install tensorflow-addons\n",
        "# !pip install livelossplot"
      ],
      "execution_count": 1,
      "outputs": []
    },
    {
      "cell_type": "code",
      "metadata": {
        "id": "KAdCUWJxdcze"
      },
      "source": [
        "import tensorflow as tf\n",
        "import tensorflow_addons as tfa\n",
        "from functools import partial\n",
        "from keras.preprocessing.text import Tokenizer\n",
        "from keras.preprocessing.sequence import pad_sequences\n",
        "# from keras.utils import to_categorical\n",
        "import pickle\n",
        "import time\n",
        "import pandas as pd\n",
        "import numpy as np \n",
        "\n",
        "import spacy\n",
        "import pandas as pd\n",
        "import numpy as np\n",
        "import csv\n",
        "# import explacy\n",
        "from spacy import displacy\n",
        "from spacy.util import minibatch, compounding\n",
        "import random\n",
        "import time\n",
        "\n",
        "import matplotlib.pyplot as plt\n",
        "%matplotlib inline\n",
        "from sklearn.model_selection import train_test_split\n",
        "\n",
        "import sys\n",
        "import warnings\n",
        "import unicodedata\n",
        "import re\n",
        "\n",
        "warnings.filterwarnings(\"ignore\")"
      ],
      "execution_count": 1,
      "outputs": []
    },
    {
      "cell_type": "code",
      "metadata": {
        "id": "HLI6RYBJW0qP"
      },
      "source": [
        "from tensorflow.keras.utils import to_categorical\n",
        "from tensorflow.keras import Model, Input\n",
        "from tensorflow.keras.layers import LSTM, Embedding, Dense\n",
        "from tensorflow.keras.layers import TimeDistributed, SpatialDropout1D, Bidirectional\n",
        "\n",
        "from tensorflow.keras.callbacks import ModelCheckpoint, EarlyStopping\n",
        "from livelossplot.tf_keras import PlotLossesCallback\n",
        "\n",
        "from tensorflow.keras.models import load_model"
      ],
      "execution_count": 2,
      "outputs": []
    },
    {
      "cell_type": "markdown",
      "metadata": {
        "id": "wpa-G9y6-5il"
      },
      "source": [
        "### Text Preprocessing"
      ]
    },
    {
      "cell_type": "code",
      "metadata": {
        "colab": {
          "base_uri": "https://localhost:8080/",
          "height": 261
        },
        "id": "mDYyB3df_Ew3",
        "outputId": "e6805983-5b48-4902-ede8-e26719c79689"
      },
      "source": [
        "recipes_df = pd.read_csv(\"drive/MyDrive/recipes/recipes.csv\", delimiter=\";\")\n",
        "print(recipes_df.shape)\n",
        "recipes_df.head(3)"
      ],
      "execution_count": 3,
      "outputs": [
        {
          "output_type": "stream",
          "name": "stdout",
          "text": [
            "(12351, 10)\n"
          ]
        },
        {
          "output_type": "execute_result",
          "data": {
            "text/html": [
              "<div>\n",
              "<style scoped>\n",
              "    .dataframe tbody tr th:only-of-type {\n",
              "        vertical-align: middle;\n",
              "    }\n",
              "\n",
              "    .dataframe tbody tr th {\n",
              "        vertical-align: top;\n",
              "    }\n",
              "\n",
              "    .dataframe thead th {\n",
              "        text-align: right;\n",
              "    }\n",
              "</style>\n",
              "<table border=\"1\" class=\"dataframe\">\n",
              "  <thead>\n",
              "    <tr style=\"text-align: right;\">\n",
              "      <th></th>\n",
              "      <th>Recipe Name</th>\n",
              "      <th>Review Count</th>\n",
              "      <th>Recipe Photo</th>\n",
              "      <th>Author</th>\n",
              "      <th>Prepare Time</th>\n",
              "      <th>Cook Time</th>\n",
              "      <th>Total Time</th>\n",
              "      <th>Ingredients</th>\n",
              "      <th>Directions</th>\n",
              "      <th>RecipeID</th>\n",
              "    </tr>\n",
              "  </thead>\n",
              "  <tbody>\n",
              "    <tr>\n",
              "      <th>0</th>\n",
              "      <td>Golden Crescent Rolls Recipe</td>\n",
              "      <td>304</td>\n",
              "      <td>https://images.media-allrecipes.com/userphotos...</td>\n",
              "      <td>Mike A.</td>\n",
              "      <td>25 m</td>\n",
              "      <td>15 m</td>\n",
              "      <td>3 h 10 m</td>\n",
              "      <td>yeast,water,white sugar,salt,egg,butter,flour,...</td>\n",
              "      <td>Dissolve yeast in warm water.**Stir in sugar, ...</td>\n",
              "      <td>7000</td>\n",
              "    </tr>\n",
              "    <tr>\n",
              "      <th>1</th>\n",
              "      <td>Poppy Seed Bread with Glaze Recipe</td>\n",
              "      <td>137</td>\n",
              "      <td>https://images.media-allrecipes.com/userphotos...</td>\n",
              "      <td>Christina Jun</td>\n",
              "      <td>15 m</td>\n",
              "      <td>1 h</td>\n",
              "      <td>1 h 20 m</td>\n",
              "      <td>flour,salt,baking powder,poppy,butter,vegetabl...</td>\n",
              "      <td>'Preheat oven to 350 degrees F (175 degrees C)...</td>\n",
              "      <td>7001</td>\n",
              "    </tr>\n",
              "    <tr>\n",
              "      <th>2</th>\n",
              "      <td>Applesauce Bread I Recipe</td>\n",
              "      <td>124</td>\n",
              "      <td>https://images.media-allrecipes.com/userphotos...</td>\n",
              "      <td>GAF55</td>\n",
              "      <td>10 m</td>\n",
              "      <td>1 h 20 m</td>\n",
              "      <td>1 h 30 m</td>\n",
              "      <td>flour,egg,white sugar,vegetable oil,applesauce...</td>\n",
              "      <td>Preheat oven to 350 degrees F (175 degrees C)....</td>\n",
              "      <td>7003</td>\n",
              "    </tr>\n",
              "  </tbody>\n",
              "</table>\n",
              "</div>"
            ],
            "text/plain": [
              "                           Recipe Name  ... RecipeID\n",
              "0        Golden Crescent Rolls Recipe   ...     7000\n",
              "1  Poppy Seed Bread with Glaze Recipe   ...     7001\n",
              "2           Applesauce Bread I Recipe   ...     7003\n",
              "\n",
              "[3 rows x 10 columns]"
            ]
          },
          "metadata": {},
          "execution_count": 3
        }
      ]
    },
    {
      "cell_type": "code",
      "metadata": {
        "colab": {
          "base_uri": "https://localhost:8080/",
          "height": 159
        },
        "id": "7plMu2_b_bdo",
        "outputId": "cf2bb864-8d4f-4d00-d406-25d679c5d2eb"
      },
      "source": [
        "recipes_df_small = recipes_df[~recipes_df['Directions'].isna()][[\"Directions\", \"Ingredients\"]]\n",
        "print(recipes_df_small.shape)\n",
        "recipes_df_small.head(3)"
      ],
      "execution_count": 4,
      "outputs": [
        {
          "output_type": "stream",
          "name": "stdout",
          "text": [
            "(12345, 2)\n"
          ]
        },
        {
          "output_type": "execute_result",
          "data": {
            "text/html": [
              "<div>\n",
              "<style scoped>\n",
              "    .dataframe tbody tr th:only-of-type {\n",
              "        vertical-align: middle;\n",
              "    }\n",
              "\n",
              "    .dataframe tbody tr th {\n",
              "        vertical-align: top;\n",
              "    }\n",
              "\n",
              "    .dataframe thead th {\n",
              "        text-align: right;\n",
              "    }\n",
              "</style>\n",
              "<table border=\"1\" class=\"dataframe\">\n",
              "  <thead>\n",
              "    <tr style=\"text-align: right;\">\n",
              "      <th></th>\n",
              "      <th>Directions</th>\n",
              "      <th>Ingredients</th>\n",
              "    </tr>\n",
              "  </thead>\n",
              "  <tbody>\n",
              "    <tr>\n",
              "      <th>0</th>\n",
              "      <td>Dissolve yeast in warm water.**Stir in sugar, ...</td>\n",
              "      <td>yeast,water,white sugar,salt,egg,butter,flour,...</td>\n",
              "    </tr>\n",
              "    <tr>\n",
              "      <th>1</th>\n",
              "      <td>'Preheat oven to 350 degrees F (175 degrees C)...</td>\n",
              "      <td>flour,salt,baking powder,poppy,butter,vegetabl...</td>\n",
              "    </tr>\n",
              "    <tr>\n",
              "      <th>2</th>\n",
              "      <td>Preheat oven to 350 degrees F (175 degrees C)....</td>\n",
              "      <td>flour,egg,white sugar,vegetable oil,applesauce...</td>\n",
              "    </tr>\n",
              "  </tbody>\n",
              "</table>\n",
              "</div>"
            ],
            "text/plain": [
              "                                          Directions                                        Ingredients\n",
              "0  Dissolve yeast in warm water.**Stir in sugar, ...  yeast,water,white sugar,salt,egg,butter,flour,...\n",
              "1  'Preheat oven to 350 degrees F (175 degrees C)...  flour,salt,baking powder,poppy,butter,vegetabl...\n",
              "2  Preheat oven to 350 degrees F (175 degrees C)....  flour,egg,white sugar,vegetable oil,applesauce..."
            ]
          },
          "metadata": {},
          "execution_count": 4
        }
      ]
    },
    {
      "cell_type": "code",
      "metadata": {
        "id": "FUzHxDSq_2Iy"
      },
      "source": [
        "directions_lengths = [ len(str) for str in recipes_df_small[\"Directions\"]]\n",
        "ingredients_lengths = [ len(str) for str in recipes_df_small['Ingredients']]"
      ],
      "execution_count": 5,
      "outputs": []
    },
    {
      "cell_type": "code",
      "metadata": {
        "colab": {
          "base_uri": "https://localhost:8080/",
          "height": 279
        },
        "id": "CIhXZtL2AY41",
        "outputId": "a5449a2c-037e-4c8e-9064-09130e66537b"
      },
      "source": [
        "plt.hist(directions_lengths)\n",
        "plt.xlabel(\"Nb. of chars\")\n",
        "plt.show()"
      ],
      "execution_count": 6,
      "outputs": [
        {
          "output_type": "display_data",
          "data": {
            "image/png": "[encoded data removed]",
            "text/plain": [
              "<Figure size 432x288 with 1 Axes>"
            ]
          },
          "metadata": {
            "needs_background": "light"
          }
        }
      ]
    },
    {
      "cell_type": "code",
      "metadata": {
        "colab": {
          "base_uri": "https://localhost:8080/",
          "height": 279
        },
        "id": "Ux9HOiKLAagc",
        "outputId": "34d9e9a3-4a55-4a5c-aa59-9ab67c6bc863"
      },
      "source": [
        "plt.hist(ingredients_lengths)\n",
        "plt.xlabel(\"Nb. of chars\")\n",
        "plt.show()"
      ],
      "execution_count": 7,
      "outputs": [
        {
          "output_type": "display_data",
          "data": {
            "image/png": "[encoded data removed]",
            "text/plain": [
              "<Figure size 432x288 with 1 Axes>"
            ]
          },
          "metadata": {
            "needs_background": "light"
          }
        }
      ]
    },
    {
      "cell_type": "code",
      "metadata": {
        "colab": {
          "base_uri": "https://localhost:8080/"
        },
        "id": "XY25D1kJA3_8",
        "outputId": "9899b62a-a942-43ce-b7cc-37150f02994b"
      },
      "source": [
        "special_chrs = [chr for chr in set(''.join(recipes_df_small[\"Directions\"])) if not chr.isalnum()]\n",
        "special_chrs.extend([chr for chr in set(''.join(recipes_df_small[\"Ingredients\"])) if not chr.isalnum()])\n",
        "special_chrs = list(set(special_chrs))\n",
        "print(special_chrs)"
      ],
      "execution_count": 8,
      "outputs": [
        {
          "output_type": "stream",
          "name": "stdout",
          "text": [
            "[',', '#', \"'\", '-', '<', '*', ')', '\\x99', '+', '{', '®', '\"', '/', '?', ' ', '(', '>', '=', '.', ':', '%', '}', '!', '&']\n"
          ]
        }
      ]
    },
    {
      "cell_type": "code",
      "metadata": {
        "colab": {
          "base_uri": "https://localhost:8080/",
          "height": 227
        },
        "id": "EySs7dD5BCT9",
        "outputId": "5201e757-d52e-4d68-94b7-db6f82126210"
      },
      "source": [
        "# for index, row in recipes_df_small.iterrows():\n",
        "#   print(index)\n",
        "#   _dirs = unicodedata.normalize('NFKD', row[\"Directions\"]).encode('ascii', 'ignore').decode(\"utf-8\")\n",
        "#   _ingreds = unicodedata.normalize('NFKD', row[\"Ingredients\"]).encode('ascii', 'ignore').decode(\"utf-8\")\n",
        "  \n",
        "#   for sp_chr in special_chrs: \n",
        "#     _dirs = _dirs.replace(sp_chr, \" \")\n",
        "#     if sp_chr != \",\":\n",
        "#       _ingreds = _ingreds.replace(sp_chr, \" \")\n",
        "#   print(' '.join(_dirs.split()))\n",
        "#   print(' '.join(_ingreds.split()))\n",
        "#   break\n",
        "\n",
        "# unicodedata.normalize('NFKD', recipes_df_small[\"Ingredients\"][1]).encode('ascii', 'ignore').decode(\"utf-8\").split(\",\")\n",
        "\n",
        "\n",
        "def preprocess_dirs(text):\n",
        "  _dirs = unicodedata.normalize('NFKD', text).encode('ascii', 'ignore').decode(\"utf-8\")\n",
        "  for sp_chr in special_chrs: \n",
        "    _dirs = _dirs.replace(sp_chr, \" \")\n",
        "  _dirs = re.sub('\\d', '', _dirs)\n",
        "  return ' '.join(_dirs.split())\n",
        "\n",
        "def preprocess_ingred(text):\n",
        "  _ingreds = unicodedata.normalize('NFKD', text).encode('ascii', 'ignore').decode(\"utf-8\")\n",
        "  for sp_chr in special_chrs: \n",
        "    if sp_chr != \",\":\n",
        "      _ingreds = _ingreds.replace(sp_chr, \" \")\n",
        "  _ingreds = re.sub('\\d', '', _ingreds)\n",
        "  return ' '.join(_ingreds.split())\n",
        "\n",
        "recipes_df_small[\"lo_directions\"] = recipes_df_small[\"Directions\"].str.lower()\n",
        "recipes_df_small[\"lo_ingredients\"] = recipes_df_small[\"Ingredients\"].str.lower()\n",
        "\n",
        "recipes_df_small[\"norm_directions\"] = recipes_df_small[\"lo_directions\"].apply(preprocess_dirs)\n",
        "recipes_df_small[\"norm_ingredients\"] = recipes_df_small[\"lo_ingredients\"].apply(preprocess_ingred)\n",
        "\n",
        "recipes_df_small.head(3)"
      ],
      "execution_count": 9,
      "outputs": [
        {
          "output_type": "execute_result",
          "data": {
            "text/html": [
              "<div>\n",
              "<style scoped>\n",
              "    .dataframe tbody tr th:only-of-type {\n",
              "        vertical-align: middle;\n",
              "    }\n",
              "\n",
              "    .dataframe tbody tr th {\n",
              "        vertical-align: top;\n",
              "    }\n",
              "\n",
              "    .dataframe thead th {\n",
              "        text-align: right;\n",
              "    }\n",
              "</style>\n",
              "<table border=\"1\" class=\"dataframe\">\n",
              "  <thead>\n",
              "    <tr style=\"text-align: right;\">\n",
              "      <th></th>\n",
              "      <th>Directions</th>\n",
              "      <th>Ingredients</th>\n",
              "      <th>lo_directions</th>\n",
              "      <th>lo_ingredients</th>\n",
              "      <th>norm_directions</th>\n",
              "      <th>norm_ingredients</th>\n",
              "    </tr>\n",
              "  </thead>\n",
              "  <tbody>\n",
              "    <tr>\n",
              "      <th>0</th>\n",
              "      <td>Dissolve yeast in warm water.**Stir in sugar, ...</td>\n",
              "      <td>yeast,water,white sugar,salt,egg,butter,flour,...</td>\n",
              "      <td>dissolve yeast in warm water.**stir in sugar, ...</td>\n",
              "      <td>yeast,water,white sugar,salt,egg,butter,flour,...</td>\n",
              "      <td>dissolve yeast in warm water stir in sugar sal...</td>\n",
              "      <td>yeast,water,white sugar,salt,egg,butter,flour,...</td>\n",
              "    </tr>\n",
              "    <tr>\n",
              "      <th>1</th>\n",
              "      <td>'Preheat oven to 350 degrees F (175 degrees C)...</td>\n",
              "      <td>flour,salt,baking powder,poppy,butter,vegetabl...</td>\n",
              "      <td>'preheat oven to 350 degrees f (175 degrees c)...</td>\n",
              "      <td>flour,salt,baking powder,poppy,butter,vegetabl...</td>\n",
              "      <td>preheat oven to degrees f degrees c grease bot...</td>\n",
              "      <td>flour,salt,baking powder,poppy,butter,vegetabl...</td>\n",
              "    </tr>\n",
              "    <tr>\n",
              "      <th>2</th>\n",
              "      <td>Preheat oven to 350 degrees F (175 degrees C)....</td>\n",
              "      <td>flour,egg,white sugar,vegetable oil,applesauce...</td>\n",
              "      <td>preheat oven to 350 degrees f (175 degrees c)....</td>\n",
              "      <td>flour,egg,white sugar,vegetable oil,applesauce...</td>\n",
              "      <td>preheat oven to degrees f degrees c grease and...</td>\n",
              "      <td>flour,egg,white sugar,vegetable oil,applesauce...</td>\n",
              "    </tr>\n",
              "  </tbody>\n",
              "</table>\n",
              "</div>"
            ],
            "text/plain": [
              "                                          Directions  ...                                   norm_ingredients\n",
              "0  Dissolve yeast in warm water.**Stir in sugar, ...  ...  yeast,water,white sugar,salt,egg,butter,flour,...\n",
              "1  'Preheat oven to 350 degrees F (175 degrees C)...  ...  flour,salt,baking powder,poppy,butter,vegetabl...\n",
              "2  Preheat oven to 350 degrees F (175 degrees C)....  ...  flour,egg,white sugar,vegetable oil,applesauce...\n",
              "\n",
              "[3 rows x 6 columns]"
            ]
          },
          "metadata": {},
          "execution_count": 9
        }
      ]
    },
    {
      "cell_type": "code",
      "metadata": {
        "colab": {
          "base_uri": "https://localhost:8080/"
        },
        "id": "4OODo_u9BCOX",
        "outputId": "114c91fe-6cbe-473b-99cb-ede040404dda"
      },
      "source": [
        "words_lo_dirs = set()\n",
        "words_norm_dirs = set()\n",
        "sentence_sz_lo_dirs = []\n",
        "sentence_sz_norm_dirs = []\n",
        "for _, row in recipes_df_small.iterrows():\n",
        "  words_lo_dirs.update(row[\"lo_directions\"].split())\n",
        "  sentence_sz_lo_dirs.append(len(row[\"lo_directions\"].split()))\n",
        "  words_norm_dirs.update(row['norm_directions'].split())\n",
        "  sentence_sz_norm_dirs.append(len(row[\"norm_directions\"].split()))\n",
        "print(\"lower directions: nb of distinct words :\", len(words_lo_dirs),\n",
        "      \"max sentece size:\", max(sentence_sz_lo_dirs))\n",
        "print(\"nb of distinct words norma:\", len(words_norm_dirs),\n",
        "      \"max sentece size:\", max(sentence_sz_norm_dirs))\n"
      ],
      "execution_count": 10,
      "outputs": [
        {
          "output_type": "stream",
          "name": "stdout",
          "text": [
            "lower directions: nb of distinct words : 20905 max sentece size: 546\n",
            "nb of distinct words norma: 5366 max sentece size: 524\n"
          ]
        }
      ]
    },
    {
      "cell_type": "code",
      "metadata": {
        "colab": {
          "base_uri": "https://localhost:8080/",
          "height": 280
        },
        "id": "-qBBpdnhNnvU",
        "outputId": "d2033c3d-04e1-4ff2-f147-253df063186c"
      },
      "source": [
        "plt.hist(sentence_sz_lo_dirs, bins=np.arange(0, 600, 25))\n",
        "plt.xticks(range(0, 600, 50))\n",
        "plt.xlabel(\"Nb. words/sentence for lo_directions\")\n",
        "plt.show()"
      ],
      "execution_count": 11,
      "outputs": [
        {
          "output_type": "display_data",
          "data": {
            "image/png": "[encoded data removed]",
            "text/plain": [
              "<Figure size 432x288 with 1 Axes>"
            ]
          },
          "metadata": {
            "needs_background": "light"
          }
        }
      ]
    },
    {
      "cell_type": "code",
      "metadata": {
        "colab": {
          "base_uri": "https://localhost:8080/",
          "height": 280
        },
        "id": "2uzn82GtN0iT",
        "outputId": "987ea473-198d-4093-8104-2a01b57a43ac"
      },
      "source": [
        "plt.hist(sentence_sz_norm_dirs, bins=np.arange(0, 600, 25))\n",
        "plt.xticks(range(0, 600, 50))\n",
        "plt.xlabel(\"Nb. words/sentence for norm_directions\")\n",
        "plt.show()"
      ],
      "execution_count": 12,
      "outputs": [
        {
          "output_type": "display_data",
          "data": {
            "image/png": "[encoded data removed]",
            "text/plain": [
              "<Figure size 432x288 with 1 Axes>"
            ]
          },
          "metadata": {
            "needs_background": "light"
          }
        }
      ]
    },
    {
      "cell_type": "markdown",
      "metadata": {
        "id": "R-I0Sd0o_By8"
      },
      "source": [
        "### Params"
      ]
    },
    {
      "cell_type": "code",
      "metadata": {
        "id": "_ZEu4mlAdtpj"
      },
      "source": [
        "params = {\n",
        "    'dim' : 300,            # dimension of embeddings\n",
        "    'maximum_steps' : 1000, # number of training steps        \n",
        "    'lstm_size' : 150,      # dimension of LSTM\n",
        "    'batch_size' : 25,      # batch size\n",
        "    'max_words' : 21000,  #/ 10000,    # maximum number of words to embed\n",
        "    'padding_size' : 150,    #20 maximum sentence size\n",
        "    'num_classes' : 5,     # number of unique classes\n",
        "    'save_dir' : 'drive/MyDrive/recipes/saved_model_tf/model4/' # directory to save hash tables, model weights, etc.\n",
        "}\n",
        "\n",
        "colname1, colname2 = 'norm_directions', 'norm_ingredients'"
      ],
      "execution_count": 13,
      "outputs": []
    },
    {
      "cell_type": "markdown",
      "metadata": {
        "id": "i8FIVPcxW9mB"
      },
      "source": [
        "### Helpers & tokenizer"
      ]
    },
    {
      "cell_type": "code",
      "metadata": {
        "id": "vxIYz1BWd1kZ"
      },
      "source": [
        "def save_obj(directory, obj, name):\n",
        "    '''Helper function using pickle to save and load objects'''\n",
        "    with open(directory + name + '.pkl', 'wb+') as f:\n",
        "        pickle.dump(obj, f, pickle.HIGHEST_PROTOCOL)\n",
        "\n",
        "def load_obj(directory, name):\n",
        "    '''Helper function using pickle to save and load objects'''\n",
        "    with open(directory + name + \".pkl\", \"rb\") as f:\n",
        "        return pickle.load(f)"
      ],
      "execution_count": 14,
      "outputs": []
    },
    {
      "cell_type": "code",
      "metadata": {
        "id": "KOjlHMPYz0tX"
      },
      "source": [
        "def make_tokenizer(df, colname1, colname2, params = params):\n",
        "    ''' In order for one hot encoding of words and labels to work, \n",
        "    every word and label has to be seen at least once to make a hashing table.\n",
        "    This function outputs hash tables for the words and the labels\n",
        "    that can be used to one-hot-encode them in the generator\n",
        "    '''\n",
        "    # Load parameters and data\n",
        "    max_words = params['max_words']\n",
        "    save_dir = params['save_dir']\n",
        "    data_x = []\n",
        "    for _, line in df.iterrows():\n",
        "        data_x.append(line[colname1])\n",
        "            \n",
        "    # Use the Keras tokenizer API to generate hashing table for data_x\n",
        "    sp_chr = set(special_chrs)\n",
        "    sp_chr.update('!\"#$%&()*+,./:;<=>?@[\\\\]^_`{|}~\\t\\n')\n",
        "    filter = ''.join(list(sp_chr)).replace(\"-\", \"\").replace(\" \", \"\")\n",
        "    tokenizer = Tokenizer(num_words = max_words, filters=filter)\n",
        "    tokenizer.fit_on_texts(data_x)\n",
        "    word_index = tokenizer.word_index\n",
        "    # print(len(word_index))\n",
        "    # print(word_index)\n",
        "    word_index[\"ENDPAD\"] = len(word_index)+1 \n",
        "    word_lookup= [''] * (len(word_index)+1)\n",
        "    for key, val in word_index.items():\n",
        "      word_lookup[val]=key\n",
        "    \n",
        "    # labels_index = dict([(y, x + 1) for x, y in enumerate(sorted(set(data_y_flattened)))])\n",
        "    labels_index = {'O':0, 'S-INGREDIENT':1, 'B-INGREDIENT':2, 'I-INGREDIENT':3, 'E-INGREDIENT':4}\n",
        "    labels_lookup = {0:'O', 1:'S-INGREDIENT', 2:'B-INGREDIENT', 3:'I-INGREDIENT', 4:'E-INGREDIENT'}\n",
        "    \n",
        "    for item, name in zip([word_index, labels_index, labels_lookup, word_lookup, tokenizer, sp_chr],\n",
        "                          [\"word_index\", \"labels_index\", \"labels_lookup\", \"word_lookup\", \"tokenizer\", \"sp_chr\"]):\n",
        "        save_obj(save_dir, item, name)\n",
        "    return word_index, word_lookup, labels_index, labels_lookup, tokenizer, sp_chr"
      ],
      "execution_count": 19,
      "outputs": []
    },
    {
      "cell_type": "code",
      "metadata": {
        "id": "PqwTW_403_nl"
      },
      "source": [
        "word_index, word_lookup, labels_index, labels_lookup, tokenizer, sp_chr = \\\n",
        "  make_tokenizer(recipes_df_small[[colname1, colname2]],\n",
        "                 colname1, colname2)"
      ],
      "execution_count": 21,
      "outputs": []
    },
    {
      "cell_type": "code",
      "metadata": {
        "colab": {
          "base_uri": "https://localhost:8080/"
        },
        "id": "OWB3nNQgUiD6",
        "outputId": "7268af92-959c-488f-ecc2-943de4ff187c"
      },
      "source": [
        "print(labels_lookup)\n",
        "print(labels_index)\n",
        "print(len(word_index))\n",
        "print(len(word_lookup))\n",
        "word_index['ENDPAD']"
      ],
      "execution_count": 23,
      "outputs": [
        {
          "output_type": "stream",
          "name": "stdout",
          "text": [
            "{0: 'O', 1: 'S-INGREDIENT', 2: 'B-INGREDIENT', 3: 'I-INGREDIENT', 4: 'E-INGREDIENT'}\n",
            "{'O': 0, 'S-INGREDIENT': 1, 'B-INGREDIENT': 2, 'I-INGREDIENT': 3, 'E-INGREDIENT': 4}\n",
            "5367\n",
            "5368\n"
          ]
        },
        {
          "output_type": "execute_result",
          "data": {
            "text/plain": [
              "5367"
            ]
          },
          "metadata": {},
          "execution_count": 23
        }
      ]
    },
    {
      "cell_type": "markdown",
      "metadata": {
        "id": "obKUa4Vig0Ps"
      },
      "source": [
        "### Data split"
      ]
    },
    {
      "cell_type": "code",
      "metadata": {
        "id": "4eG0ZAmig2hy"
      },
      "source": [
        "X, y = [], []\n",
        "for index, line in recipes_df_small[[colname1, colname2]].iterrows():\n",
        "  _descr = line[colname1]\n",
        "  _ingreds = re.split(',\\s*', line[colname2])\n",
        "  for ingred in _ingreds:\n",
        "    replc = \"S-INGREDIENT\"\n",
        "    parts = ingred.split(\" \")\n",
        "    if len(parts)==1: replc = \"S-INGREDIENT\"\n",
        "    elif len(parts)==2: replc = \"B-INGREDIENT E-INGREDIENT\"\n",
        "    else: \n",
        "      replc = \"B-INGREDIENT \" +\" \".join([\"I-INGREDIENT\"]*(len(parts)-2)) +\" E-INGREDIENT\"\n",
        "    \n",
        "    if ingred in _descr:\n",
        "      _descr = _descr.replace(ingred, replc)\n",
        "    # elif len(parts)>1:\n",
        "    #   init_len = len(parts)\n",
        "    #   for sz in range(init_len-1, 0,-1):\n",
        "    #     for part_ingred in \n",
        "  _descr = _descr.split()\n",
        "  _labels = [ w if w in labels_index.keys() else \"O\" for w in _descr]\n",
        "  \n",
        "\n",
        "  # _labels = [ \"INGREDIENT\" if word in _ingred else \"O\" for word in _descr]\n",
        "  \n",
        "  words = [word_index.get(x) if x in word_index.keys() else 0 \n",
        "            for x in line[colname1].split()]\n",
        "  labels = [labels_index.get(y) for y in _labels]\n",
        "\n",
        "  X.append(words)\n",
        "  y.append(labels)\n",
        "\n",
        "# print(X[1])\n",
        "# print(y[1])\n",
        "\n",
        "X = pad_sequences(X, maxlen = params['padding_size'], value = word_index[\"ENDPAD\"], padding = \"post\")\n",
        "y = pad_sequences(y, maxlen = params['padding_size'], value = labels_index[\"O\"], padding = \"post\")\n",
        "y_cat = [to_categorical(i, num_classes = params['num_classes']) for i in y]\n",
        "\n",
        "# print(X[1])\n",
        "# print(y[1])\n",
        "# print(y_cat[1])\n",
        "\n",
        "X_train, X_test, y_train, y_test = train_test_split(X,y_cat, train_size=0.9, random_state= 11 )\n",
        "\n",
        "# X = recipes_df_small[colname1].copy()\n",
        "# y = recipes_df_small[colname2].copy()\n",
        "# X_train, X_rem, y_train, y_rem = train_test_split(X,y, train_size=0.8, random_state= 11 )\n",
        "# X_valid, X_test, y_valid, y_test = train_test_split(X_rem,y_rem, test_size=0.5, random_state=11)"
      ],
      "execution_count": 25,
      "outputs": []
    },
    {
      "cell_type": "code",
      "metadata": {
        "colab": {
          "base_uri": "https://localhost:8080/"
        },
        "id": "XpgOWSrAjgyi",
        "outputId": "70f1cd4f-da41-4389-c535-5c4f3abab99e"
      },
      "source": [
        "print(\"Train: \", X_train.shape, len(y_train))\n",
        "# print(\"Val:\", X_valid.shape, y_valid.shape)\n",
        "print(\"Test:\", X_test.shape, len(y_test))"
      ],
      "execution_count": 26,
      "outputs": [
        {
          "output_type": "stream",
          "name": "stdout",
          "text": [
            "Train:  (11110, 150) 11110\n",
            "Test: (1235, 150) 1235\n"
          ]
        }
      ]
    },
    {
      "cell_type": "markdown",
      "metadata": {
        "id": "bhNm2_5MXC7O"
      },
      "source": [
        "### Helpers & model"
      ]
    },
    {
      "cell_type": "code",
      "metadata": {
        "colab": {
          "base_uri": "https://localhost:8080/",
          "height": 103
        },
        "id": "mDCBtUbUkLmJ",
        "outputId": "39049c9d-8fe9-4f21-b46c-9a824cfa225c"
      },
      "source": [
        "print(tf.__version__)\n",
        "'''\n",
        "params = {\n",
        "    'dim' : 300,            # dimension of embeddings\n",
        "    'maximum_steps' : 1000, # number of training steps        \n",
        "    'lstm_size' : 150,      # dimension of LSTM\n",
        "    'batch_size' : 25,      # batch size\n",
        "    'max_words' : 21000,  #/ 10000,    # maximum number of words to embed\n",
        "    'padding_size' : 150,    #20 maximum sentence size\n",
        "    'num_classes' : 2,     # number of unique classes\n",
        "    'save_dir' : 'drive/MyDrive/recipes/saved_model_tf/model3/' # directory to save hash tables, model weights, etc.\n",
        "}\n",
        "\n",
        "colname1, colname2 = 'lo_directions', 'lo_ingredients'\n",
        "'''"
      ],
      "execution_count": 62,
      "outputs": [
        {
          "output_type": "stream",
          "name": "stdout",
          "text": [
            "2.6.0\n"
          ]
        },
        {
          "output_type": "execute_result",
          "data": {
            "application/vnd.google.colaboratory.intrinsic+json": {
              "type": "string"
            },
            "text/plain": [
              "\"\\nparams = {\\n    'dim' : 300,            # dimension of embeddings\\n    'maximum_steps' : 1000, # number of training steps        \\n    'lstm_size' : 150,      # dimension of LSTM\\n    'batch_size' : 25,      # batch size\\n    'max_words' : 21000,  #/ 10000,    # maximum number of words to embed\\n    'padding_size' : 150,    #20 maximum sentence size\\n    'num_classes' : 2,     # number of unique classes\\n    'save_dir' : 'drive/MyDrive/recipes/saved_model_tf/model3/' # directory to save hash tables, model weights, etc.\\n}\\n\\ncolname1, colname2 = 'lo_directions', 'lo_ingredients'\\n\""
            ]
          },
          "metadata": {},
          "execution_count": 62
        }
      ]
    },
    {
      "cell_type": "code",
      "metadata": {
        "id": "oHxoVii416ty"
      },
      "source": [
        "max_len = params['padding_size']\n",
        "num_words = len(word_index) + 1\n",
        "num_units = params['lstm_size']\n",
        "num_tags = params['num_classes']"
      ],
      "execution_count": 27,
      "outputs": []
    },
    {
      "cell_type": "code",
      "metadata": {
        "colab": {
          "base_uri": "https://localhost:8080/"
        },
        "id": "4-vW3DnZ1eCp",
        "outputId": "d6ba5ee5-1388-4e6f-9bf5-b8cce7e9cb57"
      },
      "source": [
        "input_word = Input(shape=(150,))\n",
        "model = Embedding(input_dim= num_words, \n",
        "                  output_dim=max_len, \n",
        "                  input_length=max_len)(input_word)\n",
        "model = SpatialDropout1D(0.1)(model) # drops entire 1D feature map accross all the channels\n",
        "model = Bidirectional(LSTM(units=num_units, \n",
        "                           return_sequences=True, \n",
        "                           recurrent_dropout=0.1))(model)\n",
        "out = TimeDistributed(Dense(num_tags, activation='softmax'))(model) # apply the Dense layer to every temporial slice of the input\n",
        "model = Model(input_word, out)\n",
        "model.summary()"
      ],
      "execution_count": 28,
      "outputs": [
        {
          "output_type": "stream",
          "name": "stdout",
          "text": [
            "Model: \"model\"\n",
            "_________________________________________________________________\n",
            "Layer (type)                 Output Shape              Param #   \n",
            "=================================================================\n",
            "input_1 (InputLayer)         [(None, 150)]             0         \n",
            "_________________________________________________________________\n",
            "embedding (Embedding)        (None, 150, 150)          805200    \n",
            "_________________________________________________________________\n",
            "spatial_dropout1d (SpatialDr (None, 150, 150)          0         \n",
            "_________________________________________________________________\n",
            "bidirectional (Bidirectional (None, 150, 300)          361200    \n",
            "_________________________________________________________________\n",
            "time_distributed (TimeDistri (None, 150, 5)            1505      \n",
            "=================================================================\n",
            "Total params: 1,167,905\n",
            "Trainable params: 1,167,905\n",
            "Non-trainable params: 0\n",
            "_________________________________________________________________\n"
          ]
        }
      ]
    },
    {
      "cell_type": "code",
      "metadata": {
        "id": "qH36MXFT2pUX"
      },
      "source": [
        "model.compile(optimizer ='adam', \n",
        "             loss='categorical_crossentropy',\n",
        "             metrics = ['accuracy'])"
      ],
      "execution_count": 29,
      "outputs": []
    },
    {
      "cell_type": "code",
      "metadata": {
        "colab": {
          "base_uri": "https://localhost:8080/",
          "height": 687
        },
        "id": "l8RGXMRD3Kwy",
        "outputId": "1307a8c9-1c62-4f4b-81f7-e3c82f56049a"
      },
      "source": [
        "early_stopping = EarlyStopping(monitor='val_accuracy', patience=1, \n",
        "                               verbose=0, mode='max', restore_best_weights=False)\n",
        "callbacks = [PlotLossesCallback(), early_stopping ]\n",
        "history = model.fit(\n",
        "    X_train, np.array(y_train), \n",
        "    # validation_data=(X_test, np.array(y_test)),\n",
        "    validation_split =0.3 ,\n",
        "    batch_size = 16, \n",
        "    epochs= 3,\n",
        "    verbose = 1,\n",
        "    callbacks=callbacks\n",
        ")"
      ],
      "execution_count": 30,
      "outputs": [
        {
          "output_type": "display_data",
          "data": {
            "image/png": "[encoded data removed]",
            "text/plain": [
              "<Figure size 864x576 with 2 Axes>"
            ]
          },
          "metadata": {
            "needs_background": "light"
          }
        },
        {
          "output_type": "stream",
          "name": "stdout",
          "text": [
            "accuracy\n",
            "\ttraining         \t (min:    0.974, max:    0.991, cur:    0.991)\n",
            "\tvalidation       \t (min:    0.988, max:    0.991, cur:    0.991)\n",
            "Loss\n",
            "\ttraining         \t (min:    0.023, max:    0.094, cur:    0.023)\n",
            "\tvalidation       \t (min:    0.023, max:    0.030, cur:    0.023)\n"
          ]
        }
      ]
    },
    {
      "cell_type": "code",
      "metadata": {
        "colab": {
          "base_uri": "https://localhost:8080/"
        },
        "id": "ZibcwF2N_f8O",
        "outputId": "9308d04d-f674-4b9c-b0d2-3a03afa9c5a8"
      },
      "source": [
        "model.save(params['save_dir'])\n",
        "# tf.saved_model.save(model, params['save_dir'])"
      ],
      "execution_count": 48,
      "outputs": [
        {
          "output_type": "stream",
          "name": "stdout",
          "text": [
            "INFO:tensorflow:Assets written to: drive/MyDrive/recipes/saved_model_tf/model4/assets\n"
          ]
        }
      ]
    },
    {
      "cell_type": "markdown",
      "metadata": {
        "id": "HAU1EQXD_qKa"
      },
      "source": [
        "Evaluate"
      ]
    },
    {
      "cell_type": "code",
      "metadata": {
        "colab": {
          "base_uri": "https://localhost:8080/"
        },
        "id": "8R7iAST1_pnp",
        "outputId": "2711f64f-5f38-4b73-cd4d-7aa0452f8d6a"
      },
      "source": [
        "metrics = model.evaluate(X_test, np.array(y_test))\n",
        "print(metrics)"
      ],
      "execution_count": 38,
      "outputs": [
        {
          "output_type": "stream",
          "name": "stdout",
          "text": [
            "39/39 [==============================] - 6s 152ms/step - loss: 0.0240 - accuracy: 0.9909\n",
            "[0.023968150839209557, 0.9909257888793945]\n"
          ]
        }
      ]
    },
    {
      "cell_type": "code",
      "metadata": {
        "colab": {
          "base_uri": "https://localhost:8080/"
        },
        "id": "H5ZTsvBHJGJz",
        "outputId": "d4405bdd-3757-4d45-ac7d-f0c7be89bfde"
      },
      "source": [
        "i"
      ],
      "execution_count": 37,
      "outputs": [
        {
          "output_type": "execute_result",
          "data": {
            "text/plain": [
              "268"
            ]
          },
          "metadata": {},
          "execution_count": 37
        }
      ]
    },
    {
      "cell_type": "code",
      "metadata": {
        "colab": {
          "base_uri": "https://localhost:8080/"
        },
        "id": "9clElMW9_4Xr",
        "outputId": "a479336c-a06e-4ebc-ad64-2aa9ed1f3c6c"
      },
      "source": [
        "i = np.random.randint(0, X_test.shape[0])\n",
        "p = model.predict(np.array([X_test[i]]))\n",
        "p = np.argmax(p, axis=-1)\n",
        "\n",
        "y_true = np.argmax(np.array(y_test), axis=-1)[i]\n",
        "print(\"{:15}{:9}\\t {}\\n\".format(\"Recipe word\", \"True\", \"Pred\"))\n",
        "print(\"-\"*50)\n",
        "\n",
        "# print(X_test[i])\n",
        "# print(y_true)\n",
        "# print(p[0])\n",
        "for w, true, pred in zip(X_test[i], y_true, p[0]):\n",
        "    # print(words[w], labels_lookup[true], labels_lookup[pred])\n",
        "    print(\"{:15}{:9}\\t {}\".format(word_lookup[w], labels_lookup[true], labels_lookup[pred]))"
      ],
      "execution_count": 36,
      "outputs": [
        {
          "output_type": "stream",
          "name": "stdout",
          "text": [
            "Recipe word    True     \t Pred\n",
            "\n",
            "--------------------------------------------------\n",
            "sprinkle       O        \t O\n",
            "gelatin        S-INGREDIENT\t O\n",
            "over           O        \t O\n",
            "cold           O        \t O\n",
            "water          S-INGREDIENT\t S-INGREDIENT\n",
            "and            O        \t O\n",
            "set            O        \t O\n",
            "aside          O        \t O\n",
            "to             O        \t O\n",
            "soften         O        \t O\n",
            "whisk          O        \t O\n",
            "together       O        \t O\n",
            "cup            O        \t O\n",
            "plus           O        \t O\n",
            "tablespoon     O        \t O\n",
            "sugar          O        \t O\n",
            "and            O        \t O\n",
            "cornstarch     S-INGREDIENT\t S-INGREDIENT\n",
            "in             O        \t O\n",
            "a              O        \t O\n",
            "small          O        \t O\n",
            "bowl           O        \t O\n",
            "whisk          O        \t O\n",
            "in             O        \t O\n",
            "the            O        \t O\n",
            "eggs           O        \t O\n",
            "and            O        \t O\n",
            "add            O        \t O\n",
            "the            O        \t O\n",
            "milk           S-INGREDIENT\t S-INGREDIENT\n",
            "cook           O        \t O\n",
            "in             O        \t O\n",
            "double         O        \t O\n",
            "boiler         O        \t O\n",
            "over           O        \t O\n",
            "simmering      O        \t O\n",
            "water          S-INGREDIENT\t O\n",
            "until          O        \t O\n",
            "custard        O        \t O\n",
            "thickens       O        \t O\n",
            "and            O        \t O\n",
            "coats          O        \t O\n",
            "the            O        \t O\n",
            "back           O        \t O\n",
            "of             O        \t O\n",
            "a              O        \t O\n",
            "spoon          O        \t O\n",
            "remove         O        \t O\n",
            "from           O        \t O\n",
            "heat           O        \t O\n",
            "stir           O        \t O\n",
            "in             O        \t O\n",
            "gelatin        S-INGREDIENT\t O\n",
            "until          O        \t O\n",
            "the            O        \t O\n",
            "gelatin        S-INGREDIENT\t O\n",
            "melts          O        \t O\n",
            "add            O        \t O\n",
            "ice            B-INGREDIENT\t B-INGREDIENT\n",
            "cream          E-INGREDIENT\t E-INGREDIENT\n",
            "while          O        \t O\n",
            "custard        O        \t O\n",
            "is             O        \t O\n",
            "hot            O        \t O\n",
            "cool           O        \t O\n",
            "slightly       O        \t O\n",
            "and            O        \t O\n",
            "stir           O        \t O\n",
            "in             O        \t O\n",
            "vanilla        S-INGREDIENT\t S-INGREDIENT\n",
            "when           O        \t O\n",
            "the            O        \t O\n",
            "custard        O        \t O\n",
            "is             O        \t O\n",
            "room           O        \t O\n",
            "temperature    O        \t O\n",
            "whip           O        \t O\n",
            "the            O        \t O\n",
            "cream          S-INGREDIENT\t O\n",
            "until          O        \t O\n",
            "medium         O        \t O\n",
            "stiff          O        \t O\n",
            "peaks          O        \t O\n",
            "form           O        \t O\n",
            "fold           O        \t O\n",
            "whipped        O        \t O\n",
            "cream          S-INGREDIENT\t S-INGREDIENT\n",
            "into           O        \t O\n",
            "the            O        \t O\n",
            "custard        O        \t O\n",
            "pour           O        \t O\n",
            "filling        O        \t O\n",
            "into           O        \t O\n",
            "pie            O        \t O\n",
            "crust          O        \t O\n",
            "and            O        \t O\n",
            "refrigerate    O        \t O\n",
            "for            O        \t O\n",
            "several        O        \t O\n",
            "hours          O        \t O\n",
            "or             O        \t O\n",
            "overnight      O        \t O\n",
            "until          O        \t O\n",
            "set            O        \t O\n",
            "ENDPAD         O        \t O\n",
            "ENDPAD         O        \t O\n",
            "ENDPAD         O        \t O\n",
            "ENDPAD         O        \t O\n",
            "ENDPAD         O        \t O\n",
            "ENDPAD         O        \t O\n",
            "ENDPAD         O        \t O\n",
            "ENDPAD         O        \t O\n",
            "ENDPAD         O        \t O\n",
            "ENDPAD         O        \t O\n",
            "ENDPAD         O        \t O\n",
            "ENDPAD         O        \t O\n",
            "ENDPAD         O        \t O\n",
            "ENDPAD         O        \t O\n",
            "ENDPAD         O        \t O\n",
            "ENDPAD         O        \t O\n",
            "ENDPAD         O        \t O\n",
            "ENDPAD         O        \t O\n",
            "ENDPAD         O        \t O\n",
            "ENDPAD         O        \t O\n",
            "ENDPAD         O        \t O\n",
            "ENDPAD         O        \t O\n",
            "ENDPAD         O        \t O\n",
            "ENDPAD         O        \t O\n",
            "ENDPAD         O        \t O\n",
            "ENDPAD         O        \t O\n",
            "ENDPAD         O        \t O\n",
            "ENDPAD         O        \t O\n",
            "ENDPAD         O        \t O\n",
            "ENDPAD         O        \t O\n",
            "ENDPAD         O        \t O\n",
            "ENDPAD         O        \t O\n",
            "ENDPAD         O        \t O\n",
            "ENDPAD         O        \t O\n",
            "ENDPAD         O        \t O\n",
            "ENDPAD         O        \t O\n",
            "ENDPAD         O        \t O\n",
            "ENDPAD         O        \t O\n",
            "ENDPAD         O        \t O\n",
            "ENDPAD         O        \t O\n",
            "ENDPAD         O        \t O\n",
            "ENDPAD         O        \t O\n",
            "ENDPAD         O        \t O\n",
            "ENDPAD         O        \t O\n",
            "ENDPAD         O        \t O\n",
            "ENDPAD         O        \t O\n"
          ]
        }
      ]
    },
    {
      "cell_type": "markdown",
      "metadata": {
        "id": "N4Nmxr0F_sHl"
      },
      "source": [
        "Inference"
      ]
    },
    {
      "cell_type": "code",
      "metadata": {
        "colab": {
          "base_uri": "https://localhost:8080/"
        },
        "id": "0RvHTUU-_uak",
        "outputId": "9b75df8e-92d1-4e1d-ca2f-b2ab89ed7f2d"
      },
      "source": [
        "reconstructed_model = load_model(params['save_dir'])\n",
        "reconstructed_model.summary()\n",
        "\n",
        "# reconstructed_model = tf.saved_model.load(params['save_dir'])"
      ],
      "execution_count": 49,
      "outputs": [
        {
          "output_type": "stream",
          "name": "stdout",
          "text": [
            "Model: \"model\"\n",
            "_________________________________________________________________\n",
            "Layer (type)                 Output Shape              Param #   \n",
            "=================================================================\n",
            "input_1 (InputLayer)         [(None, 150)]             0         \n",
            "_________________________________________________________________\n",
            "embedding (Embedding)        (None, 150, 150)          805200    \n",
            "_________________________________________________________________\n",
            "spatial_dropout1d (SpatialDr (None, 150, 150)          0         \n",
            "_________________________________________________________________\n",
            "bidirectional (Bidirectional (None, 150, 300)          361200    \n",
            "_________________________________________________________________\n",
            "time_distributed (TimeDistri (None, 150, 5)            1505      \n",
            "=================================================================\n",
            "Total params: 1,167,905\n",
            "Trainable params: 1,167,905\n",
            "Non-trainable params: 0\n",
            "_________________________________________________________________\n"
          ]
        }
      ]
    },
    {
      "cell_type": "code",
      "metadata": {
        "colab": {
          "base_uri": "https://localhost:8080/"
        },
        "id": "S6tOIxlPE1bv",
        "outputId": "c43ba546-5798-4aa4-9450-74fd05ccfaba"
      },
      "source": [
        "i = np.random.randint(0, X_test.shape[0])\n",
        "p = reconstructed_model(np.array([X_test[i]]))\n",
        "# model.predict(np.array(X_test[i: i+2]))\n",
        "p = np.argmax(p, axis=-1)\n",
        "\n",
        "y_true = np.argmax(np.array(y_test), axis=-1)[i]\n",
        "print(\"{:15}{:9}\\t {}\\n\".format(\"Recipe word\", \"True\", \"Pred\"))\n",
        "print(\"-\"*50)\n",
        "\n",
        "# print(X_test[i])\n",
        "# print(y_true)\n",
        "# print(p[0])\n",
        "for w, true, pred in zip(X_test[i], y_true, p[0]):\n",
        "    # print(words[w], labels_lookup[true], labels_lookup[pred])\n",
        "    print(\"{:15}{:9}\\t {}\".format(word_lookup[w], labels_lookup[true], labels_lookup[pred]))"
      ],
      "execution_count": 51,
      "outputs": [
        {
          "output_type": "stream",
          "name": "stdout",
          "text": [
            "Recipe word    True     \t Pred\n",
            "\n",
            "--------------------------------------------------\n",
            "melt           O        \t O\n",
            "chocolate      S-INGREDIENT\t S-INGREDIENT\n",
            "in             O        \t O\n",
            "double         O        \t O\n",
            "boiler         O        \t O\n",
            "beat           O        \t O\n",
            "shortening     S-INGREDIENT\t S-INGREDIENT\n",
            "with           O        \t O\n",
            "sugar          O        \t O\n",
            "add            O        \t O\n",
            "eggs           O        \t O\n",
            "salt           S-INGREDIENT\t S-INGREDIENT\n",
            "baking         B-INGREDIENT\t B-INGREDIENT\n",
            "soda           E-INGREDIENT\t E-INGREDIENT\n",
            "cinnamon       S-INGREDIENT\t S-INGREDIENT\n",
            "cloves         O        \t O\n",
            "and            O        \t O\n",
            "melted         O        \t O\n",
            "chocolate      S-INGREDIENT\t S-INGREDIENT\n",
            "add            O        \t O\n",
            "flour          S-INGREDIENT\t S-INGREDIENT\n",
            "alternately    O        \t O\n",
            "with           O        \t O\n",
            "milk           S-INGREDIENT\t S-INGREDIENT\n",
            "beating        O        \t O\n",
            "first          O        \t O\n",
            "with           O        \t O\n",
            "electric       O        \t O\n",
            "mixer          O        \t O\n",
            "then           O        \t O\n",
            "with           O        \t O\n",
            "spoon          O        \t O\n",
            "cover          O        \t O\n",
            "and            O        \t O\n",
            "chill          O        \t O\n",
            "dough          O        \t O\n",
            "hours          O        \t O\n",
            "or             O        \t O\n",
            "more           O        \t O\n",
            "drop           O        \t O\n",
            "by             O        \t O\n",
            "teaspoonfuls   O        \t O\n",
            "onto           O        \t O\n",
            "lightly        O        \t O\n",
            "greased        O        \t O\n",
            "cookie         O        \t O\n",
            "sheet          O        \t O\n",
            "bake           O        \t O\n",
            "at             O        \t O\n",
            "degrees        O        \t O\n",
            "f              O        \t O\n",
            "degrees        O        \t O\n",
            "c              O        \t O\n",
            "for            O        \t O\n",
            "minutes        O        \t O\n",
            "or             O        \t O\n",
            "until          O        \t O\n",
            "cookies        O        \t O\n",
            "have           O        \t O\n",
            "lightly        O        \t O\n",
            "browned        O        \t O\n",
            "around         O        \t O\n",
            "edges          O        \t O\n",
            "cool           O        \t O\n",
            "and            O        \t O\n",
            "store          O        \t O\n",
            "in             O        \t O\n",
            "tightly        O        \t O\n",
            "covered        O        \t O\n",
            "jar            O        \t O\n",
            "ENDPAD         O        \t O\n",
            "ENDPAD         O        \t O\n",
            "ENDPAD         O        \t O\n",
            "ENDPAD         O        \t O\n",
            "ENDPAD         O        \t O\n",
            "ENDPAD         O        \t O\n",
            "ENDPAD         O        \t O\n",
            "ENDPAD         O        \t O\n",
            "ENDPAD         O        \t O\n",
            "ENDPAD         O        \t O\n",
            "ENDPAD         O        \t O\n",
            "ENDPAD         O        \t O\n",
            "ENDPAD         O        \t O\n",
            "ENDPAD         O        \t O\n",
            "ENDPAD         O        \t O\n",
            "ENDPAD         O        \t O\n",
            "ENDPAD         O        \t O\n",
            "ENDPAD         O        \t O\n",
            "ENDPAD         O        \t O\n",
            "ENDPAD         O        \t O\n",
            "ENDPAD         O        \t O\n",
            "ENDPAD         O        \t O\n",
            "ENDPAD         O        \t O\n",
            "ENDPAD         O        \t O\n",
            "ENDPAD         O        \t O\n",
            "ENDPAD         O        \t O\n",
            "ENDPAD         O        \t O\n",
            "ENDPAD         O        \t O\n",
            "ENDPAD         O        \t O\n",
            "ENDPAD         O        \t O\n",
            "ENDPAD         O        \t O\n",
            "ENDPAD         O        \t O\n",
            "ENDPAD         O        \t O\n",
            "ENDPAD         O        \t O\n",
            "ENDPAD         O        \t O\n",
            "ENDPAD         O        \t O\n",
            "ENDPAD         O        \t O\n",
            "ENDPAD         O        \t O\n",
            "ENDPAD         O        \t O\n",
            "ENDPAD         O        \t O\n",
            "ENDPAD         O        \t O\n",
            "ENDPAD         O        \t O\n",
            "ENDPAD         O        \t O\n",
            "ENDPAD         O        \t O\n",
            "ENDPAD         O        \t O\n",
            "ENDPAD         O        \t O\n",
            "ENDPAD         O        \t O\n",
            "ENDPAD         O        \t O\n",
            "ENDPAD         O        \t O\n",
            "ENDPAD         O        \t O\n",
            "ENDPAD         O        \t O\n",
            "ENDPAD         O        \t O\n",
            "ENDPAD         O        \t O\n",
            "ENDPAD         O        \t O\n",
            "ENDPAD         O        \t O\n",
            "ENDPAD         O        \t O\n",
            "ENDPAD         O        \t O\n",
            "ENDPAD         O        \t O\n",
            "ENDPAD         O        \t O\n",
            "ENDPAD         O        \t O\n",
            "ENDPAD         O        \t O\n",
            "ENDPAD         O        \t O\n",
            "ENDPAD         O        \t O\n",
            "ENDPAD         O        \t O\n",
            "ENDPAD         O        \t O\n",
            "ENDPAD         O        \t O\n",
            "ENDPAD         O        \t O\n",
            "ENDPAD         O        \t O\n",
            "ENDPAD         O        \t O\n",
            "ENDPAD         O        \t O\n",
            "ENDPAD         O        \t O\n",
            "ENDPAD         O        \t O\n",
            "ENDPAD         O        \t O\n",
            "ENDPAD         O        \t O\n",
            "ENDPAD         O        \t O\n",
            "ENDPAD         O        \t O\n",
            "ENDPAD         O        \t O\n",
            "ENDPAD         O        \t O\n",
            "ENDPAD         O        \t O\n",
            "ENDPAD         O        \t O\n"
          ]
        }
      ]
    },
    {
      "cell_type": "code",
      "metadata": {
        "colab": {
          "base_uri": "https://localhost:8080/"
        },
        "id": "bMHoDel8H-ww",
        "outputId": "98448a47-6284-422a-be70-85e3bfa22c6c"
      },
      "source": [
        "res = model.predict(np.array(X_test[i: i+2]))\n",
        "res.shape"
      ],
      "execution_count": 52,
      "outputs": [
        {
          "output_type": "execute_result",
          "data": {
            "text/plain": [
              "(2, 150, 5)"
            ]
          },
          "metadata": {},
          "execution_count": 52
        }
      ]
    }
  ]
}